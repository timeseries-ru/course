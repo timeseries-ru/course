{
 "cells": [
  {
   "cell_type": "markdown",
   "metadata": {},
   "source": [
    "# Сборник полезных рецептов\n",
    "\n",
    "Эта тетрадка - набор \"рецептов\" в виде кода, который свободно можно использовать в своих проектах. Необязательно делать так же - но в случае затруднений сюда можно подглядывать. Кроме того, эта тетрадка организована блоками по порядку исследований, не каждый блок кода будет нужен в каждом исследовании, но какие-то могут быть полезны."
   ]
  },
  {
   "cell_type": "code",
   "execution_count": 1,
   "metadata": {},
   "outputs": [],
   "source": [
    "%matplotlib inline\n",
    "import warnings\n",
    "warnings.filterwarnings('ignore')\n",
    "\n",
    "import numpy as np\n",
    "import pandas as pd\n",
    "import matplotlib.pyplot as plt\n",
    "import seaborn as sns"
   ]
  },
  {
   "cell_type": "markdown",
   "metadata": {},
   "source": [
    "## 1. Загрузка данных"
   ]
  },
  {
   "cell_type": "code",
   "execution_count": 2,
   "metadata": {},
   "outputs": [
    {
     "data": {
      "text/html": [
       "<div>\n",
       "<style scoped>\n",
       "    .dataframe tbody tr th:only-of-type {\n",
       "        vertical-align: middle;\n",
       "    }\n",
       "\n",
       "    .dataframe tbody tr th {\n",
       "        vertical-align: top;\n",
       "    }\n",
       "\n",
       "    .dataframe thead th {\n",
       "        text-align: right;\n",
       "    }\n",
       "</style>\n",
       "<table border=\"1\" class=\"dataframe\">\n",
       "  <thead>\n",
       "    <tr style=\"text-align: right;\">\n",
       "      <th></th>\n",
       "      <th>date</th>\n",
       "      <th>number</th>\n",
       "      <th>value</th>\n",
       "      <th>target</th>\n",
       "      <th>group</th>\n",
       "    </tr>\n",
       "  </thead>\n",
       "  <tbody>\n",
       "    <tr>\n",
       "      <th>0</th>\n",
       "      <td>2020-01-01</td>\n",
       "      <td>1</td>\n",
       "      <td>3.108266</td>\n",
       "      <td>12.747804</td>\n",
       "      <td>1</td>\n",
       "    </tr>\n",
       "    <tr>\n",
       "      <th>1</th>\n",
       "      <td>2020-01-02</td>\n",
       "      <td>2</td>\n",
       "      <td>3.074249</td>\n",
       "      <td>12.504289</td>\n",
       "      <td>1</td>\n",
       "    </tr>\n",
       "    <tr>\n",
       "      <th>2</th>\n",
       "      <td>2020-01-03</td>\n",
       "      <td>3</td>\n",
       "      <td>2.383530</td>\n",
       "      <td>8.029174</td>\n",
       "      <td>1</td>\n",
       "    </tr>\n",
       "    <tr>\n",
       "      <th>3</th>\n",
       "      <td>2020-01-04</td>\n",
       "      <td>4</td>\n",
       "      <td>-1.415908</td>\n",
       "      <td>0.638435</td>\n",
       "      <td>0</td>\n",
       "    </tr>\n",
       "    <tr>\n",
       "      <th>4</th>\n",
       "      <td>2020-01-05</td>\n",
       "      <td>5</td>\n",
       "      <td>-2.715844</td>\n",
       "      <td>4.631055</td>\n",
       "      <td>0</td>\n",
       "    </tr>\n",
       "  </tbody>\n",
       "</table>\n",
       "</div>"
      ],
      "text/plain": [
       "        date  number     value     target  group\n",
       "0 2020-01-01       1  3.108266  12.747804      1\n",
       "1 2020-01-02       2  3.074249  12.504289      1\n",
       "2 2020-01-03       3  2.383530   8.029174      1\n",
       "3 2020-01-04       4 -1.415908   0.638435      0\n",
       "4 2020-01-05       5 -2.715844   4.631055      0"
      ]
     },
     "execution_count": 2,
     "metadata": {},
     "output_type": "execute_result"
    }
   ],
   "source": [
    "dataframe = pd.read_csv(\n",
    "    'data/synthetic_data.csv',\n",
    "    sep=';', # разделитель колонок\n",
    "    decimal=',', # разделитель дробей у чисел\n",
    "    parse_dates=['date'], # у какой колонки разбирать даты\n",
    "    dayfirst=True, # первым в дате идёт номер дня\n",
    "    header=0 # первая строка - заголовки\n",
    ")\n",
    "\n",
    "dataframe.head()"
   ]
  },
  {
   "cell_type": "code",
   "execution_count": 3,
   "metadata": {},
   "outputs": [
    {
     "data": {
      "text/plain": [
       "date      datetime64[ns]\n",
       "number             int64\n",
       "value            float64\n",
       "target           float64\n",
       "group              int64\n",
       "dtype: object"
      ]
     },
     "execution_count": 3,
     "metadata": {},
     "output_type": "execute_result"
    }
   ],
   "source": [
    "dataframe.dtypes"
   ]
  },
  {
   "cell_type": "markdown",
   "metadata": {},
   "source": [
    "Аналогично можно поступить и с Excel-файлами (при наличии некоторых предустановленных библиотек по типу `xlrd` - если их нет, будет ошибка)."
   ]
  },
  {
   "cell_type": "code",
   "execution_count": 4,
   "metadata": {},
   "outputs": [
    {
     "data": {
      "text/html": [
       "<div>\n",
       "<style scoped>\n",
       "    .dataframe tbody tr th:only-of-type {\n",
       "        vertical-align: middle;\n",
       "    }\n",
       "\n",
       "    .dataframe tbody tr th {\n",
       "        vertical-align: top;\n",
       "    }\n",
       "\n",
       "    .dataframe thead th {\n",
       "        text-align: right;\n",
       "    }\n",
       "</style>\n",
       "<table border=\"1\" class=\"dataframe\">\n",
       "  <thead>\n",
       "    <tr style=\"text-align: right;\">\n",
       "      <th></th>\n",
       "      <th>date</th>\n",
       "      <th>number</th>\n",
       "      <th>value</th>\n",
       "      <th>target</th>\n",
       "      <th>group</th>\n",
       "    </tr>\n",
       "  </thead>\n",
       "  <tbody>\n",
       "    <tr>\n",
       "      <th>0</th>\n",
       "      <td>2020-01-01</td>\n",
       "      <td>1</td>\n",
       "      <td>3.108266</td>\n",
       "      <td>12.794800</td>\n",
       "      <td>1</td>\n",
       "    </tr>\n",
       "    <tr>\n",
       "      <th>1</th>\n",
       "      <td>2020-01-02</td>\n",
       "      <td>2</td>\n",
       "      <td>3.074249</td>\n",
       "      <td>12.475463</td>\n",
       "      <td>1</td>\n",
       "    </tr>\n",
       "    <tr>\n",
       "      <th>2</th>\n",
       "      <td>2020-01-03</td>\n",
       "      <td>3</td>\n",
       "      <td>2.383530</td>\n",
       "      <td>8.073523</td>\n",
       "      <td>1</td>\n",
       "    </tr>\n",
       "    <tr>\n",
       "      <th>3</th>\n",
       "      <td>2020-01-04</td>\n",
       "      <td>4</td>\n",
       "      <td>-1.415908</td>\n",
       "      <td>0.627951</td>\n",
       "      <td>0</td>\n",
       "    </tr>\n",
       "    <tr>\n",
       "      <th>4</th>\n",
       "      <td>2020-01-05</td>\n",
       "      <td>5</td>\n",
       "      <td>-2.715844</td>\n",
       "      <td>4.657414</td>\n",
       "      <td>0</td>\n",
       "    </tr>\n",
       "  </tbody>\n",
       "</table>\n",
       "</div>"
      ],
      "text/plain": [
       "        date  number     value     target  group\n",
       "0 2020-01-01       1  3.108266  12.794800      1\n",
       "1 2020-01-02       2  3.074249  12.475463      1\n",
       "2 2020-01-03       3  2.383530   8.073523      1\n",
       "3 2020-01-04       4 -1.415908   0.627951      0\n",
       "4 2020-01-05       5 -2.715844   4.657414      0"
      ]
     },
     "execution_count": 4,
     "metadata": {},
     "output_type": "execute_result"
    }
   ],
   "source": [
    "dataframe = pd.read_excel('data/synthetic_data.xlsx', sheet_name='data')\n",
    "dataframe.head()"
   ]
  },
  {
   "cell_type": "code",
   "execution_count": 5,
   "metadata": {},
   "outputs": [
    {
     "name": "stdout",
     "output_type": "stream",
     "text": [
      "<class 'pandas.core.frame.DataFrame'>\n",
      "RangeIndex: 60 entries, 0 to 59\n",
      "Data columns (total 5 columns):\n",
      "date      60 non-null datetime64[ns]\n",
      "number    60 non-null int64\n",
      "value     60 non-null float64\n",
      "target    60 non-null float64\n",
      "group     60 non-null int64\n",
      "dtypes: datetime64[ns](1), float64(2), int64(2)\n",
      "memory usage: 2.5 KB\n"
     ]
    }
   ],
   "source": [
    "dataframe.info()"
   ]
  },
  {
   "cell_type": "markdown",
   "metadata": {},
   "source": [
    "Чтение текстового файла чуть-чуть посложнее."
   ]
  },
  {
   "cell_type": "code",
   "execution_count": 6,
   "metadata": {},
   "outputs": [
    {
     "data": {
      "text/plain": [
       "['date;number;value;target;group',\n",
       " '01.01.2020;1;3,108266118;12,74780383;1',\n",
       " '02.01.2020;2;3,07424866;12,50428892;1',\n",
       " '03.01.2020;3;2,383530311;8,029174103;1']"
      ]
     },
     "execution_count": 6,
     "metadata": {},
     "output_type": "execute_result"
    }
   ],
   "source": [
    "with open('data/synthetic_data.csv', 'r', encoding='utf-8') as fd:\n",
    "    content = fd.read()\n",
    "\n",
    "content.split()[:4]"
   ]
  },
  {
   "cell_type": "markdown",
   "metadata": {},
   "source": [
    "## 2. Разведочный анализ"
   ]
  },
  {
   "cell_type": "code",
   "execution_count": 7,
   "metadata": {},
   "outputs": [
    {
     "data": {
      "text/html": [
       "<div>\n",
       "<style scoped>\n",
       "    .dataframe tbody tr th:only-of-type {\n",
       "        vertical-align: middle;\n",
       "    }\n",
       "\n",
       "    .dataframe tbody tr th {\n",
       "        vertical-align: top;\n",
       "    }\n",
       "\n",
       "    .dataframe thead th {\n",
       "        text-align: right;\n",
       "    }\n",
       "</style>\n",
       "<table border=\"1\" class=\"dataframe\">\n",
       "  <thead>\n",
       "    <tr style=\"text-align: right;\">\n",
       "      <th></th>\n",
       "      <th>date</th>\n",
       "      <th>number</th>\n",
       "      <th>value</th>\n",
       "      <th>target</th>\n",
       "      <th>group</th>\n",
       "    </tr>\n",
       "  </thead>\n",
       "  <tbody>\n",
       "    <tr>\n",
       "      <th>count</th>\n",
       "      <td>60</td>\n",
       "      <td>60.000000</td>\n",
       "      <td>60.000000</td>\n",
       "      <td>60.000000</td>\n",
       "      <td>60.000000</td>\n",
       "    </tr>\n",
       "    <tr>\n",
       "      <th>unique</th>\n",
       "      <td>60</td>\n",
       "      <td>NaN</td>\n",
       "      <td>NaN</td>\n",
       "      <td>NaN</td>\n",
       "      <td>NaN</td>\n",
       "    </tr>\n",
       "    <tr>\n",
       "      <th>top</th>\n",
       "      <td>2020-01-23 00:00:00</td>\n",
       "      <td>NaN</td>\n",
       "      <td>NaN</td>\n",
       "      <td>NaN</td>\n",
       "      <td>NaN</td>\n",
       "    </tr>\n",
       "    <tr>\n",
       "      <th>freq</th>\n",
       "      <td>1</td>\n",
       "      <td>NaN</td>\n",
       "      <td>NaN</td>\n",
       "      <td>NaN</td>\n",
       "      <td>NaN</td>\n",
       "    </tr>\n",
       "    <tr>\n",
       "      <th>first</th>\n",
       "      <td>2020-01-01 00:00:00</td>\n",
       "      <td>NaN</td>\n",
       "      <td>NaN</td>\n",
       "      <td>NaN</td>\n",
       "      <td>NaN</td>\n",
       "    </tr>\n",
       "    <tr>\n",
       "      <th>last</th>\n",
       "      <td>2020-02-29 00:00:00</td>\n",
       "      <td>NaN</td>\n",
       "      <td>NaN</td>\n",
       "      <td>NaN</td>\n",
       "      <td>NaN</td>\n",
       "    </tr>\n",
       "    <tr>\n",
       "      <th>mean</th>\n",
       "      <td>NaN</td>\n",
       "      <td>30.500000</td>\n",
       "      <td>1.083285</td>\n",
       "      <td>7.137988</td>\n",
       "      <td>0.766667</td>\n",
       "    </tr>\n",
       "    <tr>\n",
       "      <th>std</th>\n",
       "      <td>NaN</td>\n",
       "      <td>17.464249</td>\n",
       "      <td>2.228289</td>\n",
       "      <td>4.982911</td>\n",
       "      <td>0.426522</td>\n",
       "    </tr>\n",
       "    <tr>\n",
       "      <th>min</th>\n",
       "      <td>NaN</td>\n",
       "      <td>1.000000</td>\n",
       "      <td>-2.999931</td>\n",
       "      <td>-0.256627</td>\n",
       "      <td>0.000000</td>\n",
       "    </tr>\n",
       "    <tr>\n",
       "      <th>25%</th>\n",
       "      <td>NaN</td>\n",
       "      <td>15.750000</td>\n",
       "      <td>-0.787103</td>\n",
       "      <td>1.982625</td>\n",
       "      <td>1.000000</td>\n",
       "    </tr>\n",
       "    <tr>\n",
       "      <th>50%</th>\n",
       "      <td>NaN</td>\n",
       "      <td>30.500000</td>\n",
       "      <td>2.196329</td>\n",
       "      <td>7.037532</td>\n",
       "      <td>1.000000</td>\n",
       "    </tr>\n",
       "    <tr>\n",
       "      <th>75%</th>\n",
       "      <td>NaN</td>\n",
       "      <td>45.250000</td>\n",
       "      <td>3.028939</td>\n",
       "      <td>12.214287</td>\n",
       "      <td>1.000000</td>\n",
       "    </tr>\n",
       "    <tr>\n",
       "      <th>max</th>\n",
       "      <td>NaN</td>\n",
       "      <td>60.000000</td>\n",
       "      <td>3.124952</td>\n",
       "      <td>12.927017</td>\n",
       "      <td>1.000000</td>\n",
       "    </tr>\n",
       "  </tbody>\n",
       "</table>\n",
       "</div>"
      ],
      "text/plain": [
       "                       date     number      value     target      group\n",
       "count                    60  60.000000  60.000000  60.000000  60.000000\n",
       "unique                   60        NaN        NaN        NaN        NaN\n",
       "top     2020-01-23 00:00:00        NaN        NaN        NaN        NaN\n",
       "freq                      1        NaN        NaN        NaN        NaN\n",
       "first   2020-01-01 00:00:00        NaN        NaN        NaN        NaN\n",
       "last    2020-02-29 00:00:00        NaN        NaN        NaN        NaN\n",
       "mean                    NaN  30.500000   1.083285   7.137988   0.766667\n",
       "std                     NaN  17.464249   2.228289   4.982911   0.426522\n",
       "min                     NaN   1.000000  -2.999931  -0.256627   0.000000\n",
       "25%                     NaN  15.750000  -0.787103   1.982625   1.000000\n",
       "50%                     NaN  30.500000   2.196329   7.037532   1.000000\n",
       "75%                     NaN  45.250000   3.028939  12.214287   1.000000\n",
       "max                     NaN  60.000000   3.124952  12.927017   1.000000"
      ]
     },
     "execution_count": 7,
     "metadata": {},
     "output_type": "execute_result"
    }
   ],
   "source": [
    "# описательные статистики\n",
    "dataframe.describe(include='all')"
   ]
  },
  {
   "cell_type": "code",
   "execution_count": 8,
   "metadata": {},
   "outputs": [
    {
     "data": {
      "text/html": [
       "<div>\n",
       "<style scoped>\n",
       "    .dataframe tbody tr th:only-of-type {\n",
       "        vertical-align: middle;\n",
       "    }\n",
       "\n",
       "    .dataframe tbody tr th {\n",
       "        vertical-align: top;\n",
       "    }\n",
       "\n",
       "    .dataframe thead th {\n",
       "        text-align: right;\n",
       "    }\n",
       "</style>\n",
       "<table border=\"1\" class=\"dataframe\">\n",
       "  <thead>\n",
       "    <tr style=\"text-align: right;\">\n",
       "      <th></th>\n",
       "      <th>count</th>\n",
       "      <th>mean</th>\n",
       "      <th>std</th>\n",
       "      <th>min</th>\n",
       "      <th>25%</th>\n",
       "      <th>50%</th>\n",
       "      <th>75%</th>\n",
       "      <th>max</th>\n",
       "    </tr>\n",
       "  </thead>\n",
       "  <tbody>\n",
       "    <tr>\n",
       "      <th>number</th>\n",
       "      <td>60.0</td>\n",
       "      <td>30.500000</td>\n",
       "      <td>17.464249</td>\n",
       "      <td>1.000000</td>\n",
       "      <td>15.750000</td>\n",
       "      <td>30.500000</td>\n",
       "      <td>45.250000</td>\n",
       "      <td>60.000000</td>\n",
       "    </tr>\n",
       "    <tr>\n",
       "      <th>value</th>\n",
       "      <td>60.0</td>\n",
       "      <td>1.083285</td>\n",
       "      <td>2.228289</td>\n",
       "      <td>-2.999931</td>\n",
       "      <td>-0.787103</td>\n",
       "      <td>2.196329</td>\n",
       "      <td>3.028939</td>\n",
       "      <td>3.124952</td>\n",
       "    </tr>\n",
       "    <tr>\n",
       "      <th>target</th>\n",
       "      <td>60.0</td>\n",
       "      <td>7.137988</td>\n",
       "      <td>4.982911</td>\n",
       "      <td>-0.256627</td>\n",
       "      <td>1.982625</td>\n",
       "      <td>7.037532</td>\n",
       "      <td>12.214287</td>\n",
       "      <td>12.927017</td>\n",
       "    </tr>\n",
       "    <tr>\n",
       "      <th>group</th>\n",
       "      <td>60.0</td>\n",
       "      <td>0.766667</td>\n",
       "      <td>0.426522</td>\n",
       "      <td>0.000000</td>\n",
       "      <td>1.000000</td>\n",
       "      <td>1.000000</td>\n",
       "      <td>1.000000</td>\n",
       "      <td>1.000000</td>\n",
       "    </tr>\n",
       "  </tbody>\n",
       "</table>\n",
       "</div>"
      ],
      "text/plain": [
       "        count       mean        std       min        25%        50%  \\\n",
       "number   60.0  30.500000  17.464249  1.000000  15.750000  30.500000   \n",
       "value    60.0   1.083285   2.228289 -2.999931  -0.787103   2.196329   \n",
       "target   60.0   7.137988   4.982911 -0.256627   1.982625   7.037532   \n",
       "group    60.0   0.766667   0.426522  0.000000   1.000000   1.000000   \n",
       "\n",
       "              75%        max  \n",
       "number  45.250000  60.000000  \n",
       "value    3.028939   3.124952  \n",
       "target  12.214287  12.927017  \n",
       "group    1.000000   1.000000  "
      ]
     },
     "execution_count": 8,
     "metadata": {},
     "output_type": "execute_result"
    }
   ],
   "source": [
    "# если колонок много, эту таблицу удобно транспонировать\n",
    "# без include='all' будут показаны только числовые колонки\n",
    "dataframe.describe().T"
   ]
  },
  {
   "cell_type": "code",
   "execution_count": 9,
   "metadata": {},
   "outputs": [
    {
     "data": {
      "text/plain": [
       "array([1, 0], dtype=int64)"
      ]
     },
     "execution_count": 9,
     "metadata": {},
     "output_type": "execute_result"
    }
   ],
   "source": [
    "# выбор уникальных значений\n",
    "pd.unique(dataframe.group)"
   ]
  },
  {
   "cell_type": "code",
   "execution_count": 10,
   "metadata": {},
   "outputs": [
    {
     "data": {
      "text/plain": [
       "1    46\n",
       "0    14\n",
       "Name: group, dtype: int64"
      ]
     },
     "execution_count": 10,
     "metadata": {},
     "output_type": "execute_result"
    }
   ],
   "source": [
    "# подсчет количества уникальных\n",
    "pd.value_counts(dataframe.group)"
   ]
  },
  {
   "cell_type": "markdown",
   "metadata": {},
   "source": [
    "Основное что не следует забывать в разведочном анализе - это отсмотреть распределение как минимум целевой величины."
   ]
  },
  {
   "cell_type": "code",
   "execution_count": 11,
   "metadata": {},
   "outputs": [
    {
     "data": {
      "image/png": "[encoded data removed]",
      "text/plain": [
       "<Figure size 432x288 with 1 Axes>"
      ]
     },
     "metadata": {
      "filenames": {
       "image/png": "D:\\workspace\\course\\_build\\jupyter_execute\\recipes_book_16_0.png"
      },
      "needs_background": "light"
     },
     "output_type": "display_data"
    }
   ],
   "source": [
    "sns.distplot(\n",
    "    dataframe.value,\n",
    "    label='VALUE'\n",
    ")\n",
    "\n",
    "sns.distplot(\n",
    "    dataframe.target,\n",
    "    hist=True, # отображать столбчатую диаграмму\n",
    "    kde=True, # отображать оценку плотности линией\n",
    "    label='TARGET',\n",
    "    color='red'\n",
    ")\n",
    "\n",
    "# точка с запятой в конце вывода графики нужна, чтобы \n",
    "# не отображать объект диаграммы в выводе ячейки\n",
    "plt.legend(loc='best');"
   ]
  },
  {
   "cell_type": "code",
   "execution_count": 12,
   "metadata": {},
   "outputs": [
    {
     "data": {
      "image/png": "[encoded data removed]",
      "text/plain": [
       "<Figure size 432x288 with 1 Axes>"
      ]
     },
     "metadata": {
      "filenames": {
       "image/png": "D:\\workspace\\course\\_build\\jupyter_execute\\recipes_book_17_0.png"
      },
      "needs_background": "light"
     },
     "output_type": "display_data"
    }
   ],
   "source": [
    "plt.title('Точечная диаграмма')\n",
    "sns.scatterplot(x=\"value\", y=\"target\", hue=\"group\", data=dataframe);"
   ]
  },
  {
   "cell_type": "code",
   "execution_count": 13,
   "metadata": {},
   "outputs": [
    {
     "data": {
      "image/png": "[encoded data removed]",
      "text/plain": [
       "<Figure size 432x288 with 1 Axes>"
      ]
     },
     "metadata": {
      "filenames": {
       "image/png": "D:\\workspace\\course\\_build\\jupyter_execute\\recipes_book_18_0.png"
      },
      "needs_background": "light"
     },
     "output_type": "display_data"
    }
   ],
   "source": [
    "plt.title('Диаграмма по времени')\n",
    "sns.lineplot(x=\"date\", y=\"value\", data=dataframe, label=\"value\")\n",
    "sns.lineplot(x=\"date\", y=\"target\", data=dataframe, label=\"target\")\n",
    "\n",
    "# метод форматирования отображения дат для get current figure (gcf)\n",
    "plt.gcf().autofmt_xdate();"
   ]
  },
  {
   "cell_type": "code",
   "execution_count": 14,
   "metadata": {},
   "outputs": [
    {
     "data": {
      "image/png": "[encoded data removed]",
      "text/plain": [
       "<Figure size 402.375x360 with 6 Axes>"
      ]
     },
     "metadata": {
      "filenames": {
       "image/png": "D:\\workspace\\course\\_build\\jupyter_execute\\recipes_book_19_0.png"
      },
      "needs_background": "light"
     },
     "output_type": "display_data"
    }
   ],
   "source": [
    "# ну и конечно же попарные диаграммы\n",
    "sns.pairplot(\n",
    "    hue='group',\n",
    "    data=dataframe,\n",
    "    # выбрать только конкретные колонки\n",
    "    vars=['value', 'target']\n",
    ");"
   ]
  },
  {
   "cell_type": "markdown",
   "metadata": {},
   "source": [
    "## 3. Подготовка данных"
   ]
  },
  {
   "cell_type": "code",
   "execution_count": 15,
   "metadata": {},
   "outputs": [
    {
     "data": {
      "text/html": [
       "<div>\n",
       "<style scoped>\n",
       "    .dataframe tbody tr th:only-of-type {\n",
       "        vertical-align: middle;\n",
       "    }\n",
       "\n",
       "    .dataframe tbody tr th {\n",
       "        vertical-align: top;\n",
       "    }\n",
       "\n",
       "    .dataframe thead th {\n",
       "        text-align: right;\n",
       "    }\n",
       "</style>\n",
       "<table border=\"1\" class=\"dataframe\">\n",
       "  <thead>\n",
       "    <tr style=\"text-align: right;\">\n",
       "      <th></th>\n",
       "      <th>date</th>\n",
       "      <th>number</th>\n",
       "      <th>value</th>\n",
       "      <th>target</th>\n",
       "      <th>group</th>\n",
       "    </tr>\n",
       "  </thead>\n",
       "  <tbody>\n",
       "    <tr>\n",
       "      <th>14</th>\n",
       "      <td>2020-01-15</td>\n",
       "      <td>15</td>\n",
       "      <td>3.105115</td>\n",
       "      <td>12.718258</td>\n",
       "      <td>1</td>\n",
       "    </tr>\n",
       "    <tr>\n",
       "      <th>9</th>\n",
       "      <td>2020-01-10</td>\n",
       "      <td>10</td>\n",
       "      <td>-0.223981</td>\n",
       "      <td>-0.215765</td>\n",
       "      <td>1</td>\n",
       "    </tr>\n",
       "  </tbody>\n",
       "</table>\n",
       "</div>"
      ],
      "text/plain": [
       "         date  number     value     target  group\n",
       "14 2020-01-15      15  3.105115  12.718258      1\n",
       "9  2020-01-10      10 -0.223981  -0.215765      1"
      ]
     },
     "execution_count": 15,
     "metadata": {},
     "output_type": "execute_result"
    }
   ],
   "source": [
    "# заполнение пропусков в колонке средним значением\n",
    "dataframe['group'] = dataframe['group'].fillna('mean')\n",
    "\n",
    "# заполнение пропусков в колонке нулем\n",
    "dataframe['group'] = dataframe['group'].fillna(0)\n",
    "\n",
    "# удаление всех строк с пропущенными значениями\n",
    "dataframe = dataframe.dropna()\n",
    "\n",
    "# удаление всех колонок с пропущенными значениями\n",
    "dataframe = dataframe.dropna(axis='columns')\n",
    "\n",
    "# случайная выборка из набора данных\n",
    "dataframe.sample(2)"
   ]
  },
  {
   "cell_type": "code",
   "execution_count": 16,
   "metadata": {},
   "outputs": [
    {
     "data": {
      "text/plain": [
       "count    60.000000\n",
       "mean      6.315458\n",
       "std       5.672449\n",
       "min      -0.256627\n",
       "25%       0.000000\n",
       "50%       7.037532\n",
       "75%      12.214287\n",
       "max      12.927017\n",
       "Name: function, dtype: float64"
      ]
     },
     "execution_count": 16,
     "metadata": {},
     "output_type": "execute_result"
    }
   ],
   "source": [
    "# добавление новой колонки как функции двух других\n",
    "dataframe['function'] = dataframe['target'] * dataframe['group']\n",
    "dataframe['function'].describe()"
   ]
  },
  {
   "cell_type": "code",
   "execution_count": 17,
   "metadata": {},
   "outputs": [
    {
     "data": {
      "text/plain": [
       "Index(['date', 'number', 'value', 'target', 'group'], dtype='object')"
      ]
     },
     "execution_count": 17,
     "metadata": {},
     "output_type": "execute_result"
    }
   ],
   "source": [
    "# удаление колонки\n",
    "dataframe = dataframe.drop('function', axis='columns')\n",
    "dataframe.columns"
   ]
  },
  {
   "cell_type": "markdown",
   "metadata": {},
   "source": [
    "Перейдем к `numpy`-массивам."
   ]
  },
  {
   "cell_type": "code",
   "execution_count": 18,
   "metadata": {},
   "outputs": [
    {
     "name": "stdout",
     "output_type": "stream",
     "text": [
      "X shape (60, 2)\n",
      "y shape (60,)\n",
      "z shape (60,)\n"
     ]
    }
   ],
   "source": [
    "X = dataframe[['number', 'value']].values\n",
    "y = dataframe['target'].values\n",
    "z = dataframe['group'].values\n",
    "\n",
    "print('X shape', X.shape)\n",
    "print('y shape', y.shape)\n",
    "print('z shape', z.shape)"
   ]
  },
  {
   "cell_type": "code",
   "execution_count": 19,
   "metadata": {},
   "outputs": [
    {
     "name": "stdout",
     "output_type": "stream",
     "text": [
      "X train shape: (48, 2) X test shape: (12, 2)\n",
      "y train shape: (48,) y test shape: (12,)\n",
      "z train shape: (48,) z test shape: (12,)\n"
     ]
    }
   ],
   "source": [
    "from sklearn.model_selection import train_test_split\n",
    "\n",
    "X_train, X_test, y_train, y_test, z_train, z_test, indices_train, indices_test = train_test_split(\n",
    "    X, y, z, dataframe.index, # z, index, и даже y - необязательно, то есть можно X_train, X_test = train_test_split(X, random_state=...)\n",
    "    random_state=1, # зафиксируем генератор случайных чисел для воспроизводимости\n",
    "    test_size=0.2, # 20% тестовое множество\n",
    ")\n",
    "\n",
    "print('X train shape:', X_train.shape, 'X test shape:', X_test.shape)\n",
    "print('y train shape:', y_train.shape, 'y test shape:', y_test.shape)\n",
    "print('z train shape:', z_train.shape, 'z test shape:', z_test.shape)"
   ]
  },
  {
   "cell_type": "code",
   "execution_count": 20,
   "metadata": {},
   "outputs": [
    {
     "data": {
      "text/plain": [
       "array([[0., 1.],\n",
       "       [0., 1.]])"
      ]
     },
     "execution_count": 20,
     "metadata": {},
     "output_type": "execute_result"
    }
   ],
   "source": [
    "# кодировщик, который кодирует категориальные переменные векторами из 1 и 0\n",
    "from sklearn.preprocessing import OneHotEncoder\n",
    "\n",
    "# поскольку категории заранее известны, подгонять можно на всём множестве\n",
    "encoder = OneHotEncoder(\n",
    "    sparse=False # скажем не использовать разреженные матрицы\n",
    ").fit(z.reshape(-1, 1))\n",
    "encoder.transform(z.reshape(-1, 1))[0:2]"
   ]
  },
  {
   "cell_type": "code",
   "execution_count": 21,
   "metadata": {},
   "outputs": [
    {
     "data": {
      "text/plain": [
       "array([[ 0.63064449,  0.92912419],\n",
       "       [ 0.74317585, -1.62187547]])"
      ]
     },
     "execution_count": 21,
     "metadata": {},
     "output_type": "execute_result"
    }
   ],
   "source": [
    "# кодировщик, который для числовых переменных вычитает среднее и делит на разброс\n",
    "from sklearn.preprocessing import StandardScaler  \n",
    "\n",
    "# числовые кодировщики следует настраивать на тренировочном множестве\n",
    "scaler = StandardScaler().fit(X_train)\n",
    "scaler.transform(X_test)[0:2]"
   ]
  },
  {
   "cell_type": "code",
   "execution_count": 22,
   "metadata": {},
   "outputs": [
    {
     "data": {
      "text/plain": [
       "array([[-1.10292301, -0.21105702],\n",
       "       [ 0.62133446,  1.67234382]])"
      ]
     },
     "execution_count": 22,
     "metadata": {},
     "output_type": "execute_result"
    }
   ],
   "source": [
    "# так можно делать \"пайплайны\" - цепочки преобразований\n",
    "\n",
    "from sklearn.pipeline import make_pipeline\n",
    "from sklearn.decomposition import PCA\n",
    "\n",
    "pipeline = make_pipeline(\n",
    "    StandardScaler(),\n",
    "    PCA(n_components=2, random_state=1)\n",
    ")\n",
    "\n",
    "pipeline.fit(X_train)\n",
    "pipeline.transform(X_test[0:2])"
   ]
  },
  {
   "cell_type": "code",
   "execution_count": 23,
   "metadata": {},
   "outputs": [
    {
     "data": {
      "text/plain": [
       "array([[-1.04498878,  0.93186548],\n",
       "       [ 2.91454463, -1.15589149]])"
      ]
     },
     "execution_count": 23,
     "metadata": {},
     "output_type": "execute_result"
    }
   ],
   "source": [
    "# при желании, можно добавить колонку\n",
    "# и подогнать и преобразовать сразу\n",
    "\n",
    "transformed = pipeline.fit_transform(np.column_stack([\n",
    "    X_train, encoder.transform(z_train.reshape(-1, 1))\n",
    "]))\n",
    "\n",
    "transformed[0:2]"
   ]
  },
  {
   "cell_type": "code",
   "execution_count": 24,
   "metadata": {},
   "outputs": [
    {
     "data": {
      "text/plain": [
       "Pipeline(steps=[('polynomialfeatures', PolynomialFeatures()),\n",
       "                ('standardscaler', StandardScaler())])"
      ]
     },
     "execution_count": 24,
     "metadata": {},
     "output_type": "execute_result"
    }
   ],
   "source": [
    "# есть и другие интересные препроцессоры\n",
    "from sklearn.preprocessing import PolynomialFeatures\n",
    "\n",
    "pipeline = make_pipeline(\n",
    "    PolynomialFeatures(degree=2, include_bias=True, interaction_only=False),\n",
    "    StandardScaler()\n",
    ")\n",
    "\n",
    "pipeline.fit(X_train)"
   ]
  },
  {
   "cell_type": "markdown",
   "metadata": {},
   "source": [
    "## 4. Построение моделей"
   ]
  },
  {
   "cell_type": "code",
   "execution_count": 25,
   "metadata": {},
   "outputs": [],
   "source": [
    "from sklearn.linear_model import LinearRegression\n",
    "from sklearn.linear_model import LogisticRegression\n",
    "from sklearn.cluster import KMeans\n",
    "\n",
    "from sklearn.metrics import r2_score, mean_absolute_error, confusion_matrix, silhouette_score"
   ]
  },
  {
   "cell_type": "markdown",
   "metadata": {},
   "source": [
    "Для `scikit-learn` всё достаточно просто. **fit-predict-score** :)"
   ]
  },
  {
   "cell_type": "code",
   "execution_count": 26,
   "metadata": {},
   "outputs": [
    {
     "data": {
      "text/plain": [
       "'R2 test score 1.000'"
      ]
     },
     "execution_count": 26,
     "metadata": {},
     "output_type": "execute_result"
    }
   ],
   "source": [
    "linear = LinearRegression().fit(\n",
    "    pipeline.transform(X_train), y_train\n",
    ")\n",
    "\n",
    "\"R2 test score %.3f\" % linear.score(pipeline.transform(X_test), y_test)"
   ]
  },
  {
   "cell_type": "code",
   "execution_count": 27,
   "metadata": {},
   "outputs": [
    {
     "data": {
      "text/plain": [
       "'MAE test 0.039'"
      ]
     },
     "execution_count": 27,
     "metadata": {},
     "output_type": "execute_result"
    }
   ],
   "source": [
    "\"MAE test %.3f\" % mean_absolute_error(y_test, linear.predict(pipeline.transform(X_test)))"
   ]
  },
  {
   "cell_type": "code",
   "execution_count": 28,
   "metadata": {},
   "outputs": [
    {
     "data": {
      "text/plain": [
       "'Test set accuracy 1.000'"
      ]
     },
     "execution_count": 28,
     "metadata": {},
     "output_type": "execute_result"
    }
   ],
   "source": [
    "logistic = LogisticRegression(random_state=1).fit(\n",
    "    X_train, z_train\n",
    ")\n",
    "\n",
    "\"Test set accuracy %.3f\" % logistic.score(X_test, z_test)"
   ]
  },
  {
   "cell_type": "code",
   "execution_count": 29,
   "metadata": {},
   "outputs": [
    {
     "data": {
      "text/plain": [
       "array([[3, 0],\n",
       "       [0, 9]], dtype=int64)"
      ]
     },
     "execution_count": 29,
     "metadata": {},
     "output_type": "execute_result"
    }
   ],
   "source": [
    "confusion_matrix(logistic.predict(X_test), z_test)"
   ]
  },
  {
   "cell_type": "code",
   "execution_count": 30,
   "metadata": {},
   "outputs": [
    {
     "data": {
      "text/plain": [
       "'silhouette score 0.369'"
      ]
     },
     "execution_count": 30,
     "metadata": {},
     "output_type": "execute_result"
    }
   ],
   "source": [
    "clusterer = KMeans(n_clusters=2).fit(pipeline.transform(X))\n",
    "\"silhouette score %.3f\" % silhouette_score(\n",
    "    pipeline.transform(X),\n",
    "    clusterer.labels_\n",
    ")"
   ]
  },
  {
   "cell_type": "markdown",
   "metadata": {},
   "source": [
    "## 5. Визуализация прогнозов"
   ]
  },
  {
   "cell_type": "code",
   "execution_count": 31,
   "metadata": {},
   "outputs": [
    {
     "data": {
      "image/png": "[encoded data removed]",
      "text/plain": [
       "<Figure size 432x288 with 1 Axes>"
      ]
     },
     "metadata": {
      "filenames": {
       "image/png": "D:\\workspace\\course\\_build\\jupyter_execute\\recipes_book_41_0.png"
      },
      "needs_background": "light"
     },
     "output_type": "display_data"
    }
   ],
   "source": [
    "plt.title('Сравнение распределений')\n",
    "sns.distplot(y_test, hist=False)\n",
    "sns.distplot(linear.predict(pipeline.transform(X_test)), hist=False);"
   ]
  },
  {
   "cell_type": "code",
   "execution_count": 32,
   "metadata": {},
   "outputs": [
    {
     "data": {
      "image/png": "[encoded data removed]",
      "text/plain": [
       "<Figure size 720x288 with 1 Axes>"
      ]
     },
     "metadata": {
      "filenames": {
       "image/png": "D:\\workspace\\course\\_build\\jupyter_execute\\recipes_book_42_0.png"
      },
      "needs_background": "light"
     },
     "output_type": "display_data"
    }
   ],
   "source": [
    "# у пайплайна возможно перечислить все его компоненты\n",
    "featurer = pipeline.steps[0][1]\n",
    "\n",
    "plt.figure(figsize=(10, 4))\n",
    "plt.title('Влияние нормированных признаков на отклик')\n",
    "plt.bar(featurer.get_feature_names(), linear.coef_);"
   ]
  },
  {
   "cell_type": "code",
   "execution_count": 33,
   "metadata": {},
   "outputs": [
    {
     "data": {
      "image/png": "[encoded data removed]",
      "text/plain": [
       "<Figure size 432x288 with 1 Axes>"
      ]
     },
     "metadata": {
      "filenames": {
       "image/png": "D:\\workspace\\course\\_build\\jupyter_execute\\recipes_book_43_0.png"
      },
      "needs_background": "light"
     },
     "output_type": "display_data"
    }
   ],
   "source": [
    "# еще барчарт\n",
    "plt.bar(pd.unique(clusterer.labels_).astype(str), pd.value_counts(clusterer.labels_), color=['steelblue', 'lightgray']);"
   ]
  },
  {
   "cell_type": "code",
   "execution_count": 34,
   "metadata": {},
   "outputs": [
    {
     "data": {
      "image/png": "[encoded data removed]",
      "text/plain": [
       "<Figure size 432x288 with 2 Axes>"
      ]
     },
     "metadata": {
      "filenames": {
       "image/png": "D:\\workspace\\course\\_build\\jupyter_execute\\recipes_book_44_0.png"
      },
      "needs_background": "light"
     },
     "output_type": "display_data"
    }
   ],
   "source": [
    "plt.title('Красивая матрица несоответствий')\n",
    "sns.heatmap(confusion_matrix(logistic.predict(X_test), z_test), annot=True);"
   ]
  },
  {
   "cell_type": "code",
   "execution_count": 35,
   "metadata": {},
   "outputs": [
    {
     "data": {
      "image/png": "[encoded data removed]",
      "text/plain": [
       "<Figure size 576x288 with 2 Axes>"
      ]
     },
     "metadata": {
      "filenames": {
       "image/png": "D:\\workspace\\course\\_build\\jupyter_execute\\recipes_book_45_0.png"
      },
      "needs_background": "light"
     },
     "output_type": "display_data"
    }
   ],
   "source": [
    "plt.figure(figsize=(8, 4))\n",
    "plt.subplot(1, 2, 1)\n",
    "plt.title('True groups')\n",
    "plt.scatter(\n",
    "    X_test[:, 0],\n",
    "    X_test[:, 1],\n",
    "    c=z_test\n",
    ")\n",
    "plt.subplot(1, 2, 2)\n",
    "plt.title('Predicted groups')\n",
    "plt.scatter(\n",
    "    X_test[:, 0],\n",
    "    X_test[:, 1],\n",
    "    c=logistic.predict(X_test)\n",
    ");"
   ]
  },
  {
   "cell_type": "code",
   "execution_count": 36,
   "metadata": {},
   "outputs": [
    {
     "data": {
      "image/png": "[encoded data removed]",
      "text/plain": [
       "<Figure size 432x288 with 1 Axes>"
      ]
     },
     "metadata": {
      "filenames": {
       "image/png": "D:\\workspace\\course\\_build\\jupyter_execute\\recipes_book_46_0.png"
      },
      "needs_background": "light"
     },
     "output_type": "display_data"
    }
   ],
   "source": [
    "plt.title('Clustered groups')\n",
    "\n",
    "plt.plot(\n",
    "    dataframe.date,\n",
    "    dataframe.target,\n",
    "    ls='--'\n",
    ")\n",
    "plt.scatter(\n",
    "    dataframe.date,\n",
    "    dataframe.target,\n",
    "    c=[\n",
    "        'red' if cluster == 0 else 'green' \\\n",
    "        for cluster in clusterer.labels_\n",
    "    ]\n",
    ")\n",
    "plt.gcf().autofmt_xdate()\n",
    "\n",
    "# очень полезная команда - сжимает отступы у графиков\n",
    "plt.tight_layout();"
   ]
  },
  {
   "cell_type": "markdown",
   "metadata": {},
   "source": [
    "---\n",
    "**Удачи с проектами!**"
   ]
  }
 ],
 "metadata": {
  "kernelspec": {
   "display_name": "py35",
   "language": "python",
   "name": "py35"
  },
  "language_info": {
   "codemirror_mode": {
    "name": "ipython",
    "version": 3
   },
   "file_extension": ".py",
   "mimetype": "text/x-python",
   "name": "python",
   "nbconvert_exporter": "python",
   "pygments_lexer": "ipython3",
   "version": "3.6.6"
  }
 },
 "nbformat": 4,
 "nbformat_minor": 4
}