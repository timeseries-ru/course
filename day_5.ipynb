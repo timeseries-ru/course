{
 "cells": [
  {
   "cell_type": "markdown",
   "metadata": {},
   "source": [
    "# День пятый - интерпретация, внедрение и другие темы\n",
    "\n",
    "Сегодня нас ждут:\n",
    "- некоторые методы локальной интерпретации\n",
    "- как создать веб-сервис на `flask`, как сохранить и загрузить модель\n",
    "- презентация `jupyter notebooks` на `voila` и немного `streamlit`\n",
    "- элементы мониторинга после внедрения\n",
    "\n",
    "факультативно:\n",
    "- немного о вероятностном программировании\n",
    "- вариационные автокодировщики (будем генерировать картинки)."
   ]
  },
  {
   "cell_type": "markdown",
   "metadata": {},
   "source": [
    "## 5.1 Методы интерпретации\n",
    "\n",
    "Как ранее уже упоминалось, методы интерпретации модели могут быть глобальными (как важность признаков у деревьев), а могут быть локальными, то есть теми, которые объясняют почему предсказание для конкретного примера именно такое.\n",
    "\n",
    "Сейчас мы рассмотрим библиотеку `shap` (`SHapely Additive exPlanations`, где в названии, *Shapely* - это фамилия), которая такие предсказания и позволяет делать. И делает это она благодаря некоторым результатам из теории игр.\n",
    "\n",
    "Представим себе признаки как игроков, а результат \"игры\" - это предсказание модели для этих признаков (разово). Тогда `shap` позволяет судить о вкладе каждого игрока в \"выигрыш\" (предсказание) - для этого рассматривается каждый поднабор из всех признаков (сочетания), от нуля признаков до всех. При добавлении признака в набор, он даёт некоторый вклад (эффект) в предсказание. Все эффекты для вхождений каждого признака количественно взвешиваются, они есть итоговый эффект каждого признака.\n",
    "\n",
    "А теперь представьте что у нас (всего) 10 признаков, это означает что нам надо перебрать `2**10` моделей (с различными наборами признаков). Мы, конечно, этим заниматься не будем, и благодаря библиотеке `shap`, умеющей во всевозможные оптимизации подобных вычислений и прочие ухищрения, всё получается быстрее."
   ]
  },
  {
   "cell_type": "code",
   "execution_count": 1,
   "metadata": {},
   "outputs": [
    {
     "data": {
      "text/html": [
       "<div>\n",
       "<style scoped>\n",
       "    .dataframe tbody tr th:only-of-type {\n",
       "        vertical-align: middle;\n",
       "    }\n",
       "\n",
       "    .dataframe tbody tr th {\n",
       "        vertical-align: top;\n",
       "    }\n",
       "\n",
       "    .dataframe thead th {\n",
       "        text-align: right;\n",
       "    }\n",
       "</style>\n",
       "<table border=\"1\" class=\"dataframe\">\n",
       "  <thead>\n",
       "    <tr style=\"text-align: right;\">\n",
       "      <th></th>\n",
       "      <th>sex</th>\n",
       "      <th>length</th>\n",
       "      <th>diameter</th>\n",
       "      <th>height</th>\n",
       "      <th>whole weight</th>\n",
       "      <th>shucked weight</th>\n",
       "      <th>viscera weight</th>\n",
       "      <th>shell weight</th>\n",
       "      <th>rings</th>\n",
       "    </tr>\n",
       "  </thead>\n",
       "  <tbody>\n",
       "    <tr>\n",
       "      <th>401</th>\n",
       "      <td>1</td>\n",
       "      <td>0.515</td>\n",
       "      <td>0.455</td>\n",
       "      <td>0.135</td>\n",
       "      <td>0.7225</td>\n",
       "      <td>0.2950</td>\n",
       "      <td>0.1625</td>\n",
       "      <td>0.235</td>\n",
       "      <td>9</td>\n",
       "    </tr>\n",
       "    <tr>\n",
       "      <th>2198</th>\n",
       "      <td>2</td>\n",
       "      <td>0.270</td>\n",
       "      <td>0.190</td>\n",
       "      <td>0.080</td>\n",
       "      <td>0.0810</td>\n",
       "      <td>0.0265</td>\n",
       "      <td>0.0195</td>\n",
       "      <td>0.030</td>\n",
       "      <td>6</td>\n",
       "    </tr>\n",
       "    <tr>\n",
       "      <th>809</th>\n",
       "      <td>0</td>\n",
       "      <td>0.520</td>\n",
       "      <td>0.410</td>\n",
       "      <td>0.115</td>\n",
       "      <td>0.8070</td>\n",
       "      <td>0.2855</td>\n",
       "      <td>0.1790</td>\n",
       "      <td>0.235</td>\n",
       "      <td>12</td>\n",
       "    </tr>\n",
       "  </tbody>\n",
       "</table>\n",
       "</div>"
      ],
      "text/plain": [
       "      sex  length  diameter  height  whole weight  shucked weight  \\\n",
       "401     1   0.515     0.455   0.135        0.7225          0.2950   \n",
       "2198    2   0.270     0.190   0.080        0.0810          0.0265   \n",
       "809     0   0.520     0.410   0.115        0.8070          0.2855   \n",
       "\n",
       "      viscera weight  shell weight  rings  \n",
       "401           0.1625         0.235      9  \n",
       "2198          0.0195         0.030      6  \n",
       "809           0.1790         0.235     12  "
      ]
     },
     "execution_count": 1,
     "metadata": {},
     "output_type": "execute_result"
    }
   ],
   "source": [
    "%matplotlib inline\n",
    "\n",
    "from warnings import filterwarnings\n",
    "filterwarnings('ignore')\n",
    "\n",
    "import numpy as np\n",
    "import pandas as pd\n",
    "import matplotlib.pyplot as plt\n",
    "import seaborn as sns\n",
    "\n",
    "# загрузим датасет ракушек\n",
    "data = pd.read_csv('data/abalone.csv')\n",
    "\n",
    "# немного препроцессинга\n",
    "# будем отличать только взрослых от детей!\n",
    "\n",
    "data['sex'] = data.sex.apply(lambda sex: {\n",
    "    'F': 0, 'M': 1, 'I': 2\n",
    "}[sex])\n",
    "\n",
    "data.sample(3)"
   ]
  },
  {
   "cell_type": "code",
   "execution_count": 2,
   "metadata": {},
   "outputs": [],
   "source": [
    "import shap"
   ]
  },
  {
   "cell_type": "markdown",
   "metadata": {},
   "source": [
    "Библиотека `shap` может объяснять модели на базе деревьев (`TreeExplainer`), линейные (`LinearExplainer`, требуются независимые - они же несвязанные - признаки), нейронные сети `keras` (`DeepExplainer`), а также произвольные модели (`KernelExplainer`) - но увы весьма медленно.\n",
    "\n",
    "На данный момент, `TreeExplainer` не умеет в мультикласс, поэтом в этих случаях надо пользоваться универсальным `KernelExplainer`, и следует отметить, что он требует чтобы у модели был метод `predict_proba` (предсказывает вероятность - или уверенность - в классе). Таким методом обладают, например, все деревья.\n",
    "\n",
    "Мы же пока тем временем попробуем объяснить результаты работы регрессора."
   ]
  },
  {
   "cell_type": "code",
   "execution_count": 3,
   "metadata": {},
   "outputs": [
    {
     "name": "stdout",
     "output_type": "stream",
     "text": [
      "test score 0.361\n"
     ]
    }
   ],
   "source": [
    "from sklearn.ensemble import GradientBoostingRegressor\n",
    "from sklearn.utils import shuffle\n",
    "\n",
    "# отложим 100 сэмплов\n",
    "indices = shuffle(list(range(len(data))), random_state=1)\n",
    "train = indices[:-100]\n",
    "test = indices[-100:]\n",
    "\n",
    "regressor = GradientBoostingRegressor(\n",
    "    n_estimators=15, max_depth=7, random_state=1\n",
    ").fit(data.iloc[train,:-1], data.iloc[train, -1])\n",
    "\n",
    "print(\"test score %.3f\" % regressor.score(\n",
    "    data.iloc[test,:-1], data.iloc[test, -1]\n",
    "))\n",
    "\n",
    "explainer = shap.TreeExplainer(regressor, data=data.iloc[test, :-1])\n",
    "shap_values_test = explainer.shap_values(data.iloc[test, :-1]);"
   ]
  },
  {
   "cell_type": "code",
   "execution_count": 4,
   "metadata": {},
   "outputs": [
    {
     "name": "stdout",
     "output_type": "stream",
     "text": [
      "True rings value for first test sample = 11\n"
     ]
    }
   ],
   "source": [
    "print('True rings value for first test sample = %d' % data.iloc[test[0], -1])"
   ]
  },
  {
   "cell_type": "code",
   "execution_count": 5,
   "metadata": {},
   "outputs": [
    {
     "data": {
      "image/png": "[encoded data removed]",
      "text/plain": [
       "<Figure size 1440x216 with 1 Axes>"
      ]
     },
     "metadata": {
      "needs_background": "light"
     },
     "output_type": "display_data"
    }
   ],
   "source": [
    "shap.force_plot(explainer.expected_value, shap_values_test[0], data.iloc[test[0],:-1], matplotlib=True)"
   ]
  },
  {
   "cell_type": "markdown",
   "metadata": {},
   "source": [
    "На это диаграмме красным - то что добавило нам колец, а синим - то, что (для этой ракушки) убавило. Причем подписано сколько колец добавлено/убавлено. Лично я считаю, что для регрессии подобные объяснения очень наглядны. \n",
    "\n",
    "Для классификации есть же нечто, скажем так, поинтереснее, а именно `Alibi Trust Scores` - уровни доверия. Это мера соответствия между предсказанным классом, и тем, какие ближайшие соседи у этого класса. Условно, если предсказанный класс примера находится рядом с множеством подобных - тем больше мы можем верить предсказанию. А если не условно, то это по аналогии с `silhoutte_score` - отношение между расстоянием до ближайшего класса, отличного от предсказанного, к расстоянию до предсказанного класса. Следовательно, если эта величина больше 1, и чем она вообще больше, тем больше доверия к предсказанию."
   ]
  },
  {
   "cell_type": "code",
   "execution_count": 6,
   "metadata": {},
   "outputs": [
    {
     "name": "stdout",
     "output_type": "stream",
     "text": [
      "test score 0.580\n"
     ]
    }
   ],
   "source": [
    "from sklearn.ensemble import GradientBoostingClassifier\n",
    "\n",
    "classifier = GradientBoostingClassifier(\n",
    "    n_estimators=15, max_depth=3, random_state=1\n",
    ").fit(data.iloc[train,1:], data.iloc[train, 0])\n",
    "\n",
    "print(\"test score %.3f\" % classifier.score(\n",
    "    data.iloc[test,1:], data.iloc[test, 0]\n",
    "))"
   ]
  },
  {
   "cell_type": "code",
   "execution_count": 7,
   "metadata": {},
   "outputs": [],
   "source": [
    "from alibi.confidence import TrustScore\n",
    "ts = TrustScore(\n",
    "    # тут могут быть настройки, но мы\n",
    "    # оставим всё по умолчанию\n",
    ")\n",
    "\n",
    "ts.fit(\n",
    "    data.iloc[train,1:].values,\n",
    "    data.iloc[train, 0].values,\n",
    "    classes=3\n",
    ")"
   ]
  },
  {
   "cell_type": "code",
   "execution_count": 8,
   "metadata": {},
   "outputs": [
    {
     "name": "stdout",
     "output_type": "stream",
     "text": [
      "True class 0, predicted 2\n",
      "Proba 0.330, TrustScore 0.745, closest class 0\n"
     ]
    }
   ],
   "source": [
    "predicted = classifier.predict([data.iloc[test[0], 1:]])[0]\n",
    "print(\"True class %d, predicted %d\" % (\n",
    "    data.iloc[test[0], 0],\n",
    "    predicted\n",
    "))\n",
    "\n",
    "trust_scores, closest_classes = ts.score(\n",
    "    np.array([data.iloc[test[0], 1:]]),\n",
    "    np.array([predicted])\n",
    ")\n",
    "\n",
    "print(\"Proba %.3f, TrustScore %.3f, closest class %d\" % (\n",
    "    classifier.predict_proba(\n",
    "        data.iloc[test[0], 1:].values.reshape(1, -1)\n",
    "    )[0][0],\n",
    "    trust_scores[0], closest_classes[0]\n",
    "))"
   ]
  },
  {
   "cell_type": "markdown",
   "metadata": {},
   "source": [
    "Тут видим, `trust score < 1` , и ближайший класс точнее. Впрочем, здесь и вероятность предсказания не самая высокая (да и классификатор так себе).\n",
    "\n",
    "А сейчас мы рассмотрим технику, которая позволяет одновременно отбирать признаки и строить некоторую интерпретацию вида \"мы тут можем ошибаться на столько-то\" (*model perfomance prediction*). Нужно построить регрессор (в случае классификации - классификатор), который будет обучен (на отложенной валидации, поскольку стэкинг) предсказывать ошибки алгоритма.\n",
    "\n",
    "Посмотрим на эту позаимствованную (получается уже трижды) картинку.\n",
    "![MPP](media/mpp.png)"
   ]
  },
  {
   "cell_type": "code",
   "execution_count": 9,
   "metadata": {},
   "outputs": [
    {
     "name": "stdout",
     "output_type": "stream",
     "text": [
      "simple: r2 0.497, acc 0.540\n"
     ]
    }
   ],
   "source": [
    "# data = pd.read_csv('data/abalone.csv')\n",
    "# data = pd.get_dummies(data.sex).join(data.drop('sex', axis='columns'))\n",
    "\n",
    "indices = shuffle(list(range(len(data))), random_state=1)\n",
    "train = indices[:-1000]\n",
    "val = indices[-1000:-500]\n",
    "test = indices[-500:]\n",
    "\n",
    "from sklearn.linear_model import Ridge, LogisticRegression\n",
    "from sklearn.preprocessing import PolynomialFeatures, PowerTransformer\n",
    "from sklearn.pipeline import make_pipeline\n",
    "\n",
    "preprocessor_regression = make_pipeline(PowerTransformer(), PolynomialFeatures(degree=3))\n",
    "X_regression_train = preprocessor_regression.fit_transform(data.iloc[train,1:-1])\n",
    "X_regression_val = preprocessor_regression.transform(data.iloc[val,1:-1])\n",
    "X_regression_test = preprocessor_regression.transform(data.iloc[test,1:-1])\n",
    "\n",
    "preprocessor_classification = make_pipeline(PowerTransformer(), PolynomialFeatures(degree=3))\n",
    "X_classification_train = preprocessor_classification.fit_transform(data.iloc[train,1:])\n",
    "X_classification_val = preprocessor_classification.transform(data.iloc[val,1:])\n",
    "X_classification_test = preprocessor_classification.transform(data.iloc[test,1:])\n",
    "\n",
    "regressor = Ridge(random_state=1).fit(\n",
    "    X_regression_train, data.iloc[train, -1]\n",
    ")\n",
    "\n",
    "classifier = LogisticRegression(random_state=1).fit(\n",
    "    X_classification_train, data.iloc[train, 0]\n",
    ")\n",
    "\n",
    "print(\"simple: r2 %.3f, acc %.3f\" % (\n",
    "    regressor.score(X_regression_test, data.iloc[test, -1]),\n",
    "    classifier.score(X_classification_test, data.iloc[test, 0])\n",
    "))"
   ]
  },
  {
   "cell_type": "code",
   "execution_count": 10,
   "metadata": {},
   "outputs": [],
   "source": [
    "from sklearn.ensemble import GradientBoostingRegressor, GradientBoostingClassifier\n",
    "\n",
    "def get_error_models(regression_features, classifier_features):\n",
    "    error_regressor = GradientBoostingRegressor(\n",
    "        n_estimators=30, max_depth=3, random_state=1\n",
    "    ).fit(\n",
    "        X_regression_val[:, regression_features],\n",
    "        np.abs(\n",
    "            regressor.predict(X_regression_val[:, regression_features]) - data.iloc[val,-1]\n",
    "        )\n",
    "    )\n",
    "\n",
    "    error_classifier = GradientBoostingClassifier(\n",
    "        n_estimators=30, max_depth=3, random_state=1\n",
    "    ).fit(\n",
    "        X_classification_val[:, classifier_features],\n",
    "        (\n",
    "            classifier.predict(X_classification_val[:, classifier_features]) != data.iloc[val,0]\n",
    "        ).astype(int)\n",
    "    )\n",
    "    return error_regressor, error_classifier\n",
    "\n",
    "error_regressor, error_classifier = get_error_models(\n",
    "    regression_features=slice(None),\n",
    "    classifier_features=slice(None)\n",
    ")"
   ]
  },
  {
   "cell_type": "markdown",
   "metadata": {},
   "source": [
    "Мы получили регрессор ошибки и классификатор ошибки. Их можно использовать и для отбора признаков (в обоих случаях уберем несколько неважных признаков и посмотрим), и для проверки корректности предсказания."
   ]
  },
  {
   "cell_type": "code",
   "execution_count": 11,
   "metadata": {},
   "outputs": [
    {
     "name": "stdout",
     "output_type": "stream",
     "text": [
      "selected: r2 0.512, acc 0.556\n"
     ]
    }
   ],
   "source": [
    "redundand = 40\n",
    "\n",
    "regressor_features = np.argsort(error_regressor.feature_importances_)[redundand:]\n",
    "classifier_features = np.argsort(error_classifier.feature_importances_)[redundand:]\n",
    "\n",
    "regressor = Ridge(random_state=1).fit(\n",
    "    X_regression_train[:, regressor_features], \n",
    "    data.iloc[train, -1]\n",
    ")\n",
    "\n",
    "classifier = LogisticRegression(random_state=1).fit(\n",
    "    X_classification_train[:, classifier_features],\n",
    "    data.iloc[train, :1]\n",
    ")\n",
    "\n",
    "print(\"selected: r2 %.3f, acc %.3f\" % (\n",
    "    regressor.score(X_regression_test[:, regressor_features], data.iloc[test, -1]),\n",
    "    classifier.score(X_classification_test[:, classifier_features], data.iloc[test,0])\n",
    "))"
   ]
  },
  {
   "cell_type": "markdown",
   "metadata": {},
   "source": [
    "В данном случае мы убрали признаки, которые давали *наименьший вклад в объяснение ошибки*. Это означает, что они имеют слабое влияния на то, как предсказывает изначальная модель. Давайте посмотрим на ошибку предсказания для конкретного примера."
   ]
  },
  {
   "cell_type": "code",
   "execution_count": 12,
   "metadata": {},
   "outputs": [
    {
     "name": "stdout",
     "output_type": "stream",
     "text": [
      "regression: True 8, Predicted 9.58, error 1.220\n",
      "classification: True 2, Predicted 1, is error 1\n"
     ]
    }
   ],
   "source": [
    "error_regressor, error_classifier = get_error_models(\n",
    "    regressor_features, classifier_features\n",
    ")\n",
    "\n",
    "print(\"regression: True %d, Predicted %.2f, error %.3f\" % (\n",
    "    data.iloc[test[0], -1],\n",
    "    regressor.predict([X_regression_test[0, regressor_features]])[0],\n",
    "    error_regressor.predict([X_regression_test[0, regressor_features]])[0]\n",
    "))\n",
    "\n",
    "print(\"classification: True %s, Predicted %s, is error %s\" % (\n",
    "    str(data.iloc[test[0], 0].astype(int)),\n",
    "    str(classifier.predict([X_classification_test[0, classifier_features]])[0]),\n",
    "    str(error_classifier.predict([X_classification_test[0, classifier_features]])[0])\n",
    "))"
   ]
  },
  {
   "cell_type": "markdown",
   "metadata": {},
   "source": [
    "## В качестве заключения\n",
    "\n",
    "Не всегда модели всё делают автоматически (вместо людей). Часто, и особенно на сложных производствах - модели лишь рекомендуют некоторый режим или настройки технологических процессов. И когда человек принимает решение в конкретный момент времени, ему хотелось бы знать, почему именно такое предсказание выдала модель, потому что \"черным ящикам\" не доверяют - несмотря на все метрики и кросс-валидации (так устроен человек). Поэтому если есть объяснение предсказанию, или степень уверенности - это важная дополнительная информация для человека, который будет принимать решение."
   ]
  },
  {
   "cell_type": "markdown",
   "metadata": {},
   "source": [
    "## 5.2 Развертывание моделей\n",
    "\n",
    "После создания модели, хотелось бы её применять. Очень часто модели оформляют в виде *микросервисов* - то есть обособленного приложения (или веб-приложения), которому на вход подаются признаки, а на выходе оно отдаёт предсказание. Преимущество такого подхода очевидно - мы можем подставить более лучшую модель, например, не изменяя всех остальных частей сайта, настольного или мобильного приложения.\n",
    "\n",
    "Веб-сервис - это некоторая программа, которая принимает по протоколу `HTTP`/`HTTPS` в некотором формате (обычно `JSON` - `JavaScript Object Notation`) входные данные, и в том же формате их отдает. Но для начала, модель необходимо *сериализовать* (сохранить например в файл), а при запуске сервиса - *десериализовать* (загрузить из файла).\n",
    "\n",
    "Модели `scikit-learn` могут быть сериализованы встроенными средствами python - модулем `pickle`, который умеет сохранять python-объекты в файл. Для `keras` необходимо использовать методы `save`/`load`.\n",
    "\n",
    "```python\n",
    "\n",
    "model = keras.Model()\n",
    "filepath = 'path/to/filename.h5'\n",
    "\n",
    "# ...\n",
    "\n",
    "# метод save\n",
    "model.save(filepath)\n",
    "\n",
    "model = keras.models.load_model(filepath)\n",
    "```\n",
    "\n",
    "В четвертом дне был пример загрузки модели для `keras`, мы рассмотрим пример для `scikit-learn`, и возьмем датасет нарисованных чисел. В нём 10 цифр по около 180 раз, размером 8х8."
   ]
  },
  {
   "cell_type": "code",
   "execution_count": 13,
   "metadata": {},
   "outputs": [
    {
     "data": {
      "image/png": "[encoded data removed]",
      "text/plain": [
       "<Figure size 432x288 with 1 Axes>"
      ]
     },
     "metadata": {
      "needs_background": "light"
     },
     "output_type": "display_data"
    }
   ],
   "source": [
    "from sklearn.datasets import load_digits\n",
    "\n",
    "X, y = shuffle(*load_digits(return_X_y=True), random_state=1)\n",
    "\n",
    "plt.title(\"This is number %d\" % y[0])\n",
    "plt.imshow(X[0].reshape(8, 8), cmap='gray');"
   ]
  },
  {
   "cell_type": "code",
   "execution_count": 14,
   "metadata": {},
   "outputs": [
    {
     "data": {
      "text/plain": [
       "16.0"
      ]
     },
     "execution_count": 14,
     "metadata": {},
     "output_type": "execute_result"
    }
   ],
   "source": [
    "X.max()"
   ]
  },
  {
   "cell_type": "code",
   "execution_count": 15,
   "metadata": {},
   "outputs": [
    {
     "data": {
      "text/plain": [
       "'Accuracy score 0.958'"
      ]
     },
     "execution_count": 15,
     "metadata": {},
     "output_type": "execute_result"
    }
   ],
   "source": [
    "from sklearn.neural_network import MLPClassifier\n",
    "\n",
    "def preprocess_samples(samples):\n",
    "    return samples / X.max()\n",
    "\n",
    "train = int(len(y) * 0.8)\n",
    "\n",
    "digitizer = MLPClassifier([32, 16], random_state=1).fit(\n",
    "    preprocess_samples(X[:train]), y[:train]\n",
    ")\n",
    "\n",
    "\"Accuracy score %.3f\" % digitizer.score(\n",
    "    preprocess_samples(X[train:]), y[train:]\n",
    ")"
   ]
  },
  {
   "cell_type": "code",
   "execution_count": 16,
   "metadata": {},
   "outputs": [],
   "source": [
    "# теперь сохраним всё в файл\n",
    "import pickle\n",
    "\n",
    "with open('models/digitizer.pickle', 'wb') as fd:\n",
    "    # wb - write binary\n",
    "    pickle.dump({\n",
    "        'scale': X.max(),\n",
    "        'model': digitizer\n",
    "    }, file=fd)"
   ]
  },
  {
   "cell_type": "markdown",
   "metadata": {},
   "source": [
    "Сервер выглядит вот так (код можно найти в `code/digitzer_service.py`).\n",
    "\n",
    "```python\n",
    "from flask import Flask, request, jsonify\n",
    "app = Flask(__name__)\n",
    "\n",
    "import pickle\n",
    "with open('../models/digitizer.pickle', 'rb') as fd:\n",
    "    methods = pickle.load(fd)\n",
    "    \n",
    "scale = methods['scale']\n",
    "model = methods['model']\n",
    "\n",
    "import numpy as np\n",
    "from json import loads\n",
    "\n",
    "@app.route('/', methods=['POST'])\n",
    "def index():\n",
    "    data = loads(request.json)\n",
    "    result = {\n",
    "        'prediction': int(\n",
    "            model.predict(\n",
    "                np.array([data]).astype(float) / scale\n",
    "            )[0]\n",
    "        )\n",
    "    }\n",
    "    return jsonify(result)\n",
    "\n",
    "# файл запустили напрямую\n",
    "if __name__ == '__main__':\n",
    "    app.run(host='localhost', port=5555, debug=True)\n",
    "\n",
    "```\n",
    "\n",
    "Его необходимо запустить отдельно (например через `python3 digitizer_service.py`), чтобы протестировать."
   ]
  },
  {
   "cell_type": "code",
   "execution_count": 17,
   "metadata": {},
   "outputs": [
    {
     "data": {
      "text/plain": [
       "({'prediction': 5}, {'true label': 5})"
      ]
     },
     "execution_count": 17,
     "metadata": {},
     "output_type": "execute_result"
    }
   ],
   "source": [
    "import json, requests\n",
    "\n",
    "response = requests.post('http://localhost:5555/', json=json.dumps(X[-1].tolist()))\n",
    "json.loads(response.content), {'true label': y[-1]}"
   ]
  },
  {
   "cell_type": "markdown",
   "metadata": {},
   "source": [
    "## Заключение\n",
    "\n",
    "Это далеко не всё из того, как можно было бы делать - но вполне себе начало. Благодаря HTTP-запросам, можно обращаться к модели откуда угодно, хоть из браузера (из адресной строки он отправляет `GET`-запрос). Аналогично, микросервис может быть просто `.bat`-файлом - в случае ОС Windows - который запустит python-скрипт, который в свою очередь уже всё сделает. Однако это менее производительный метод, так как каждый раз будет загружаться модель."
   ]
  },
  {
   "cell_type": "markdown",
   "metadata": {},
   "source": [
    "## 5.3 Презентация моделей\n",
    "\n",
    "Мы рассмотрим два метода - `voila` и `streamlit`.\n",
    "\n",
    "- `voila` - это пакет, позволяющий одной командой запустить `jupyter notebook` (без отображения кода по умолчанию) как интерактивную веб-страницу,\n",
    "- `streamlit` - это пакет, позволяющий без помощи `jupyter` создавать интерактивные веб-страницы с помощью скриптов прямо на `python`.\n",
    "\n",
    "Если первый метод прост, то второй метод - это вполне себе замена `jupyter notebooks`, и в последнее время всё более распространяется среди аналитиков данных. По-крайней мере для целей презентации результатов уж точно.\n",
    "\n",
    "Загляните в директорию `code` - там есть тетрадка под названием `voila_example.ipynb`, её можно запустить с помощью команды `voila code/voila_example.ipynb`. Обратите внимание, что интерактивные виджеты в ней так же будут работать."
   ]
  },
  {
   "cell_type": "markdown",
   "metadata": {},
   "source": [
    "Выглядеть это будет примерно так.\n",
    "\n",
    "![voiled](media/voila_example.png)\n",
    "\n",
    "А теперь откройте файл `code/streamlit_example.py` - и запустите его командой `streamlit run code/streamlit_example.py`"
   ]
  },
  {
   "cell_type": "markdown",
   "metadata": {},
   "source": [
    "И выглядеть это будет около того.\n",
    "\n",
    "![streamlited](media/streamlit_example.png)"
   ]
  },
  {
   "cell_type": "markdown",
   "metadata": {},
   "source": [
    "## Заключение\n",
    "\n",
    "Если python - не особо большая проблема - очень рекомендую пользоваться `streamlit` - у него в арсенале не только всевозможные элементы управления (чекбоксы, слайдеры, кнопки и др.), но и всевозможные способы отображения данных: таблицы, множество диаграмм (не только `matplotlib`!), встроена возможность отображать географические карты, и многое-многое другое.\n",
    "\n",
    "Если надо быстро и просто - можно пользоваться `voila`."
   ]
  },
  {
   "cell_type": "markdown",
   "metadata": {},
   "source": [
    "## 5.4 A/B-тестирование\n",
    "\n",
    "Представьте, что вы создали и развернули модель, но пока не запустили. Когда запустите, будет ли известно, стало лучше или нет? Правильный ответ на этот вопрос - зависит от того, как часто она будет срабатывать по отношению к имеющемуся процессу.\n",
    "\n",
    "Представим, у нас есть процесс определения сорта ириса на глаз, и с помощью модели. \n",
    "\n",
    "> Нельзя сравнивать бизнес-метрики ДО и ПОСЛЕ запуска модели! Можно только С и БЕЗ модели!\n",
    "\n",
    "Это правило на самом деле из управления реальными инвестиционными проектами. Неправильно задаваться вопросом, лучше ли будет после реализации проекта или нет - правильно задаваться вопросом, будет ли лучше с проектом? Эффект от проекта - это как раз разница между ситуациями \"с проектом\" и \"без проекта\".\n",
    "\n",
    "С моделями аналогично: `эффект от модели = эффект с моделью - эффект без модели.`\n",
    "\n",
    "Но что, если мы не знаем какой будет эффект с моделью? Мы можем выделить некоторое подмножество примеров в процессе, которые будут обрабатываться моделью, а остальные как прежде. Те, которые будут обрабатываться как прежде - называются **контрольной группой**, а те что по-новому - **тестовой группой**. Поэтому и A/B-тестирование (хотя бывает еще и A/B/C- и A/B/C/D... - и с этим всё немного сложнее, и нужно реже).\n",
    "\n",
    "Поскольку тестовая и контрольная группа по размерам могут быть (и обычно) разные, мы не можем напрямую сравнивать количество или даже процент ошибок."
   ]
  },
  {
   "cell_type": "code",
   "execution_count": 18,
   "metadata": {},
   "outputs": [
    {
     "name": "stdout",
     "output_type": "stream",
     "text": [
      "error rate control 0.20, test 0.19\n"
     ]
    }
   ],
   "source": [
    "control_size = 1000\n",
    "control_errors = 200\n",
    "\n",
    "test_size = 200\n",
    "test_errors = 38\n",
    "\n",
    "print(\"error rate control %.2f, test %.2f\" % (\n",
    "    control_errors / control_size, test_errors / test_size\n",
    "))"
   ]
  },
  {
   "cell_type": "markdown",
   "metadata": {},
   "source": [
    "В таком виде делать заключение - это практически наугад, так как на маленькой выборке (тестовой в данном случае) - было мало данных, и мало ли какие хорошие или плохие они там были (то есть выборка могла быть *нерепрезентативной*).\n",
    "\n",
    "Сейчас сделаем Байесовский калькулятор, который скажет, какой вариант всё же лучше. Почему Байесовский? Потому что в Байесовском подходе ответ - это распределение величин, а не точечные оценки (\"да\", или \"12.5\"). А на распределениях можно будет уже навести некоторую аналитику.\n",
    "\n",
    "Чтобы её сделать, мы должны найти распределение самой вероятности ошибки, то есть рассмотреть процент ошибок как случайную величину.\n",
    "\n",
    "К счастью, из теории вероятностей мы можем узнать, что для принимающих 0 или 1 значения случайных величин (Бернулли) с вероятностью 1 равной `q`, для этой самой `q` существует сопряженное двупараметрическое распределение (*Beta-распределение*), такое что его `среднее = количество ошибок / (количество ошибок + количество правильных)`. Вот количество ошибок и количество правильных - есть его параметры `alpha` и `beta`.\n",
    "\n",
    "Иначе говоря, процент ошибки здесь распределен как `Beta(errors, correct)`. Сопряженное распределение - это значит что после применения теоремы Байеса, мы получим то же распределение, только с другими параметрами. Это очень замечательно, ведь нам не придется вычислять напрямую, и будет вот что:\n",
    "\n",
    "`P(q) = Beta(alpha, beta)` => `P(q | additional_errors, additional_correct) = Beta(alpha + additional_errors, beta + additional_correct)`."
   ]
  },
  {
   "cell_type": "code",
   "execution_count": 19,
   "metadata": {},
   "outputs": [
    {
     "data": {
      "image/png": "[encoded data removed]",
      "text/plain": [
       "<Figure size 432x288 with 1 Axes>"
      ]
     },
     "metadata": {
      "needs_background": "light"
     },
     "output_type": "display_data"
    }
   ],
   "source": [
    "def plot_beta(errors, correct, label, samples=None):\n",
    "    np.random.seed(1)\n",
    "    X = np.random.beta(errors, correct, size=(errors + correct) if samples is None else samples)\n",
    "    sns.distplot(X, hist=False, label=label)\n",
    "    plt.axvline(errors / (errors + correct), 0, 1, ls='--', c='black', alpha=0.25)\n",
    "    plt.xlabel('Вероятность ошибки')\n",
    "    plt.ylabel('Оценка плотности');\n",
    "\n",
    "plt.title(\"После первых пошедших данных\")\n",
    "plot_beta(control_errors, control_size - control_errors, 'Control')\n",
    "plot_beta(test_errors, test_size - test_errors, 'Test')"
   ]
  },
  {
   "cell_type": "markdown",
   "metadata": {},
   "source": [
    "Вот из этой-то картинки видно, что несмотря на схожесть средних процентов, уверенности в том, что вариант с моделью лучше у нас уже может сильно поубавиться.\n",
    "\n",
    "Так что же делать? Продолжать, пока не станем уверенными в различиях. "
   ]
  },
  {
   "cell_type": "code",
   "execution_count": 20,
   "metadata": {},
   "outputs": [
    {
     "data": {
      "image/png": "[encoded data removed]",
      "text/plain": [
       "<Figure size 432x288 with 1 Axes>"
      ]
     },
     "metadata": {
      "needs_background": "light"
     },
     "output_type": "display_data"
    }
   ],
   "source": [
    "new_control_errors = 10000\n",
    "new_control_size = 58000\n",
    "\n",
    "new_test_errors = 5000\n",
    "new_test_size = 30000\n",
    "\n",
    "plt.title(\"Добавили ещё\")\n",
    "plot_beta(control_errors + new_control_errors, control_size + new_control_size - control_errors - new_control_errors, 'Control')\n",
    "plot_beta(test_errors + new_test_errors, test_size + new_test_size - test_errors - new_test_errors, 'Test')"
   ]
  },
  {
   "cell_type": "markdown",
   "metadata": {},
   "source": [
    "Здесь уже всё выглядит так, что тестовый вариант с моделью определенно лучше. Тем не менее, всё еще остаётся некоторый шанс, что выбрав вариант с моделью, он не будет лучше - так как наши апостериорные распределения пересекаются.\n",
    "\n",
    "Можно конечно пытаться подсчитать, сколько нужно примеров чтобы распределения разошлись \"как в море корабли\" (так бывает и делают), а можно выбрать некоторый интервал уверенности, например что пересечение менее 1% незначимо."
   ]
  },
  {
   "cell_type": "markdown",
   "metadata": {},
   "source": [
    "## Заключение \n",
    "\n",
    "Машинное обучение - как раз для того и нужно, чтобы улучшать процессы. По факту же не всякая модель улучшает. Прояснить, улучшает или нет можно A/B-тестированием. Часто после того, как убедятся в том что вариант с моделью лучше, контрольную выборку делают очень маленькой. Или совсем убирают, когда есть дополнительные метрики для мониторинга эффекта процесса в целом."
   ]
  }
 ],
 "metadata": {
  "kernelspec": {
   "display_name": "py35",
   "language": "python",
   "name": "py35"
  },
  "language_info": {
   "codemirror_mode": {
    "name": "ipython",
    "version": 3
   },
   "file_extension": ".py",
   "mimetype": "text/x-python",
   "name": "python",
   "nbconvert_exporter": "python",
   "pygments_lexer": "ipython3",
   "version": "3.6.6"
  }
 },
 "nbformat": 4,
 "nbformat_minor": 2
}
