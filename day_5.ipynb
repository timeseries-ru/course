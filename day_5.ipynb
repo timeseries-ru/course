{
 "cells": [
  {
   "cell_type": "markdown",
   "metadata": {},
   "source": [
    "# День пятый - интерпретация, внедрение и другие темы\n",
    "\n",
    "Сегодня нас ждут:\n",
    "- некоторые методы локальной интерпретации\n",
    "- как создать веб-сервис на `flask`, как сохранить и загрузить модель\n",
    "- презентация `jupyter notebooks` на `voila` и немного `streamlit`\n",
    "- элементы мониторинга после внедрения\n",
    "\n",
    "факультативно:\n",
    "- немного о вероятностном программировании\n",
    "- вариационные автокодировщики (будем генерировать картинки)."
   ]
  },
  {
   "cell_type": "markdown",
   "metadata": {},
   "source": [
    "## Методы интерпретации\n",
    "\n",
    "Как ранее уже упоминалось, методы интерпретации модели могут быть глобальными (как важность признаков у деревьев), а могут быть локальными, то есть теми, которые объясняют почему предсказание для конкретного примера именно такое.\n",
    "\n",
    "Сейчас мы рассмотрим библиотеку `shap` (`SHapely Additive exPlanations`, где в названии, *Shapely* - это фамилия), которая такие предсказания и позволяет делать. И делает это она благодаря некоторым результатам из теории игр.\n",
    "\n",
    "Представим себе признаки как игроков, а результат \"игры\" - это предсказание модели для этих признаков (разово). Тогда `shap` позволяет судить о вкладе каждого игрока в \"выигрыш\" (предсказание) - для этого рассматривается каждый поднабор из всех признаков (сочетания), от нуля признаков до всех. При добавлении признака в набор, он даёт некоторый вклад (эффект) в предсказание. Все эффекты для вхождений каждого признака количественно взвешиваются, они есть итоговый эффект каждого признака.\n",
    "\n",
    "А теперь представьте что у нас (всего) 10 признаков, это означает что нам надо перебрать `2**10` моделей (с различными наборами признаков). Мы, конечно, этим заниматься не будем, и благодаря библиотеке `shap`, умеющей во всевозможные оптимизации подобных вычислений и прочие ухищрения, всё получается быстрее."
   ]
  },
  {
   "cell_type": "code",
   "execution_count": 1,
   "metadata": {},
   "outputs": [
    {
     "data": {
      "text/html": [
       "<div>\n",
       "<style scoped>\n",
       "    .dataframe tbody tr th:only-of-type {\n",
       "        vertical-align: middle;\n",
       "    }\n",
       "\n",
       "    .dataframe tbody tr th {\n",
       "        vertical-align: top;\n",
       "    }\n",
       "\n",
       "    .dataframe thead th {\n",
       "        text-align: right;\n",
       "    }\n",
       "</style>\n",
       "<table border=\"1\" class=\"dataframe\">\n",
       "  <thead>\n",
       "    <tr style=\"text-align: right;\">\n",
       "      <th></th>\n",
       "      <th>sex</th>\n",
       "      <th>length</th>\n",
       "      <th>diameter</th>\n",
       "      <th>height</th>\n",
       "      <th>whole weight</th>\n",
       "      <th>shucked weight</th>\n",
       "      <th>viscera weight</th>\n",
       "      <th>shell weight</th>\n",
       "      <th>rings</th>\n",
       "    </tr>\n",
       "  </thead>\n",
       "  <tbody>\n",
       "    <tr>\n",
       "      <th>3818</th>\n",
       "      <td>1</td>\n",
       "      <td>0.565</td>\n",
       "      <td>0.445</td>\n",
       "      <td>0.14</td>\n",
       "      <td>0.836</td>\n",
       "      <td>0.406</td>\n",
       "      <td>0.1605</td>\n",
       "      <td>0.2245</td>\n",
       "      <td>9</td>\n",
       "    </tr>\n",
       "    <tr>\n",
       "      <th>642</th>\n",
       "      <td>0</td>\n",
       "      <td>0.590</td>\n",
       "      <td>0.450</td>\n",
       "      <td>0.16</td>\n",
       "      <td>0.900</td>\n",
       "      <td>0.358</td>\n",
       "      <td>0.1560</td>\n",
       "      <td>0.3150</td>\n",
       "      <td>19</td>\n",
       "    </tr>\n",
       "    <tr>\n",
       "      <th>2010</th>\n",
       "      <td>2</td>\n",
       "      <td>0.435</td>\n",
       "      <td>0.325</td>\n",
       "      <td>0.12</td>\n",
       "      <td>0.346</td>\n",
       "      <td>0.159</td>\n",
       "      <td>0.0840</td>\n",
       "      <td>0.0950</td>\n",
       "      <td>7</td>\n",
       "    </tr>\n",
       "  </tbody>\n",
       "</table>\n",
       "</div>"
      ],
      "text/plain": [
       "      sex  length  diameter  height  whole weight  shucked weight  \\\n",
       "3818    1   0.565     0.445    0.14         0.836           0.406   \n",
       "642     0   0.590     0.450    0.16         0.900           0.358   \n",
       "2010    2   0.435     0.325    0.12         0.346           0.159   \n",
       "\n",
       "      viscera weight  shell weight  rings  \n",
       "3818          0.1605        0.2245      9  \n",
       "642           0.1560        0.3150     19  \n",
       "2010          0.0840        0.0950      7  "
      ]
     },
     "execution_count": 1,
     "metadata": {},
     "output_type": "execute_result"
    }
   ],
   "source": [
    "%matplotlib inline\n",
    "\n",
    "from warnings import filterwarnings\n",
    "filterwarnings('ignore')\n",
    "\n",
    "import numpy as np\n",
    "import pandas as pd\n",
    "import matplotlib.pyplot as plt\n",
    "import seaborn as sns\n",
    "\n",
    "# загрузим датасет ракушек\n",
    "data = pd.read_csv('data/abalone.csv')\n",
    "\n",
    "# немного препроцессинга\n",
    "# будем отличать только взрослых от детей!\n",
    "\n",
    "data['sex'] = data.sex.apply(lambda sex: {\n",
    "    'F': 0, 'M': 1, 'I': 2\n",
    "}[sex])\n",
    "\n",
    "data.sample(3)"
   ]
  },
  {
   "cell_type": "code",
   "execution_count": 2,
   "metadata": {},
   "outputs": [],
   "source": [
    "import shap"
   ]
  },
  {
   "cell_type": "markdown",
   "metadata": {},
   "source": [
    "Библиотека `shap` может объяснять модели на базе деревьев (`TreeExplainer`), линейные (`LinearExplainer`, требуются независимые - они же несвязанные - признаки), нейронные сети `keras` (`DeepExplainer`), а также произвольные модели (`KernelExplainer`) - но увы весьма медленно.\n",
    "\n",
    "На данный момент, `TreeExplainer` не умеет в мультикласс, поэтом в этих случаях надо пользоваться универсальным `KernelExplainer`, и следует отметить, что он требует чтобы у модели был метод `predict_proba` (предсказывает вероятность - или уверенность - в классе). Таким методом обладают, например, все деревья.\n",
    "\n",
    "Мы же пока тем временем попробуем объяснить результаты работы регрессора."
   ]
  },
  {
   "cell_type": "code",
   "execution_count": 3,
   "metadata": {},
   "outputs": [
    {
     "name": "stdout",
     "output_type": "stream",
     "text": [
      "test score 0.361\n"
     ]
    }
   ],
   "source": [
    "from sklearn.ensemble import GradientBoostingRegressor\n",
    "from sklearn.utils import shuffle\n",
    "\n",
    "# отложим 100 сэмплов\n",
    "indices = shuffle(list(range(len(data))), random_state=1)\n",
    "train = indices[:-100]\n",
    "test = indices[-100:]\n",
    "\n",
    "regressor = GradientBoostingRegressor(\n",
    "    n_estimators=15, max_depth=7, random_state=1\n",
    ").fit(data.iloc[train,:-1], data.iloc[train, -1])\n",
    "\n",
    "print(\"test score %.3f\" % regressor.score(\n",
    "    data.iloc[test,:-1], data.iloc[test, -1]\n",
    "))\n",
    "\n",
    "explainer = shap.TreeExplainer(regressor, data=data.iloc[test, :-1])\n",
    "shap_values_test = explainer.shap_values(data.iloc[test, :-1]);"
   ]
  },
  {
   "cell_type": "code",
   "execution_count": 4,
   "metadata": {},
   "outputs": [
    {
     "name": "stdout",
     "output_type": "stream",
     "text": [
      "True rings value for first test sample = 11\n"
     ]
    }
   ],
   "source": [
    "print('True rings value for first test sample = %d' % data.iloc[test[0], -1])"
   ]
  },
  {
   "cell_type": "code",
   "execution_count": 5,
   "metadata": {},
   "outputs": [
    {
     "data": {
      "image/png": "[encoded data removed]",
      "text/plain": [
       "<Figure size 1440x216 with 1 Axes>"
      ]
     },
     "metadata": {
      "needs_background": "light"
     },
     "output_type": "display_data"
    }
   ],
   "source": [
    "shap.force_plot(explainer.expected_value, shap_values_test[0], data.iloc[test[0],:-1], matplotlib=True)"
   ]
  },
  {
   "cell_type": "markdown",
   "metadata": {},
   "source": [
    "На это диаграмме красным - то что добавило нам колец, а синим - то, что (для этой ракушки) убавило. Причем подписано сколько колец добавлено/убавлено. Лично я считаю, что для регрессии подобные объяснения очень наглядны. \n",
    "\n",
    "Для классификации есть же нечто, скажем так, поинтереснее, а именно `Alibi Trust Scores` - уровни доверия. Это мера соответствия между предсказанным классом, и тем, какие ближайшие соседи у этого класса. Условно, если предсказанный класс примера находится рядом с множеством подобных - тем больше мы можем верить предсказанию. А если не условно, то это по аналогии с `silhoutte_score` - отношение между расстоянием до ближайшего класса, отличного от предсказанного, к расстоянию до предсказанного класса. Следовательно, если эта величина больше 1, и чем она вообще больше, тем больше доверия к предсказанию."
   ]
  },
  {
   "cell_type": "code",
   "execution_count": 6,
   "metadata": {},
   "outputs": [
    {
     "name": "stdout",
     "output_type": "stream",
     "text": [
      "test score 0.580\n"
     ]
    }
   ],
   "source": [
    "from sklearn.ensemble import GradientBoostingClassifier\n",
    "\n",
    "classifier = GradientBoostingClassifier(\n",
    "    n_estimators=15, max_depth=3, random_state=1\n",
    ").fit(data.iloc[train,1:], data.iloc[train, 0])\n",
    "\n",
    "print(\"test score %.3f\" % classifier.score(\n",
    "    data.iloc[test,1:], data.iloc[test, 0]\n",
    "))"
   ]
  },
  {
   "cell_type": "code",
   "execution_count": 7,
   "metadata": {},
   "outputs": [],
   "source": [
    "from alibi.confidence import TrustScore\n",
    "ts = TrustScore(\n",
    "    # тут могут быть настройки, но мы\n",
    "    # оставим всё по умолчанию\n",
    ")\n",
    "\n",
    "ts.fit(\n",
    "    data.iloc[train,1:].values,\n",
    "    data.iloc[train, 0].values,\n",
    "    classes=3\n",
    ")"
   ]
  },
  {
   "cell_type": "code",
   "execution_count": 8,
   "metadata": {},
   "outputs": [
    {
     "name": "stdout",
     "output_type": "stream",
     "text": [
      "True class 0, predicted 2\n",
      "Proba 0.330, TrustScore 0.745, closest class 0\n"
     ]
    }
   ],
   "source": [
    "predicted = classifier.predict([data.iloc[test[0], 1:]])[0]\n",
    "print(\"True class %d, predicted %d\" % (\n",
    "    data.iloc[test[0], 0],\n",
    "    predicted\n",
    "))\n",
    "\n",
    "trust_scores, closest_classes = ts.score(\n",
    "    np.array([data.iloc[test[0], 1:]]),\n",
    "    np.array([predicted])\n",
    ")\n",
    "\n",
    "print(\"Proba %.3f, TrustScore %.3f, closest class %d\" % (\n",
    "    classifier.predict_proba(\n",
    "        data.iloc[test[0], 1:].values.reshape(1, -1)\n",
    "    )[0][0],\n",
    "    trust_scores[0], closest_classes[0]\n",
    "))"
   ]
  },
  {
   "cell_type": "markdown",
   "metadata": {},
   "source": [
    "Тут видим, `trust score < 1` , и ближайший класс точнее. Впрочем, здесь и вероятность предсказания не самая высокая (да и классификатор так себе).\n",
    "\n",
    "А сейчас мы рассмотрим технику, которая позволяет одновременно отбирать признаки и строить некоторую интерпретацию вида \"мы тут можем ошибаться на столько-то\" (*model perfomance prediction*). Нужно построить регрессор (в случае классификации - классификатор), который будет обучен (на отложенной валидации, поскольку стэкинг) предсказывать ошибки алгоритма.\n",
    "\n",
    "Посмотрим на эту позаимствованную (получается уже трижды) картинку.\n",
    "![MPP](media/mpp.png)"
   ]
  },
  {
   "cell_type": "code",
   "execution_count": 9,
   "metadata": {},
   "outputs": [
    {
     "name": "stdout",
     "output_type": "stream",
     "text": [
      "simple: r2 0.497, acc 0.540\n"
     ]
    }
   ],
   "source": [
    "# data = pd.read_csv('data/abalone.csv')\n",
    "# data = pd.get_dummies(data.sex).join(data.drop('sex', axis='columns'))\n",
    "\n",
    "indices = shuffle(list(range(len(data))), random_state=1)\n",
    "train = indices[:-1000]\n",
    "val = indices[-1000:-500]\n",
    "test = indices[-500:]\n",
    "\n",
    "from sklearn.linear_model import Ridge, LogisticRegression\n",
    "from sklearn.preprocessing import PolynomialFeatures, PowerTransformer\n",
    "from sklearn.pipeline import make_pipeline\n",
    "\n",
    "preprocessor_regression = make_pipeline(PowerTransformer(), PolynomialFeatures(degree=3))\n",
    "X_regression_train = preprocessor_regression.fit_transform(data.iloc[train,1:-1])\n",
    "X_regression_val = preprocessor_regression.transform(data.iloc[val,1:-1])\n",
    "X_regression_test = preprocessor_regression.transform(data.iloc[test,1:-1])\n",
    "\n",
    "preprocessor_classification = make_pipeline(PowerTransformer(), PolynomialFeatures(degree=3))\n",
    "X_classification_train = preprocessor_classification.fit_transform(data.iloc[train,1:])\n",
    "X_classification_val = preprocessor_classification.transform(data.iloc[val,1:])\n",
    "X_classification_test = preprocessor_classification.transform(data.iloc[test,1:])\n",
    "\n",
    "regressor = Ridge(random_state=1).fit(\n",
    "    X_regression_train, data.iloc[train, -1]\n",
    ")\n",
    "\n",
    "classifier = LogisticRegression(random_state=1).fit(\n",
    "    X_classification_train, data.iloc[train, 0]\n",
    ")\n",
    "\n",
    "print(\"simple: r2 %.3f, acc %.3f\" % (\n",
    "    regressor.score(X_regression_test, data.iloc[test, -1]),\n",
    "    classifier.score(X_classification_test, data.iloc[test, 0])\n",
    "))"
   ]
  },
  {
   "cell_type": "code",
   "execution_count": 10,
   "metadata": {},
   "outputs": [],
   "source": [
    "from sklearn.ensemble import GradientBoostingRegressor, GradientBoostingClassifier\n",
    "\n",
    "def get_error_models(regression_features, classifier_features):\n",
    "    error_regressor = GradientBoostingRegressor(\n",
    "        n_estimators=30, max_depth=3, random_state=1\n",
    "    ).fit(\n",
    "        X_regression_val[:, regression_features],\n",
    "        np.abs(\n",
    "            regressor.predict(X_regression_val[:, regression_features]) - data.iloc[val,-1]\n",
    "        )\n",
    "    )\n",
    "\n",
    "    error_classifier = GradientBoostingClassifier(\n",
    "        n_estimators=30, max_depth=3, random_state=1\n",
    "    ).fit(\n",
    "        X_classification_val[:, classifier_features],\n",
    "        (\n",
    "            classifier.predict(X_classification_val[:, classifier_features]) != data.iloc[val,0]\n",
    "        ).astype(int)\n",
    "    )\n",
    "    return error_regressor, error_classifier\n",
    "\n",
    "error_regressor, error_classifier = get_error_models(\n",
    "    regression_features=slice(None),\n",
    "    classifier_features=slice(None)\n",
    ")"
   ]
  },
  {
   "cell_type": "markdown",
   "metadata": {},
   "source": [
    "Мы получили регрессор ошибки и классификатор ошибки. Их можно использовать и для отбора признаков (в обоих случаях уберем несколько неважных признаков и посмотрим), и для проверки корректности предсказания."
   ]
  },
  {
   "cell_type": "code",
   "execution_count": 11,
   "metadata": {},
   "outputs": [
    {
     "name": "stdout",
     "output_type": "stream",
     "text": [
      "selected: r2 0.512, acc 0.556\n"
     ]
    }
   ],
   "source": [
    "redundand = 40\n",
    "\n",
    "regressor_features = np.argsort(error_regressor.feature_importances_)[redundand:]\n",
    "classifier_features = np.argsort(error_classifier.feature_importances_)[redundand:]\n",
    "\n",
    "regressor = Ridge(random_state=1).fit(\n",
    "    X_regression_train[:, regressor_features], \n",
    "    data.iloc[train, -1]\n",
    ")\n",
    "\n",
    "classifier = LogisticRegression(random_state=1).fit(\n",
    "    X_classification_train[:, classifier_features],\n",
    "    data.iloc[train, :1]\n",
    ")\n",
    "\n",
    "print(\"selected: r2 %.3f, acc %.3f\" % (\n",
    "    regressor.score(X_regression_test[:, regressor_features], data.iloc[test, -1]),\n",
    "    classifier.score(X_classification_test[:, classifier_features], data.iloc[test,0])\n",
    "))"
   ]
  },
  {
   "cell_type": "markdown",
   "metadata": {},
   "source": [
    "В данном случае мы убрали признаки, которые давали *наименьший вклад в объяснение ошибки*. Это означает, что они имеют слабое влияния на то, как предсказывает изначальная модель. Давайте посмотрим на ошибку предсказания для конкретного примера."
   ]
  },
  {
   "cell_type": "code",
   "execution_count": 12,
   "metadata": {},
   "outputs": [
    {
     "name": "stdout",
     "output_type": "stream",
     "text": [
      "regression: True 8, Predicted 9.58, error 1.220\n",
      "classification: True 2, Predicted 1, is error 1\n"
     ]
    }
   ],
   "source": [
    "error_regressor, error_classifier = get_error_models(\n",
    "    regressor_features, classifier_features\n",
    ")\n",
    "\n",
    "print(\"regression: True %d, Predicted %.2f, error %.3f\" % (\n",
    "    data.iloc[test[0], -1],\n",
    "    regressor.predict([X_regression_test[0, regressor_features]])[0],\n",
    "    error_regressor.predict([X_regression_test[0, regressor_features]])[0]\n",
    "))\n",
    "\n",
    "print(\"classification: True %s, Predicted %s, is error %s\" % (\n",
    "    str(data.iloc[test[0], 0].astype(int)),\n",
    "    str(classifier.predict([X_classification_test[0, classifier_features]])[0]),\n",
    "    str(error_classifier.predict([X_classification_test[0, classifier_features]])[0])\n",
    "))"
   ]
  },
  {
   "cell_type": "markdown",
   "metadata": {},
   "source": [
    "## В качестве заключения\n",
    "\n",
    "Не всегда модели всё делают автоматически (вместо людей). Часто, и особенно на сложных производствах - модели лишь рекомендуют некоторый режим или настройки технологических процессов. И когда человек принимает решение в конкретный момент времени, ему хотелось бы знать, почему именно такое предсказание выдала модель, потому что \"черным ящикам\" не доверяют - несмотря на все метрики и кросс-валидации (так устроен человек). Поэтому если есть объяснение предсказанию, или степень уверенности - это важная дополнительная информация для человека, который будет принимать решение."
   ]
  }
 ],
 "metadata": {
  "kernelspec": {
   "display_name": "py35",
   "language": "python",
   "name": "py35"
  },
  "language_info": {
   "codemirror_mode": {
    "name": "ipython",
    "version": 3
   },
   "file_extension": ".py",
   "mimetype": "text/x-python",
   "name": "python",
   "nbconvert_exporter": "python",
   "pygments_lexer": "ipython3",
   "version": "3.6.6"
  }
 },
 "nbformat": 4,
 "nbformat_minor": 2
}
