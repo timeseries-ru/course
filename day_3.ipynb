{
 "cells": [
  {
   "cell_type": "markdown",
   "metadata": {},
   "source": [
    "# День третий - обучение без учителя*\n",
    "\\* и некоторые другие темы"
   ]
  },
  {
   "cell_type": "markdown",
   "metadata": {},
   "source": [
    "В сегодняшнем дне нас ждут следующие темы:\n",
    "1. Немного про отбор признаков и про поиск гиперпараметров,\n",
    "2. Задача понижения размерности данных,\n",
    "3. Кластеризация,\n",
    "4. Поиск аномалий в данных,\n",
    "5. Одномерные временные ряды с помощью библиотеки `Facebook Prophet`,\n",
    "6. Что такое стэкинг и как предсказания моделей использовать как вход для других моделей."
   ]
  },
  {
   "cell_type": "markdown",
   "metadata": {},
   "source": [
    "## 3.1 Отбор признаков и поиск гиперпараметров"
   ]
  },
  {
   "cell_type": "markdown",
   "metadata": {},
   "source": [
    "В прошлом дне мы видили, что есть хорошие и не очень хорошие признаки, которые дают прирост качеству модели, или наоборот её ухудшают. Так же мы наивно выставляли какие-то числа в модель - количество соседей, количество нейронов в слоях... то, что называется *гиперпараметрами модели*, при этом делали это несколько от потолка."
   ]
  },
  {
   "cell_type": "code",
   "execution_count": 1,
   "metadata": {},
   "outputs": [
    {
     "data": {
      "text/html": [
       "<div>\n",
       "<style scoped>\n",
       "    .dataframe tbody tr th:only-of-type {\n",
       "        vertical-align: middle;\n",
       "    }\n",
       "\n",
       "    .dataframe tbody tr th {\n",
       "        vertical-align: top;\n",
       "    }\n",
       "\n",
       "    .dataframe thead th {\n",
       "        text-align: right;\n",
       "    }\n",
       "</style>\n",
       "<table border=\"1\" class=\"dataframe\">\n",
       "  <thead>\n",
       "    <tr style=\"text-align: right;\">\n",
       "      <th></th>\n",
       "      <th>sex</th>\n",
       "      <th>length</th>\n",
       "      <th>diameter</th>\n",
       "      <th>height</th>\n",
       "      <th>whole weight</th>\n",
       "      <th>shucked weight</th>\n",
       "      <th>viscera weight</th>\n",
       "      <th>shell weight</th>\n",
       "      <th>rings</th>\n",
       "    </tr>\n",
       "  </thead>\n",
       "  <tbody>\n",
       "    <tr>\n",
       "      <th>0</th>\n",
       "      <td>M</td>\n",
       "      <td>0.455</td>\n",
       "      <td>0.365</td>\n",
       "      <td>0.095</td>\n",
       "      <td>0.5140</td>\n",
       "      <td>0.2245</td>\n",
       "      <td>0.1010</td>\n",
       "      <td>0.150</td>\n",
       "      <td>15</td>\n",
       "    </tr>\n",
       "    <tr>\n",
       "      <th>1</th>\n",
       "      <td>M</td>\n",
       "      <td>0.350</td>\n",
       "      <td>0.265</td>\n",
       "      <td>0.090</td>\n",
       "      <td>0.2255</td>\n",
       "      <td>0.0995</td>\n",
       "      <td>0.0485</td>\n",
       "      <td>0.070</td>\n",
       "      <td>7</td>\n",
       "    </tr>\n",
       "    <tr>\n",
       "      <th>2</th>\n",
       "      <td>F</td>\n",
       "      <td>0.530</td>\n",
       "      <td>0.420</td>\n",
       "      <td>0.135</td>\n",
       "      <td>0.6770</td>\n",
       "      <td>0.2565</td>\n",
       "      <td>0.1415</td>\n",
       "      <td>0.210</td>\n",
       "      <td>9</td>\n",
       "    </tr>\n",
       "    <tr>\n",
       "      <th>3</th>\n",
       "      <td>M</td>\n",
       "      <td>0.440</td>\n",
       "      <td>0.365</td>\n",
       "      <td>0.125</td>\n",
       "      <td>0.5160</td>\n",
       "      <td>0.2155</td>\n",
       "      <td>0.1140</td>\n",
       "      <td>0.155</td>\n",
       "      <td>10</td>\n",
       "    </tr>\n",
       "    <tr>\n",
       "      <th>4</th>\n",
       "      <td>I</td>\n",
       "      <td>0.330</td>\n",
       "      <td>0.255</td>\n",
       "      <td>0.080</td>\n",
       "      <td>0.2050</td>\n",
       "      <td>0.0895</td>\n",
       "      <td>0.0395</td>\n",
       "      <td>0.055</td>\n",
       "      <td>7</td>\n",
       "    </tr>\n",
       "  </tbody>\n",
       "</table>\n",
       "</div>"
      ],
      "text/plain": [
       "  sex  length  diameter  height  whole weight  shucked weight  viscera weight  \\\n",
       "0   M   0.455     0.365   0.095        0.5140          0.2245          0.1010   \n",
       "1   M   0.350     0.265   0.090        0.2255          0.0995          0.0485   \n",
       "2   F   0.530     0.420   0.135        0.6770          0.2565          0.1415   \n",
       "3   M   0.440     0.365   0.125        0.5160          0.2155          0.1140   \n",
       "4   I   0.330     0.255   0.080        0.2050          0.0895          0.0395   \n",
       "\n",
       "   shell weight  rings  \n",
       "0         0.150     15  \n",
       "1         0.070      7  \n",
       "2         0.210      9  \n",
       "3         0.155     10  \n",
       "4         0.055      7  "
      ]
     },
     "execution_count": 1,
     "metadata": {},
     "output_type": "execute_result"
    }
   ],
   "source": [
    "%matplotlib inline\n",
    "import numpy as np\n",
    "import pandas as pd\n",
    "import seaborn as sns\n",
    "\n",
    "# загрузим наш датасет ракушек\n",
    "data = pd.read_csv('data/abalone.csv')\n",
    "data.head()"
   ]
  },
  {
   "cell_type": "code",
   "execution_count": 2,
   "metadata": {},
   "outputs": [
    {
     "data": {
      "text/plain": [
       "['F',\n",
       " 'I',\n",
       " 'M',\n",
       " 'length',\n",
       " 'diameter',\n",
       " 'height',\n",
       " 'whole weight',\n",
       " 'shucked weight',\n",
       " 'viscera weight',\n",
       " 'shell weight']"
      ]
     },
     "execution_count": 2,
     "metadata": {},
     "output_type": "execute_result"
    }
   ],
   "source": [
    "from sklearn.utils import shuffle\n",
    "\n",
    "# преобразуем наш категориальный признак\n",
    "\n",
    "dataset = pd.get_dummies(data.sex).join(data).drop('sex', axis='columns')\n",
    "dataset = shuffle(dataset, random_state=1)\n",
    "\n",
    "features = list(dataset.columns)\n",
    "target = 'rings'\n",
    "features.remove(target)\n",
    "\n",
    "features"
   ]
  },
  {
   "cell_type": "markdown",
   "metadata": {},
   "source": [
    "### Отбор признаков\n",
    "Мы рассмотрим два метода - отбор с помощью взаимной информации между признаками, и отбор с помощью моделей. Начнем с взаимной информации. Строгое определение по сложившейся традиции тут приведено не будет, важно знать, что это *неотрицательное число*, равное 0 тогда и только когда, когда связи между признаками нет никакой. В свою очередь, чем оно больше - тем выше связь."
   ]
  },
  {
   "cell_type": "code",
   "execution_count": 3,
   "metadata": {},
   "outputs": [
    {
     "name": "stdout",
     "output_type": "stream",
     "text": [
      "Если кольца считать как классификацию, лучшие 4 признака это ['diameter' 'height' 'whole weight' 'shell weight']\n",
      "Если кольца считать как регрессию, лучшие 4 признака это ['diameter' 'height' 'whole weight' 'shell weight']\n"
     ]
    }
   ],
   "source": [
    "from sklearn.feature_selection import mutual_info_classif, mutual_info_regression, SelectKBest\n",
    "\n",
    "train = int(len(data) * 0.8)\n",
    "\n",
    "print(\n",
    "    \"Если кольца считать как классификацию, лучшие 4 признака это\", \n",
    "    np.array(features)[\n",
    "        SelectKBest(mutual_info_classif, k=4).fit(\n",
    "            dataset[features][:train], dataset[target][:train]\n",
    "        ).get_support(indices=True) # этот метод возращает номера колонок\n",
    "    ]\n",
    ")\n",
    "\n",
    "print(\n",
    "    \"Если кольца считать как регрессию, лучшие 4 признака это\", \n",
    "    np.array(features)[\n",
    "        SelectKBest(mutual_info_regression, k=4).fit(\n",
    "            dataset[features][:train], dataset[target][:train]\n",
    "        ).get_support(indices=True) # этот метод возращает номера колонок\n",
    "    ]\n",
    ")"
   ]
  },
  {
   "cell_type": "markdown",
   "metadata": {},
   "source": [
    "Что ж, посчитаем регрессию и классификацию на этих четырех признаках."
   ]
  },
  {
   "cell_type": "code",
   "execution_count": 10,
   "metadata": {},
   "outputs": [],
   "source": [
    "from sklearn.metrics import r2_score, confusion_matrix\n",
    "from sklearn.neural_network import MLPRegressor, MLPClassifier\n",
    "\n",
    "sliced = ['diameter', 'height', 'whole weight', 'shell weight']\n",
    "\n",
    "classifier = MLPClassifier(random_state=1, max_iter=1000).fit(dataset[sliced][:train], dataset[target][:train])\n",
    "regressor = MLPRegressor(random_state=1, max_iter=1000).fit(dataset[sliced][:train], dataset[target][:train])"
   ]
  },
  {
   "cell_type": "code",
   "execution_count": 11,
   "metadata": {},
   "outputs": [
    {
     "data": {
      "image/png": "[encoded data removed]",
      "text/plain": [
       "<Figure size 432x288 with 2 Axes>"
      ]
     },
     "metadata": {
      "needs_background": "light"
     },
     "output_type": "display_data"
    }
   ],
   "source": [
    "import matplotlib.pyplot as plt\n",
    "\n",
    "plt.title(\"Матрица несоответствий классификации количества колец (test)\");\n",
    "sns.heatmap(confusion_matrix(\n",
    "    dataset[target][train:], classifier.predict(dataset[sliced][train:])\n",
    "));"
   ]
  },
  {
   "cell_type": "code",
   "execution_count": 12,
   "metadata": {},
   "outputs": [
    {
     "name": "stdout",
     "output_type": "stream",
     "text": [
      "R2 test regression 0.476, classification (trick) 0.278\n"
     ]
    }
   ],
   "source": [
    "print(\"R2 test regression %.3f, classification (trick) %.3f\" % (\n",
    "    r2_score(dataset[target][train:], regressor.predict(dataset[sliced][train:])),\n",
    "    r2_score(dataset[target][train:], classifier.predict(dataset[sliced][train:]))\n",
    "))"
   ]
  },
  {
   "cell_type": "markdown",
   "metadata": {},
   "source": [
    "Вот так можно отбирать признаки в задачах регрессии и классификации с помощью взаимной информации. Но можно делать это еще интересней - с помощью других моделей!\n",
    "\n",
    "> Для моделей часто важна интерпретируемость! Мы об это будем обязательно говорить. Линейные модели и деревья - интерпретируемы, нейросети с трудом или практически нет.\n",
    "\n",
    "**Интерпретируемость** означает, что мы можем понять, что даёт наибольший вклад в предсказания. Она может быть локальной - в одном примере, а может быть глобальной - для всей модели. Так, деревья имеют после подгонки определенные коэффициенты важности, они же `tree_estimator.feature_importances_`, которые показывают, какой признак даёт наибольший вклад в предсказание. С линейными моделями - еще проще, там коэффициенты при признаках указывают на вклад (но учитывайте единицы измерения!)."
   ]
  },
  {
   "cell_type": "code",
   "execution_count": 13,
   "metadata": {},
   "outputs": [
    {
     "name": "stdout",
     "output_type": "stream",
     "text": [
      "По линейной модели ['F' 'I' 'M']\n",
      "По случайному лесу ['shucked weight' 'shell weight']\n"
     ]
    }
   ],
   "source": [
    "from sklearn.feature_selection import SelectFromModel\n",
    "from sklearn.ensemble import RandomForestRegressor\n",
    "from sklearn.linear_model import LinearRegression\n",
    "\n",
    "selector_linear = SelectFromModel(estimator=LinearRegression()).fit(\n",
    "    dataset[features][:train], dataset[target][:train]\n",
    ")\n",
    "\n",
    "selector_forest = SelectFromModel(estimator=RandomForestRegressor(n_estimators=100, random_state=1)).fit(\n",
    "    dataset[features][:train], dataset[target][:train]\n",
    ")\n",
    "\n",
    "linear_features = np.array(features)[selector_linear.get_support()]\n",
    "forest_features = np.array(features)[selector_forest.get_support()]\n",
    "\n",
    "print(\"По линейной модели\", linear_features)\n",
    "print(\"По случайному лесу\", forest_features)"
   ]
  },
  {
   "cell_type": "code",
   "execution_count": 14,
   "metadata": {},
   "outputs": [
    {
     "name": "stdout",
     "output_type": "stream",
     "text": [
      "R2 по линейным признакам 0.201 (test set)\n",
      "R2 по признакам случайного леса 0.537 (test set)\n"
     ]
    }
   ],
   "source": [
    "print(\"R2 по линейным признакам %.3f (test set)\" % (\n",
    "    r2_score(\n",
    "        dataset[target][train:],\n",
    "        MLPRegressor(random_state=1, max_iter=1000).fit(\n",
    "            dataset[linear_features][:train], dataset[target][:train]\n",
    "        ).predict(\n",
    "            dataset[linear_features][train:]\n",
    "        )\n",
    "    )\n",
    "))\n",
    "\n",
    "print(\"R2 по признакам случайного леса %.3f (test set)\" % (\n",
    "    r2_score(\n",
    "        dataset[target][train:],\n",
    "        MLPRegressor(random_state=1, max_iter=1000).fit(\n",
    "            dataset[forest_features][:train], dataset[target][:train]\n",
    "        ).predict(\n",
    "            dataset[forest_features][train:]\n",
    "        )\n",
    "    )\n",
    "))"
   ]
  },
  {
   "cell_type": "markdown",
   "metadata": {},
   "source": [
    "Как видим, линейные модели сильно проиграли случайному лесу в отборе признаков на текущих данных.\n",
    "\n",
    "Заметим, мы использовали значения по умолчанию для `MLPRegressor`, хорошо ли это? Мы не знаем. Для того, чтобы попробовать сразу много вариантов, да еще и с кросс-валидацией, можно использовать встроенный в `scikit-learn` класс `GridSearchCV`, который осуществляет *перебор по сетке гиперпараметров*.\n",
    "\n",
    "Можно показать как это работает на примере."
   ]
  },
  {
   "cell_type": "code",
   "execution_count": 15,
   "metadata": {},
   "outputs": [
    {
     "data": {
      "text/plain": [
       "('лучший отобранный по кросс-валидации',\n",
       " KNeighborsRegressor(n_neighbors=25, weights='distance'),\n",
       " 'наилучшее значение метрики (R2) 0.540')"
      ]
     },
     "execution_count": 15,
     "metadata": {},
     "output_type": "execute_result"
    }
   ],
   "source": [
    "from sklearn.neighbors import KNeighborsRegressor\n",
    "from sklearn.model_selection import GridSearchCV\n",
    "\n",
    "# перебор всех сочетаний параметров\n",
    "# это может занимать много времени!\n",
    "\n",
    "search = GridSearchCV(\n",
    "    KNeighborsRegressor(),\n",
    "    param_grid = {\n",
    "        'n_neighbors': [3, 5, 7, 10, 25],\n",
    "        'weights': ['uniform', 'distance']\n",
    "    },\n",
    "    cv=5\n",
    ").fit(\n",
    "    dataset[features], dataset[target]\n",
    ")\n",
    "\n",
    "'лучший отобранный по кросс-валидации', search.best_estimator_, \\\n",
    "'наилучшее значение метрики (R2) %.3f' % search.best_score_"
   ]
  },
  {
   "cell_type": "markdown",
   "metadata": {},
   "source": [
    "Как видим, ближайшие соседи могут даже сравниться с нейросетями.\n",
    "\n",
    "> Имейте в виду! Когда мы отобрали по кросс-валидации лучшие гиперпараметры, перед отправкой модели в *среду эксплуатации* (для работы сайта например), мы можем её обучить с найденными параметрами уже на всех данных. Хуже от этого она предсказывать не будет - если вы, конечно, почистили данные от выбросов.\n",
    "\n",
    "\n",
    "### В качестве заключения\n",
    "Не стоит в любом случае сильно увлекаться автоматическими отборами и переборами - разведочный анализ пропускать нельзя. Но если признаков не 5 и не 10, эти методы могут сослужить хорошую службу. Их даже можно объединять в так называемые `pipelines`, то есть соединять последовательно. Если интересно, про них более подробно [можно найти в разделе документации \"combining estimators\" библиотеки scikit-learn](https://scikit-learn.org/stable/modules/compose.html#combining-estimators)."
   ]
  },
  {
   "cell_type": "markdown",
   "metadata": {},
   "source": [
    "## 3.2 Понижение размерности"
   ]
  }
 ],
 "metadata": {
  "kernelspec": {
   "display_name": "py35",
   "language": "python",
   "name": "py35"
  },
  "language_info": {
   "codemirror_mode": {
    "name": "ipython",
    "version": 3
   },
   "file_extension": ".py",
   "mimetype": "text/x-python",
   "name": "python",
   "nbconvert_exporter": "python",
   "pygments_lexer": "ipython3",
   "version": "3.6.6"
  }
 },
 "nbformat": 4,
 "nbformat_minor": 2
}
