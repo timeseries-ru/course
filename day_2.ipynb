{
 "cells": [
  {
   "cell_type": "markdown",
   "metadata": {},
   "source": [
    "# День второй - анализ данных\n",
    "\n",
    "В сегодняшнем дне мы погрузимся в аналитику данных как таковую, и нас ждут следующие блоки:\n",
    "- библиотеки работы с данными numpy, pandas, pyplot, seaborn, ipywidgets,\n",
    "- понятие разведочного анализа и предобработки признаков. поймем, почему нельзя полагаться только на выборочные статистики как числа,\n",
    "- линейные модели и градиентный спуск,\n",
    "- деревья решений и ансамбли моделей на основе деревьев решений,\n",
    "- алгоритм ближайших соседей и соседство как таковое (весьма важно на практике),\n",
    "- (пока) поверхностно: нейронные сети в библиотеке `scikit-learn`."
   ]
  }
 ],
 "metadata": {
  "kernelspec": {
   "display_name": "py35",
   "language": "python",
   "name": "py35"
  },
  "language_info": {
   "codemirror_mode": {
    "name": "ipython",
    "version": 3
   },
   "file_extension": ".py",
   "mimetype": "text/x-python",
   "name": "python",
   "nbconvert_exporter": "python",
   "pygments_lexer": "ipython3",
   "version": "3.6.6"
  }
 },
 "nbformat": 4,
 "nbformat_minor": 2
}
