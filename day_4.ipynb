{
 "cells": [
  {
   "cell_type": "markdown",
   "metadata": {},
   "source": [
    "# День четвертый - нейросети (изображения, тексты, многомерные ряды)\n",
    "\n",
    "Программа дня:\n",
    "- нейронные сети с помощью библиотеки `keras`, устройство нейросетей,\n",
    "- сети, которые выдают свой вход и зачем они нужны - автоэнкодеры,\n",
    "- элементы работы с изображениями: классификация, сегментация\n",
    "- предобученные сети работы с изображениями,\n",
    "- тексты: кодирование, поиск \"по смыслу\", извлечение сущностей, суммаризация,\n",
    "- многомерные временные ряды (и рекуррентные нейронные сети)."
   ]
  },
  {
   "cell_type": "markdown",
   "metadata": {},
   "source": [
    "## 4.1 Нейронные сети на `keras`\n",
    "\n",
    "В конце второго дня мы рассмотрели некоторый пример нейронных сетей. Все слои там были одинаковые по устройству, и каждый нейрон слоя был связан с каждым нейроном следующего. Такие сети и слои называют *полносвязными* (*Dense*), и это только один из типов слоёв. Ввиду количества связей, полносвязные сети содержат просто огромное количество параметров, из-за этого они долго учатся и дают не самую минимальную ошибку (на не очень большом количестве данных).\n",
    "\n",
    "Помните, для градиентного спуска мы искали производную по каждому параметру? То же делает и библиотека `tensorflow` (от Google), только она дифференцирует по параметрам автоматически вместо нас (благодаря особой математике на графах операций). `keras` - это надстройка над библиотекой `tensorflow`, позволяющая конструировать различные нейросети, и искать с заданной функцией ошибки её минимум.\n",
    "\n",
    "Библиотека `scikit-learn` в отличие от `keras`, работает только с полносвязными сетями, и не позволяет произвольно настраивать эту функцию ошибки. **Функция ошибкия является спецификацией задачи нейросети** - это означает что архитектурно одна и та же сеть может может подстраивать свои параметры под разные задачи. \n",
    "\n",
    "Помимо упомянутого `Dense`-слоя, существуют следующие слои:\n",
    "1. Свёрточные (`Convolution`) - применяются обычно для обработки изображений. Они пробегают некоторым окном по всем входным признакам, и вычисляют *свертку* - некоторую функцию с весами сразу над несколькими признаками. Это мало того что позволяет сократить количество весов, но и конструировать новые (внутри сети) признаки.\n",
    "2. Pooling (`Pooling`, обычно не переводят) - применение операции усреднения или взятия максимума над входными в слой признаками. Используются для снижения размерности сети и извлечения полезных признаков.\n",
    "3. Рекуррентные (`Recurrent`) - применяются для работы с последовательностями (тексты, временные ряды). Таким слоям на вход подаются последовательности, а они подстраивают свои веса с учетом структуры (если она есть конечно) последовательности.\n",
    "4. Dropout (`Dropout`, обычно не переводят) - это особый слой, который... выбрасывает случайно заданный процент нейронов между слоями. Это позволяет *регуляризовывать* сеть (избегать переобучения), а так же делает все нейроны сети более \"осведомленными\", скажем так.\n",
    "5. Слои вложений (`Embeddings`) - полезны для работы с категориальными данными. Это так же и тексты (со словами из словаря). Такие слои представляют собой таблицу весов, которые переводят входные категории в вектора заданной размерности.\n",
    "\n",
    "Слои могут (и должны) использовать функцию активации: после умножения весов на вход и сложения, для нейрона полносвязного слоя например, она применяется к результату, чтобы не получить комбинацию линейных моделей (а получить комбинацию нелинейных). Комбинация линейных моделей - линейная модель. Мы уже рассматривали во втором дне `relu`, `tanh`, `sigmoid` (`logistic` в `scikit-learn`). \n",
    "\n",
    "Как видим, различные слои подходят под различные задачи."
   ]
  },
  {
   "cell_type": "code",
   "execution_count": 1,
   "metadata": {},
   "outputs": [
    {
     "name": "stderr",
     "output_type": "stream",
     "text": [
      "Using TensorFlow backend.\n"
     ]
    },
    {
     "data": {
      "text/plain": [
       "'2.3.1'"
      ]
     },
     "execution_count": 1,
     "metadata": {},
     "output_type": "execute_result"
    }
   ],
   "source": [
    "%matplotlib inline\n",
    "\n",
    "import numpy as np\n",
    "import pandas as pd\n",
    "import matplotlib.pyplot as plt\n",
    "import seaborn as sns\n",
    "\n",
    "import warnings\n",
    "warnings\n",
    "\n",
    "import keras\n",
    "keras.__version__"
   ]
  },
  {
   "cell_type": "markdown",
   "metadata": {},
   "source": [
    "Рассмотрим теперь новый датасет - Forest Cover Types - покрытие лесов. Он содержит 54 признака лесного покрытия, и метку - один из 7 типов леса. Всего в нём 581 012 записей, каждая из которых имеет свой класс (лесного покрытия). Среди признаков: тип почвы, высота над уровнем моря, и другие подобные признаки.\n",
    "\n",
    "![Forest](media/forest_covtypes.jpg)"
   ]
  },
  {
   "cell_type": "code",
   "execution_count": 2,
   "metadata": {},
   "outputs": [
    {
     "name": "stdout",
     "output_type": "stream",
     "text": [
      "Размер всех данных 581012, тренировочных 464809\n"
     ]
    }
   ],
   "source": [
    "from sklearn.utils import shuffle\n",
    "from sklearn.datasets import fetch_covtype\n",
    "\n",
    "X, y = fetch_covtype(return_X_y=True)\n",
    "\n",
    "train = int(len(y) * 0.8)\n",
    "indices = shuffle(list(range(len(y))), random_state=1)\n",
    "train_indices = indices[:train]\n",
    "test_indices = indices[train:]\n",
    "\n",
    "print(\"Размер всех данных %d, тренировочных %d\" % (len(y), train))"
   ]
  },
  {
   "cell_type": "markdown",
   "metadata": {},
   "source": [
    "Раз у нас задача классификации, и классов более двух, наша сеть нам должна отдавать вектор (вероятностей), где индекс наибольшего числа будет указывать на предсказанный класс. Делается это с помощью функции `softmax(x1, ..., xk) = (e(x1) / sum(e(xj)), ..., e(xk) / sum(e(xj))), j = 1..k`"
   ]
  },
  {
   "cell_type": "code",
   "execution_count": 3,
   "metadata": {},
   "outputs": [],
   "source": [
    "def create_model(number_features, number_classes):\n",
    "    model = keras.Sequential([\n",
    "        keras.layers.Dense(units=256, activation='relu', input_shape=(number_features,)),\n",
    "        \n",
    "        # пятую часть нейронов при тренировке будем занулять\n",
    "        keras.layers.Dropout(0.2),\n",
    "        \n",
    "        # промежуточный слой\n",
    "        keras.layers.Dense(32, activation='relu'),\n",
    "        \n",
    "        # выходной слой\n",
    "        keras.layers.Dense(number_classes, activation='softmax')\n",
    "    ])\n",
    "    \n",
    "    # мы должны специфицировать задачу сети\n",
    "    model.compile(optimizer='adam', loss='categorical_crossentropy', metrics=['accuracy'])\n",
    "    return model\n",
    "\n",
    "from sklearn.preprocessing import StandardScaler\n",
    "scaler = StandardScaler().fit(X[train_indices])\n",
    "\n",
    "X_train = scaler.transform(X[train_indices])\n",
    "X_test = scaler.transform(X[test_indices])\n",
    "\n",
    "# мы должны привести наши классы к векторам вида (0, 1, 0) \n",
    "# где 1 стоит на том месте, где должен быть нужный пол\n",
    "y_categorical = keras.preprocessing.utils.to_categorical(y)\n",
    "\n",
    "y_train = y_categorical[train_indices]\n",
    "y_test = y_categorical[test_indices]\n",
    "\n",
    "# перед созданием модели сбросим\n",
    "# уже сохраненные модели\n",
    "keras.backend.clear_session()\n",
    "\n",
    "model = create_model(\n",
    "    number_features=X_train.shape[1],\n",
    "    number_classes=y_train.shape[1]\n",
    ")"
   ]
  },
  {
   "cell_type": "markdown",
   "metadata": {},
   "source": [
    "Что мы задали в `compile`? \n",
    "\n",
    "- `optimizer` - это способ поиска минимума функции ошибки. Существуют различные оптимизаторы, самые используемые: `rmsprop` (обычно для рекуррентных сетей), `sgd` (когда данных очень много), `adam` (один из самых лучших). Они как раз принимают решение, куда шагать с помощью вычисленной производной ошибки,\n",
    "- `loss` - это как раз функция ошибки. Для бинарной классификации используют на последнем слое активацию `sigmoid` и `loss = 'binary_crossentropy`, у нас многоклассовая классификация - поэтому `categorical_crossentropy`. Кросс-энтропия тем ниже, чем меньше перепутаны предсказанные и истинные метки. Для регрессии же используют функции потерь `mae` (*mean_absolute_error*) или `mse` (*mean_squared_error*) - которые являются средним (абсолютным или квадратичным) отклонением предсказанного от известных значений,\n",
    "- `metrics` - это то, что в процессе обучение будет подсчитываться просто для информации или для отбора лучшей модели. В нашем случае `accuracy` - это процент правильных ответов.\n",
    "\n",
    "Ну что ж, обучим нашу нейросеть. При обучении мы зададим *количество эпох* и *размер пакета* (*batch size*). Одна эпоха - это один проход по всем тренировочным данным с выборкой размера пакета (то есть шагом в размер пакета). На каждый пакет подсчитываются (те самые) производные по параметрам для каждого пакета и обновляются веса нейросети."
   ]
  },
  {
   "cell_type": "code",
   "execution_count": 4,
   "metadata": {},
   "outputs": [
    {
     "name": "stdout",
     "output_type": "stream",
     "text": [
      "Epoch 1/30\n",
      "464809/464809 [==============================] - 2s 5us/step - loss: 0.6884 - accuracy: 0.7142\n",
      "Epoch 2/30\n",
      "464809/464809 [==============================] - 2s 4us/step - loss: 0.5588 - accuracy: 0.7591\n",
      "Epoch 3/30\n",
      "464809/464809 [==============================] - 2s 4us/step - loss: 0.5179 - accuracy: 0.7770\n",
      "Epoch 4/30\n",
      "464809/464809 [==============================] - 2s 4us/step - loss: 0.4907 - accuracy: 0.7892\n",
      "Epoch 5/30\n",
      "464809/464809 [==============================] - 2s 4us/step - loss: 0.4701 - accuracy: 0.7986\n",
      "Epoch 6/30\n",
      "464809/464809 [==============================] - 2s 4us/step - loss: 0.4547 - accuracy: 0.8060\n",
      "Epoch 7/30\n",
      "464809/464809 [==============================] - 2s 4us/step - loss: 0.4437 - accuracy: 0.8112\n",
      "Epoch 8/30\n",
      "464809/464809 [==============================] - 2s 4us/step - loss: 0.4327 - accuracy: 0.8158\n",
      "Epoch 9/30\n",
      "464809/464809 [==============================] - 2s 4us/step - loss: 0.4228 - accuracy: 0.8208\n",
      "Epoch 10/30\n",
      "464809/464809 [==============================] - 2s 4us/step - loss: 0.4150 - accuracy: 0.8240\n",
      "Epoch 11/30\n",
      "464809/464809 [==============================] - 2s 4us/step - loss: 0.4069 - accuracy: 0.8279\n",
      "Epoch 12/30\n",
      "464809/464809 [==============================] - 2s 4us/step - loss: 0.4020 - accuracy: 0.8296\n",
      "Epoch 13/30\n",
      "464809/464809 [==============================] - 2s 4us/step - loss: 0.3962 - accuracy: 0.8323\n",
      "Epoch 14/30\n",
      "464809/464809 [==============================] - 2s 4us/step - loss: 0.3905 - accuracy: 0.8350\n",
      "Epoch 15/30\n",
      "464809/464809 [==============================] - 2s 4us/step - loss: 0.3856 - accuracy: 0.8362\n",
      "Epoch 16/30\n",
      "464809/464809 [==============================] - 2s 4us/step - loss: 0.3826 - accuracy: 0.8388\n",
      "Epoch 17/30\n",
      "464809/464809 [==============================] - 2s 4us/step - loss: 0.3784 - accuracy: 0.8404\n",
      "Epoch 18/30\n",
      "464809/464809 [==============================] - 2s 4us/step - loss: 0.3738 - accuracy: 0.8428\n",
      "Epoch 19/30\n",
      "464809/464809 [==============================] - 2s 4us/step - loss: 0.3707 - accuracy: 0.8441\n",
      "Epoch 20/30\n",
      "464809/464809 [==============================] - 2s 4us/step - loss: 0.3688 - accuracy: 0.8448\n",
      "Epoch 21/30\n",
      "464809/464809 [==============================] - 2s 4us/step - loss: 0.3657 - accuracy: 0.8461\n",
      "Epoch 22/30\n",
      "464809/464809 [==============================] - 2s 4us/step - loss: 0.3625 - accuracy: 0.8474\n",
      "Epoch 23/30\n",
      "464809/464809 [==============================] - 2s 4us/step - loss: 0.3603 - accuracy: 0.8488\n",
      "Epoch 24/30\n",
      "464809/464809 [==============================] - 2s 4us/step - loss: 0.3571 - accuracy: 0.8503\n",
      "Epoch 25/30\n",
      "464809/464809 [==============================] - 2s 4us/step - loss: 0.3551 - accuracy: 0.8512\n",
      "Epoch 26/30\n",
      "464809/464809 [==============================] - 2s 4us/step - loss: 0.3533 - accuracy: 0.8525\n",
      "Epoch 27/30\n",
      "464809/464809 [==============================] - 2s 4us/step - loss: 0.3510 - accuracy: 0.8526\n",
      "Epoch 28/30\n",
      "464809/464809 [==============================] - 2s 4us/step - loss: 0.3491 - accuracy: 0.8542\n",
      "Epoch 29/30\n",
      "464809/464809 [==============================] - 2s 4us/step - loss: 0.3460 - accuracy: 0.8555\n",
      "Epoch 30/30\n",
      "464809/464809 [==============================] - 2s 4us/step - loss: 0.3454 - accuracy: 0.8556\n"
     ]
    }
   ],
   "source": [
    "model.fit(\n",
    "    X_train, y_train,\n",
    "    batch_size=1024,\n",
    "    epochs=30,\n",
    "    verbose=1 # выводить информацию по ходу дела\n",
    ");"
   ]
  },
  {
   "cell_type": "code",
   "execution_count": 5,
   "metadata": {},
   "outputs": [
    {
     "name": "stdout",
     "output_type": "stream",
     "text": [
      "116203/116203 [==============================] - 6s 49us/step\n"
     ]
    },
    {
     "data": {
      "text/plain": [
       "'loss 0.31, accuracy 0.87'"
      ]
     },
     "execution_count": 5,
     "metadata": {},
     "output_type": "execute_result"
    }
   ],
   "source": [
    "'loss %.2f, accuracy %.2f' % tuple(model.evaluate(X_test, y_test))"
   ]
  },
  {
   "cell_type": "markdown",
   "metadata": {},
   "source": [
    "Поскольку метрика качества продолжает расти, скорее всего мы задали мало итераций. Однако сети имеют свойство переобучаться, поэтому и используется и `dropout`, и отбор лучшей модели по метрикам. Для последнего, используется `callback` (функция, вызываемая на каждой эпохе) `ModelCheckpoint`. Как его использовать, наряду со своим ~~доморощенным~~, показано в коде ниже."
   ]
  },
  {
   "cell_type": "code",
   "execution_count": 6,
   "metadata": {},
   "outputs": [],
   "source": [
    "from IPython.display import clear_output\n",
    "\n",
    "# отнаследуемся от базового класса и переопределим конструктор\n",
    "# и метод, вызываемый по окончанию эпохи\n",
    "\n",
    "class PlotLosses(keras.callbacks.Callback):\n",
    "    def __init__(self, metric=False, check_max=True):\n",
    "        super(PlotLosses, self).__init__()\n",
    "        self.logs = []\n",
    "        self.losses = []\n",
    "        self.val_losses = []\n",
    "        self.metric = metric or 'loss'\n",
    "        self.better = max if check_max else min\n",
    "        \n",
    "    def on_epoch_end(self, epoch, logs={}):\n",
    "        clear_output(wait=True)\n",
    "        self.logs.append(logs)\n",
    "        x = range(1, len(self.logs) + 1)\n",
    "\n",
    "        self.losses.append(logs.get(self.metric))\n",
    "        if logs.get('val_' + self.metric):\n",
    "            self.val_losses.append(logs.get('val_' + self.metric))\n",
    "        \n",
    "        if len(self.val_losses):\n",
    "            self.best_step = 1 + (\n",
    "                self.val_losses.index(self.better(self.val_losses)) or 0\n",
    "            )\n",
    "        else:\n",
    "            self.best_step = epoch\n",
    "\n",
    "        plt.plot(x, self.losses, ls='--', c='#323232', label=self.metric)\n",
    "        if len(self.val_losses):\n",
    "            plt.plot(x, self.val_losses, ls='-', c='#323232', label=\"val_\" + self.metric)\n",
    "        plt.title(\"Step %d, %.4f, validation %.4f (best %.4f at %d)\" % (\n",
    "            len(self.logs),\n",
    "            logs.get(self.metric) or 0,\n",
    "            logs.get('val_' + self.metric) or 0,\n",
    "            self.better(self.val_losses if len(self.val_losses) else [0]) or 0,\n",
    "            self.best_step\n",
    "        ))\n",
    "        plt.legend(loc='best')        \n",
    "        plt.show()"
   ]
  },
  {
   "cell_type": "markdown",
   "metadata": {},
   "source": [
    "Для отбора лучшей модели используют валидационное множество (а итоговое всё так же проверяют на тестовом). "
   ]
  },
  {
   "cell_type": "code",
   "execution_count": 7,
   "metadata": {},
   "outputs": [
    {
     "data": {
      "image/png": "[encoded data removed]",
      "text/plain": [
       "<Figure size 432x288 with 1 Axes>"
      ]
     },
     "metadata": {
      "needs_background": "light"
     },
     "output_type": "display_data"
    }
   ],
   "source": [
    "keras.backend.clear_session()\n",
    "\n",
    "model = create_model(\n",
    "    number_features=X_train.shape[1],\n",
    "    number_classes=y_train.shape[1]\n",
    ")\n",
    "\n",
    "# четверть тренировочных оставим\n",
    "# под валидацию\n",
    "validation = int(train * 0.25)\n",
    "\n",
    "model.fit(\n",
    "    X_train[validation:], y_train[validation:],\n",
    "    batch_size=1024,\n",
    "    epochs=100,\n",
    "    validation_data=(X_train[:validation], y_train[:validation]),\n",
    "    verbose=0, # НЕ выводить информацию по ходу дела\n",
    "    callbacks=[\n",
    "        PlotLosses(metric='accuracy'),\n",
    "        keras.callbacks.ModelCheckpoint(\n",
    "            'models/covtypes.h5',\n",
    "            monitor='val_accuracy',\n",
    "            save_best_only=True\n",
    "        )\n",
    "    ]\n",
    ");"
   ]
  },
  {
   "cell_type": "code",
   "execution_count": 8,
   "metadata": {},
   "outputs": [
    {
     "name": "stdout",
     "output_type": "stream",
     "text": [
      "116203/116203 [==============================] - 6s 48us/step\n"
     ]
    },
    {
     "data": {
      "text/plain": [
       "'loss 0.25, accuracy 0.90'"
      ]
     },
     "execution_count": 8,
     "metadata": {},
     "output_type": "execute_result"
    }
   ],
   "source": [
    "# загрузим нашу лучшую отобранную по accuracy на валидации модель\n",
    "best_model = keras.models.load_model('models/covtypes.h5')\n",
    "'loss %.2f, accuracy %.2f' % tuple(best_model.evaluate(X_test, y_test))"
   ]
  },
  {
   "cell_type": "markdown",
   "metadata": {},
   "source": [
    "## Заключение\n",
    "\n",
    "Видим, что метрика и дальше могла бы улучшаться, но с каждым шагом дальше это происходит всё медленнее, улучшение всё меньше. На диаграммах, подобных выше, сразу видно, переобучается модель (на тренировочных данных метрика сильно больше) или нет (тренировочные и валидационные данные дают схожие метрики).\n",
    "\n",
    "Так же стоит отметить, что готовить данные для сетей и обучать их - дело не самое простое. Тем не менее, их \"всеядность\" в плане данных не оставляет иного выбора исследователям. И далее мы посмотрим, что еще могут такого нейросети, кроме и так нам понятных табличных данных."
   ]
  }
 ],
 "metadata": {
  "kernelspec": {
   "display_name": "py35",
   "language": "python",
   "name": "py35"
  },
  "language_info": {
   "codemirror_mode": {
    "name": "ipython",
    "version": 3
   },
   "file_extension": ".py",
   "mimetype": "text/x-python",
   "name": "python",
   "nbconvert_exporter": "python",
   "pygments_lexer": "ipython3",
   "version": "3.6.6"
  }
 },
 "nbformat": 4,
 "nbformat_minor": 2
}
