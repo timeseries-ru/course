{
 "cells": [
  {
   "cell_type": "markdown",
   "metadata": {},
   "source": [
    "# День первый, обзорный\n",
    "И сегодня нас ждут следующие темы:\n",
    "1. Определения и примеры,\n",
    "2. Элементы теории вероятностей и математической статистики,\n",
    "3. Немного о том, почему машинное обучение вообще работает,\n",
    "4. Об инструментарии: `jupyter lab` и `python`,\n",
    "5. Как делаются исследования в сфере анализа данных, процесс,\n",
    "6. Обзор дальнейших разделов курса на примерах результатов."
   ]
  },
  {
   "cell_type": "markdown",
   "metadata": {},
   "source": [
    "## 1.1 Определения алгоритма, модели, метрик и задач машинного обучения"
   ]
  },
  {
   "cell_type": "markdown",
   "metadata": {},
   "source": [
    "Формальные определения требуют владения серьезным математическим аппаратом. Мы попробуем обойтись без этого.\n",
    "\n",
    "Самое первое, из того что нам понадобится, это понятие **датасета** (или *набора данных*). Это прямоугольная таблица значений, каждая строка которой называется **пример**, или же **sample**, а каждая колонка - **признак** или, что то же самое, **feature**."
   ]
  },
  {
   "cell_type": "markdown",
   "metadata": {},
   "source": [
    "Индекс примера   | Признак_1 | Признак_2 | Признак_3 | Признак_4 | Признак_5 \n",
    "-----------------|-----------|-----------|-----------|-----------|-----------\n",
    " 1               | 10        | 20        | \"строка 1\"| True      | 3.1415926    \n",
    " 2               | 15        | 10        | \"строка 2\"| False     | 2.71      \n",
    " 3               | 12        | 40        | \"строка 3\"| False     | -1.12345  "
   ]
  },
  {
   "cell_type": "markdown",
   "metadata": {},
   "source": [
    "Для **задач обучения с учителем**, один выбранный признак - вся колонка - объявляется как **целевая величина**, или **target** (часто обозначают как `y`), оставшиеся признаки мы так и будем называть признаками (features), их часто обозначают как `X`. \n",
    "\n",
    "> В задаче обучения с учителем, необходимо предсказывать целевую величину с помощью входных признаков. Она называется \"с учителем\", потому что для ряда примеров у нас есть правильные ответы, и на них можно \"научиться\" предсказывать.\n",
    "> \n",
    "> Для **задач обучения без учителя** - правильных ответов нет, и задача исследователя - найти некоторые полезные структуры в данных. "
   ]
  },
  {
   "cell_type": "markdown",
   "metadata": {},
   "source": [
    "Что позволяет научиться машине предсказывать ответы или исследовать данные? \n",
    "Снова обойдемся без очень формальных определений, так как приведенные ниже определения сконструированы именно под этот курс.\n",
    "\n",
    "1. **Модель** - это функция, которая принимает одно или более значений на входе, выдаёт значения на выходе (чаще всего одно - предсказание целевой величины),\n",
    "2. **Метрика** - это число, получаемое в результате сравнения известных правильных ответов, и тех, которыми отвечает модель. Иногда это можно называть ошибкой модели,\n",
    "3. **Алгоритм** - это инструкции, которые принимают на вход данные, а выдают на выходе *модель*.\n",
    "\n",
    "> В машинном обучении существует множество заготовленных *алгоритмов*, которые позволяют *по данным* строить *модели* так, чтобы *ошибка модели* была насколько это возможно меньше.\n",
    "\n",
    "![Model Diagram](media/diagram_model.svg)"
   ]
  },
  {
   "cell_type": "markdown",
   "metadata": {},
   "source": [
    "По типу значений *целевого признака* при обучении с учителем, задачи делят на как минимум следующие:\n",
    "1. Регрессия - когда целевой признак, это любое вещественное число (с запятой), например рост, вес, количество денег,\n",
    "2. Классификация - когда целевой признак принимает значения из заранее заданного множества (да/нет, собака/кошка/лошадь/...)."
   ]
  },
  {
   "cell_type": "markdown",
   "metadata": {},
   "source": [
    "## Пример\n",
    "\n",
    "Давайте рассмотрим пример алгоритма, модели и метрики. В этом разделе уже пойдет код, вдаваться в детали которого мы пока не будем, но в этом же лекционном дне далее станет ясно, что в нём происходит.\n",
    "\n",
    "> Представим себе ситуацию, когда мы случайно попадаем на необитаемый остров, и видим незнакомый нам фрукт. С легкой руки назовём *мангустин*. Мы попробовали 10 таких фруктов, и составили таблицу.\n",
    "> \n",
    "> Для каждого мангустина, мы некоторым образом знаем его размер в сантиметрах и вес в граммах, а также вкусный он или нет (да/нет)."
   ]
  },
  {
   "cell_type": "code",
   "execution_count": 1,
   "metadata": {},
   "outputs": [
    {
     "data": {
      "text/html": [
       "<div>\n",
       "<style scoped>\n",
       "    .dataframe tbody tr th:only-of-type {\n",
       "        vertical-align: middle;\n",
       "    }\n",
       "\n",
       "    .dataframe tbody tr th {\n",
       "        vertical-align: top;\n",
       "    }\n",
       "\n",
       "    .dataframe thead th {\n",
       "        text-align: right;\n",
       "    }\n",
       "</style>\n",
       "<table border=\"1\" class=\"dataframe\">\n",
       "  <thead>\n",
       "    <tr style=\"text-align: right;\">\n",
       "      <th></th>\n",
       "      <th>weight</th>\n",
       "      <th>radius</th>\n",
       "      <th>tasty</th>\n",
       "    </tr>\n",
       "  </thead>\n",
       "  <tbody>\n",
       "    <tr>\n",
       "      <th>0</th>\n",
       "      <td>50.000000</td>\n",
       "      <td>0.500000</td>\n",
       "      <td>False</td>\n",
       "    </tr>\n",
       "    <tr>\n",
       "      <th>1</th>\n",
       "      <td>58.333333</td>\n",
       "      <td>0.833333</td>\n",
       "      <td>False</td>\n",
       "    </tr>\n",
       "    <tr>\n",
       "      <th>2</th>\n",
       "      <td>66.666667</td>\n",
       "      <td>1.166667</td>\n",
       "      <td>False</td>\n",
       "    </tr>\n",
       "    <tr>\n",
       "      <th>3</th>\n",
       "      <td>75.000000</td>\n",
       "      <td>1.500000</td>\n",
       "      <td>False</td>\n",
       "    </tr>\n",
       "    <tr>\n",
       "      <th>4</th>\n",
       "      <td>83.333333</td>\n",
       "      <td>1.833333</td>\n",
       "      <td>True</td>\n",
       "    </tr>\n",
       "    <tr>\n",
       "      <th>5</th>\n",
       "      <td>91.666667</td>\n",
       "      <td>2.166667</td>\n",
       "      <td>False</td>\n",
       "    </tr>\n",
       "    <tr>\n",
       "      <th>6</th>\n",
       "      <td>100.000000</td>\n",
       "      <td>2.500000</td>\n",
       "      <td>True</td>\n",
       "    </tr>\n",
       "    <tr>\n",
       "      <th>7</th>\n",
       "      <td>108.333333</td>\n",
       "      <td>2.833333</td>\n",
       "      <td>True</td>\n",
       "    </tr>\n",
       "    <tr>\n",
       "      <th>8</th>\n",
       "      <td>116.666667</td>\n",
       "      <td>3.166667</td>\n",
       "      <td>True</td>\n",
       "    </tr>\n",
       "    <tr>\n",
       "      <th>9</th>\n",
       "      <td>125.000000</td>\n",
       "      <td>3.500000</td>\n",
       "      <td>True</td>\n",
       "    </tr>\n",
       "  </tbody>\n",
       "</table>\n",
       "</div>"
      ],
      "text/plain": [
       "       weight    radius  tasty\n",
       "0   50.000000  0.500000  False\n",
       "1   58.333333  0.833333  False\n",
       "2   66.666667  1.166667  False\n",
       "3   75.000000  1.500000  False\n",
       "4   83.333333  1.833333   True\n",
       "5   91.666667  2.166667  False\n",
       "6  100.000000  2.500000   True\n",
       "7  108.333333  2.833333   True\n",
       "8  116.666667  3.166667   True\n",
       "9  125.000000  3.500000   True"
      ]
     },
     "execution_count": 1,
     "metadata": {},
     "output_type": "execute_result"
    }
   ],
   "source": [
    "%matplotlib inline\n",
    "# магическая команда для отображения диаграмм в jupyter-тетрадках\n",
    "\n",
    "# импорт библиотек\n",
    "import numpy as np # библиотека для удобной работы с массивами\n",
    "import pandas as pd # библиотека для удобной работы с датасетами\n",
    "\n",
    "import matplotlib.pyplot as plt # библиотека для графики\n",
    "import seaborn as sns # библиотека для отображения диаграмм\n",
    "\n",
    "# создадим наш датасет и наполним его синтетическими данными\n",
    "dataset = pd.DataFrame({\n",
    "    'weight': np.linspace(50, 125, 10), # 10 записей\n",
    "    'radius': np.linspace(0.5, 3.5, 10), # еще десять записей,\n",
    "    'tasty': [False] * 4 + [True, False] + [True] * 4 # наш целевой признак\n",
    "})\n",
    "\n",
    "dataset"
   ]
  },
  {
   "cell_type": "markdown",
   "metadata": {},
   "source": [
    "Все наши знания о мангустинах приведены в этой таблице. Нам надо использовать некоторый алгоритм, который создаст модель для предсказания по размеру и весу - будет ли мангустин вкусным.\n",
    "Сначала отобразим наши данные на плоскости, возможно это позволит сделать некоторые предположения."
   ]
  },
  {
   "cell_type": "code",
   "execution_count": 2,
   "metadata": {},
   "outputs": [
    {
     "data": {
      "image/png": "[encoded data removed]",
      "text/plain": [
       "<Figure size 432x288 with 1 Axes>"
      ]
     },
     "metadata": {
      "needs_background": "light"
     },
     "output_type": "display_data"
    }
   ],
   "source": [
    "sns.scatterplot(x=\"weight\", y=\"radius\", hue=\"tasty\", data=dataset); # зададим что по осям и что брать за цвет"
   ]
  },
  {
   "cell_type": "markdown",
   "metadata": {},
   "source": [
    "Уже из данной диаграммы видно, что чем больше размер и вес, тем мангустин ***обычно*** вкуснее, но есть и исключения. Мы не будем особо мудрствовать, и используем следующий метод для построения модели\n",
    "\n",
    "1. Модель - пусть это функция $tasty = f(weight, radius) > threshold = weight * a + radius * b > threshold$, где `a`, `b`, и `threshold` - называются параметрами модели,\n",
    "\n",
    "2. Метрика (ошибка модели) - количество *неправильно* классифицированных примеров,\n",
    "\n",
    "Пусть `N` - количество примеров (известных нам мангустинов), и пусть наш алгоритм будет следующим: \n",
    "$$a = \\frac {max(weight) - min(weight)} {N},$$\n",
    "$$b = \\frac {max(radius) - min(radius)} {N},$$\n",
    "\n",
    "`threshold` же находится перебором с шагом 1 по всем записям, лучшим считается тот, который дает минимум нашей метрике."
   ]
  },
  {
   "cell_type": "code",
   "execution_count": 3,
   "metadata": {},
   "outputs": [
    {
     "name": "stdout",
     "output_type": "stream",
     "text": [
      "Порог 0.0 дал улучшение, неправильных ответов 5\n",
      "Порог 376.0 дал улучшение, неправильных ответов 4\n",
      "Порог 438.0 дал улучшение, неправильных ответов 3\n",
      "Порог 501.0 дал улучшение, неправильных ответов 2\n",
      "Порог 563.0 дал улучшение, неправильных ответов 1\n"
     ]
    },
    {
     "data": {
      "text/plain": [
       "[7.5, 0.3, 563.0]"
      ]
     },
     "execution_count": 3,
     "metadata": {},
     "output_type": "execute_result"
    }
   ],
   "source": [
    "# наша арифметическая модель\n",
    "def model(weight, radius, a, b, threshold):\n",
    "    return weight * a + radius * b > threshold\n",
    "\n",
    "# подсчет метрики как суммы несовпадающих ответов\n",
    "# True соответствует 1, False соответствует 0\n",
    "def metric(y_true, y_predicted):\n",
    "    return sum(y_true != y_predicted)\n",
    "\n",
    "def algorithm_create_model(data):\n",
    "    # здесь .max и .min - это всей колонке нашей таблицы\n",
    "    a = (data.weight.max() - data.weight.min()) / len(data)\n",
    "    b = (data.radius.max() - data.radius.min()) / len(data)\n",
    "    \n",
    "    best_metric = np.inf # инициализируем бесконечностью\n",
    "    best_threshold = None\n",
    "    \n",
    "    # перебор будем вести до максимума значений до сравнения\n",
    "    model_maximum = data.weight.max() * a + data.radius.max() * b\n",
    "    \n",
    "    # для каждого порога\n",
    "    for threshold in np.arange(0, model_maximum, 1.):\n",
    "        y_predicted = []\n",
    "        for index in range(len(data)): # пройдем по всем примерам\n",
    "            predicted = model(\n",
    "                data.weight.values[index],\n",
    "                data.radius.values[index],\n",
    "                a, b, threshold\n",
    "            )\n",
    "            # подсчитаем прогноз модели\n",
    "            y_predicted.append(predicted)\n",
    "        \n",
    "        # подсчитаем метрику по всем примерам\n",
    "        current_metric = metric(\n",
    "            y_true=data.tasty, \n",
    "            y_predicted=y_predicted\n",
    "        )\n",
    "        \n",
    "        # сверим, дает ли текущий порог лучше качество\n",
    "        # и сохранием его, если так\n",
    "        if current_metric < best_metric:\n",
    "            best_metric = current_metric\n",
    "            best_threshold = threshold\n",
    "            \n",
    "            print(\"Порог %.1f дал улучшение, неправильных ответов %d\" % (\n",
    "                threshold, current_metric\n",
    "            ))\n",
    "            \n",
    "    return [a, b, best_threshold]\n",
    "            \n",
    "algorithm_create_model(dataset)"
   ]
  },
  {
   "cell_type": "markdown",
   "metadata": {},
   "source": [
    "### ВАЖНО!\n",
    "\n",
    "> Мы \"обучили\" модель на всех доступных данных, и мы НЕ можем быть уверенными, что она их просто не запомнила.\n",
    "> Чтобы быть до некоторой степени уверенным, мы должны проверять качество модели на отложенном тестовом множестве.\n",
    "\n",
    "Перемешаем данные и проверим предсказания на трех отложенных мангустинах."
   ]
  },
  {
   "cell_type": "code",
   "execution_count": 4,
   "metadata": {},
   "outputs": [
    {
     "name": "stdout",
     "output_type": "stream",
     "text": [
      "Порог 0.0 дал улучшение, неправильных ответов 4\n",
      "Порог 536.0 дал улучшение, неправильных ответов 3\n",
      "Порог 626.0 дал улучшение, неправильных ответов 2\n",
      "Порог 715.0 дал улучшение, неправильных ответов 1\n",
      "Порог 805.0 дал улучшение, неправильных ответов 0\n"
     ]
    },
    {
     "data": {
      "text/plain": [
       "'Количество неправильных предсказаний из 3 тестовых: 1'"
      ]
     },
     "execution_count": 4,
     "metadata": {},
     "output_type": "execute_result"
    }
   ],
   "source": [
    "data = dataset.copy().sample(\n",
    "    frac=1.,  # выберем все записи в случайном порядке\n",
    "    random_state=1 # зафиксируем генератор случайных чисел для воспроизводимости\n",
    ")\n",
    "\n",
    "# отложим наши множества, в тестовом будет только три случая с конца\n",
    "train = data[:-3]\n",
    "test = data[-3:]\n",
    "\n",
    "a, b, threshold = algorithm_create_model(train)\n",
    "\"Количество неправильных предсказаний из 3 тестовых: %d\" % metric(\n",
    "    test.tasty,\n",
    "    model(test.weight, test.radius, a, b, threshold)\n",
    ")"
   ]
  },
  {
   "cell_type": "markdown",
   "metadata": {},
   "source": [
    "Как видим, наша модель ошибается в 1 случае из 3. Можно догадаться, что она ошибается в том случае, когда метки нарушают возрастающий порядок в размерах и весе мангустина."
   ]
  },
  {
   "cell_type": "code",
   "execution_count": 5,
   "metadata": {},
   "outputs": [
    {
     "data": {
      "image/png": "[encoded data removed]",
      "text/plain": [
       "<Figure size 432x288 with 2 Axes>"
      ]
     },
     "metadata": {
      "needs_background": "light"
     },
     "output_type": "display_data"
    }
   ],
   "source": [
    "# посмотрим как предсказывает наша модель все данные и отобразим наши множества разными маркерами\n",
    "\n",
    "plt.subplot(1, 2, 1);\n",
    "plt.title(\"Истинные значения\");\n",
    "sns.scatterplot(x=\"weight\", y=\"radius\", hue=\"tasty\", style=\"is_test\", data=pd.DataFrame({\n",
    "    \"weight\": data.weight,\n",
    "    \"radius\": data.radius,\n",
    "    \"tasty\": data.tasty,\n",
    "    \"is_test\": [\n",
    "        \"test\" if sample_index in test.index else \"train\" for sample_index in data.index\n",
    "    ]\n",
    "}));\n",
    "\n",
    "plt.subplot(1, 2, 2);\n",
    "plt.title(\"Предсказания\");\n",
    "sns.scatterplot(x=\"weight\", y=\"radius\", hue=\"prediction\", style=\"is_test\", data=pd.DataFrame({\n",
    "    \"weight\": data.weight,\n",
    "    \"radius\": data.radius,\n",
    "    \"prediction\": model(data.weight, data.radius, a, b, threshold),\n",
    "    \"is_test\": [\n",
    "        \"test\" if sample_index in test.index else \"train\" for sample_index in data.index\n",
    "    ]\n",
    "}));\n",
    "\n",
    "plt.tight_layout();"
   ]
  },
  {
   "cell_type": "markdown",
   "metadata": {},
   "source": [
    "### Заключение\n",
    "\n",
    "В данном курсе мы в основном не будем составлять собственные алгоритмы, а будем пользоваться уже готовыми. Их много, и работают они хорошо в разных случаях. За каждым из них стоит некоторая своя *интуиция*, как в случае алгоритма выше стояла следующая: чем выше размер и вес мангустина - тем он, начиная с некоторого порога, вкусный. \n",
    "\n",
    "Другие данные могут давать (совсем) другие подсказки, и поэтому мы уделим внимание и разведочному анализу данных, цель которого - найти эти подсказки в данных и выбрать алгоритм получше. \n",
    "\n",
    "Также из основного, следует понимать, что **мы обязаны** проверять качество на тех данных, которые модель не видела, что избежать самообмана. Модели, как и люди, могут запоминать правильные ответы (и далее мы даже увидим построенный на это алгоритм), и ничего ***не обобщать*** *(no generalization)*. Отсутствие обобщения - это то, чего мы будем избегать, стараясь при этом минимизировать ошибку."
   ]
  },
  {
   "cell_type": "markdown",
   "metadata": {},
   "source": [
    "## 1.2 Элементы теории вероятностей и математической статистики"
   ]
  },
  {
   "cell_type": "markdown",
   "metadata": {},
   "source": [
    "Начнем с того, что всё что случайно, как ни странно, случайно по-разному. Например, и монетка, и игральный кубик - с равной вероятностью выдают свои исходы. Но, например, попадание выпущенной из лука стрелой \"в десяточку\" - тяготеет все же к этой самой десяточке, хотя и случайным образом в неё иногда не попадает.\n",
    "\n",
    "Как и в случае с алгоритмами и моделями, мы в рамках этого курса не будем вдаваться во все математические детали определений (хотя они очень важны). Ограничимся лишь тем, что нам потребуется.\n",
    "\n",
    "**Случайная величина** - это величина, принимающая какой-либо исход из множества для неё возможных. Например, случайная величина на `(0, 1)` принимает значения только из этого интервала (*непрерывная* случайная величина, её исходы всегда между нулем и единицей). Или, случайная величина может принимать два исхода `{-1; 1}` - *дискретная* случайная величина.\n",
    "\n",
    "**Вероятность** - это число от 0 до 1 (включительно), характеризующее, условно, как часто мы в конкретный исход попадём, или же насколько *мы верим* в то, что он произойдет (это так, если мы еще ни разу не проводили испытаний).\n",
    "\n",
    "> Например, для дискретной величины `{-1, 1}`, если вероятность для `-1` равна `0.3`, мы будем считать что это означает, что в 100 испытаниях нам выпадет `-1` как раз 30 раз.\n",
    "> Для непрерывной, вероятность определяется не в точке, а в луче: вероятность что `величина < 0.5` равна `0.3`, означает что в точках менее 0.5 величина будет в 3 случаях из 10.\n",
    "\n",
    "Формально, определения немного (если не сказать совершенно) другие. Но для наших нужд такого подхода будет достаточно.\n",
    "\n",
    "**Функция распределения случайной величины** - описывает как раз все вероятности для всех исходов. То есть `0 < F(x) < 1`, для любого `x` из множества исходов величины. *Плотность распределения* - это производная функции распределения (её определенный интеграл даёт вероятность).\n",
    "\n",
    "Давайте на примерах."
   ]
  },
  {
   "cell_type": "markdown",
   "metadata": {},
   "source": [
    "Посмотрим на *равномерно* распределенную на (0, 1) случайную величину. Равномерно, это означает что чем длинее отрезок, тем пропорционально выше вероятность попасть в него."
   ]
  },
  {
   "cell_type": "code",
   "execution_count": 6,
   "metadata": {},
   "outputs": [
    {
     "data": {
      "image/png": "[encoded data removed]",
      "text/plain": [
       "<Figure size 432x288 with 1 Axes>"
      ]
     },
     "metadata": {
      "needs_background": "light"
     },
     "output_type": "display_data"
    }
   ],
   "source": [
    "X = [] # массив, где будут наши случайные величины\n",
    "\n",
    "for index in range(1000): # цикл от 0 до 999\n",
    "    X.append(np.random.uniform())\n",
    "    \n",
    "# и отобразим количество попаданий точки это величины\n",
    "sns.distplot(\n",
    "    X,\n",
    "    kde=False # не делать оценку плотности распределения\n",
    ");"
   ]
  },
  {
   "cell_type": "markdown",
   "metadata": {},
   "source": [
    "Рассмотрим распределенную на (-Infinity, +Infinity) случайную величину, со средним значением в числе 10, и такую чтобы её значения с чуть более чем 95%-вероятностью попадали в диапазон от +5 до +15. \n",
    "\n",
    "Для того, чтобы значения *нормально распределенной случайной величины* (это значит функция распределения имеет определенный заданный вид, пока не суть какой) в более чем 95% случаев лежали в заданном диапазоне `(среднее - L, среднее + L)`, нужно задать её *стандартное отклонение* как `L / 2`."
   ]
  },
  {
   "cell_type": "code",
   "execution_count": 7,
   "metadata": {},
   "outputs": [
    {
     "data": {
      "image/png": "[encoded data removed]",
      "text/plain": [
       "<Figure size 432x288 with 1 Axes>"
      ]
     },
     "metadata": {
      "needs_background": "light"
     },
     "output_type": "display_data"
    }
   ],
   "source": [
    "X = [] # массив, где будут наши случайные величины\n",
    "\n",
    "for index in range(10000): # цикл от 0 до 9999\n",
    "    X.append(np.random.normal(\n",
    "        10, # среднее\n",
    "        2.5 # это половина ширины диапазона        \n",
    "    ))\n",
    "\n",
    "# и отобразим количество попаданий точки это величины\n",
    "sns.distplot(\n",
    "    X,\n",
    "    kde=False # не делать оценку плотности распределения\n",
    ");\n",
    "\n",
    "plt.axvline(10, 0, 1, ls='-', c='black');\n",
    "plt.axvline(5, 0, 1, ls='--', c='black');\n",
    "plt.axvline(15, 0, 1, ls='--', c='black');\n",
    "\n",
    "plt.annotate(\"Среднее\", (10, 500), (11, 600), arrowprops={\"arrowstyle\": '->'});\n",
    "plt.annotate(\"Здесь лежат около 95% исходов\", (4.5, 100));"
   ]
  },
  {
   "cell_type": "code",
   "execution_count": 8,
   "metadata": {},
   "outputs": [
    {
     "data": {
      "text/plain": [
       "0.9566"
      ]
     },
     "execution_count": 8,
     "metadata": {},
     "output_type": "execute_result"
    }
   ],
   "source": [
    "# Подсчитаем процент попавших в диапазон от +5 до +15 точек\n",
    "sum([1 if x >= 5 and x <= 15 else 0 for x in X]) / len(X)"
   ]
  },
  {
   "cell_type": "markdown",
   "metadata": {},
   "source": [
    "Случай дискретных величин выглядит слегка вырожденно."
   ]
  },
  {
   "cell_type": "code",
   "execution_count": 9,
   "metadata": {},
   "outputs": [
    {
     "data": {
      "image/png": "[encoded data removed]",
      "text/plain": [
       "<Figure size 432x288 with 1 Axes>"
      ]
     },
     "metadata": {
      "needs_background": "light"
     },
     "output_type": "display_data"
    }
   ],
   "source": [
    "X = []\n",
    "\n",
    "for index in range(100):\n",
    "    x = 1 if np.random.uniform() > 0.3 else 0\n",
    "    X.append(x)\n",
    "    \n",
    "sns.distplot(X, kde=False);"
   ]
  },
  {
   "cell_type": "markdown",
   "metadata": {},
   "source": [
    "**Задача теории вероятностей** - это уметь описывать случайные величины.\n",
    "\n",
    "**Задача математической статистики** - обратная. По выборке из случайных значений, определить что это за величина (её свойства).\n",
    "Любая функция от выборки - например среднее значение, или самое часто встречающееся (в статистике - *мода*), - называется *статистикой*.\n",
    "\n",
    "Анализ данных и машинное обучение - это в некотором смысле продолжение статистики, так как мы по случайной выборке (датасету) должны установить зависимость между признаками и целевой величиной."
   ]
  },
  {
   "cell_type": "markdown",
   "metadata": {},
   "source": [
    "### Пример"
   ]
  },
  {
   "cell_type": "markdown",
   "metadata": {},
   "source": [
    "Представим, что у нас есть замеры роста 300 человек. Мы не знаем что это за случайная величина, но мы можем рассмотреть её различные описательные статистики, и что-то сказать о её поведении."
   ]
  },
  {
   "cell_type": "code",
   "execution_count": 10,
   "metadata": {},
   "outputs": [
    {
     "data": {
      "image/png": "[encoded data removed]",
      "text/plain": [
       "<Figure size 432x288 with 1 Axes>"
      ]
     },
     "metadata": {
      "needs_background": "light"
     },
     "output_type": "display_data"
    }
   ],
   "source": [
    "height = [\n",
    "    np.random.normal(170, 5) for _ in range(300) # синтетические данные\n",
    "]\n",
    "\n",
    "sns.distplot(height, kde=False);"
   ]
  },
  {
   "cell_type": "markdown",
   "metadata": {},
   "source": [
    "### Описательные статистики"
   ]
  },
  {
   "cell_type": "code",
   "execution_count": 11,
   "metadata": {},
   "outputs": [
    {
     "data": {
      "text/html": [
       "<div>\n",
       "<style scoped>\n",
       "    .dataframe tbody tr th:only-of-type {\n",
       "        vertical-align: middle;\n",
       "    }\n",
       "\n",
       "    .dataframe tbody tr th {\n",
       "        vertical-align: top;\n",
       "    }\n",
       "\n",
       "    .dataframe thead th {\n",
       "        text-align: right;\n",
       "    }\n",
       "</style>\n",
       "<table border=\"1\" class=\"dataframe\">\n",
       "  <thead>\n",
       "    <tr style=\"text-align: right;\">\n",
       "      <th></th>\n",
       "      <th>count</th>\n",
       "      <th>mean</th>\n",
       "      <th>std</th>\n",
       "      <th>min</th>\n",
       "      <th>25%</th>\n",
       "      <th>50%</th>\n",
       "      <th>75%</th>\n",
       "      <th>max</th>\n",
       "    </tr>\n",
       "  </thead>\n",
       "  <tbody>\n",
       "    <tr>\n",
       "      <th>height</th>\n",
       "      <td>300.0</td>\n",
       "      <td>170.458378</td>\n",
       "      <td>5.139573</td>\n",
       "      <td>156.121172</td>\n",
       "      <td>167.230893</td>\n",
       "      <td>170.240707</td>\n",
       "      <td>174.288382</td>\n",
       "      <td>184.651517</td>\n",
       "    </tr>\n",
       "  </tbody>\n",
       "</table>\n",
       "</div>"
      ],
      "text/plain": [
       "        count        mean       std         min         25%         50%  \\\n",
       "height  300.0  170.458378  5.139573  156.121172  167.230893  170.240707   \n",
       "\n",
       "               75%         max  \n",
       "height  174.288382  184.651517  "
      ]
     },
     "execution_count": 11,
     "metadata": {},
     "output_type": "execute_result"
    }
   ],
   "source": [
    "pd.DataFrame({'height' : height}).describe().T"
   ]
  },
  {
   "cell_type": "markdown",
   "metadata": {},
   "source": [
    "Здесь мы видим:\n",
    "- количество (count) записей,\n",
    "- среднее (mean) для всех замеров роста,\n",
    "- стандартное отклонение (std) - для нормального распределения, 95% данных лежат в интервале (`среднее - 2 * стандартное отклонение`, `среднее + 2 * стандартное отклонение`),\n",
    "- 25% данных ниже значения, указанного в столбце 25%\n",
    "- аналогично с другими процентными значениями (эти статитистики называются процентилями),\n",
    "- минимум и максимум по всем данным."
   ]
  },
  {
   "cell_type": "markdown",
   "metadata": {},
   "source": [
    "### Три важных теоремы"
   ]
  },
  {
   "cell_type": "markdown",
   "metadata": {},
   "source": [
    "**Закон больших чисел**: если все случайные величины у нас независимы и одинаково распределены, то ***выборочное среднее*** стремится при увеличении числа испытаний к ***математическому ожиданию***.\n",
    "\n",
    "Математическое ожидание - это взвешенные по вероятностям исходы, то есть в дискретном случае,\n",
    "\n",
    "$$E[x] = \\sum p_i x_i,$$\n",
    "где $x_i$ - исходы (значения) случайной величины, а $p_i$ - их вероятность.\n",
    "\n",
    "По сути, это означает, что в условиях незнания среднего по всем возможным ситуациям (по \"всем данным в мире\"), мы можем при большом количестве данных заменить его выборочным средним. В нашем при мере с ростом, это означает, что средний рост по всё более увеличивающейся выборке будет ближе к некоторому истинному значению (по \"всем данным в мире\")."
   ]
  },
  {
   "cell_type": "markdown",
   "metadata": {},
   "source": [
    "**Центральная предельная теорема**: для независимых случайных величин из одного распределения со средним $M$ и стандартным отклонением $S$, их выборочное среднее стремится (при увеличении количества испытаний $n$) к нормальному распределению с тем же средним и разбросом $\\frac {S^2} {n}$.\n",
    "\n",
    "Возвращаясь к нашему примеру с ростом, это означает, что по мере роста выборки, средний рост будет распределен как нормальная случайная величина, и чем точнее нам нужно его измерять - тем больше данных нам нужно."
   ]
  },
  {
   "cell_type": "markdown",
   "metadata": {},
   "source": [
    "**Условная вероятность и теорема Байеса**\n",
    "\n",
    "Тут мы подходим к одному из краеугольных камней машинного обучения. Начнем с двух вопросов:\n",
    "1. Насколько вероятно, что через час будет дождь? Пусть это $A$\n",
    "2. Насколько вероятно, что через час будет дождь, если он уже идёт? Пусть вероятность дождя сейчас $B$.\n",
    "\n",
    "Без математики понятно, что речь идёт о разных ситуациях, что в математике формализуют как *условную вероятность* (определение):\n",
    "\n",
    "$$P(A|B) = \\frac {P(A \\cap B)} {P(B) }$$\n",
    "\n",
    "где $\\cap$ обозначает `И` (пересечение множеств), то есть совместную вероятность обоих случаев сразу.\n",
    "\n",
    "Практически из определения, вытекает **теорема Байеса**:\n",
    "\n",
    "$$P(A|B) = \\frac {P(B|A) * P(A)} {P(B)}$$\n",
    "\n",
    "В терминах дождей, это означает, что \n",
    "`вероятность что дождь будет через час, если он идёт сейчас = вероятность дождя сейчас, если он будет через час * вероятность дождя через час / вероятность дождя сейчас`.\n",
    "\n",
    "В данном примере мы ничего напрямую не выигрываем от теоремы (если только мы не метеорологи), но давайте рассмотрим другую, более практическую задачу."
   ]
  },
  {
   "cell_type": "markdown",
   "metadata": {},
   "source": [
    "Есть две корзины с печеньем:\n",
    "1. В первой 30 ванильных и 10 шоколадных,\n",
    "2. Во второй - 20 ванильных и 20 шоколадных.\n",
    "\n",
    "Мы в темноте вытаскиваем наугад из какой-то корзины ванильное печение. Какова вероятность, что мы вытащили её из первой?\n",
    "\n",
    "> Жизненный опыт подсказывает, что скорее всего из первой, так как в ней больше ванильных. Теорема Байеса же скажет, что вероятность вытащить из первой равна произведению вероятностей выбрать первую корзину $P(A)$, выбрать из неё ванильную $P(B | A)$, и всё это поделить на вероятность вытащить ванильную из всех корзин $P(B)$."
   ]
  },
  {
   "cell_type": "code",
   "execution_count": 12,
   "metadata": {},
   "outputs": [
    {
     "data": {
      "text/plain": [
       "0.6"
      ]
     },
     "execution_count": 12,
     "metadata": {},
     "output_type": "execute_result"
    }
   ],
   "source": [
    "prior = 1 / 2 # вытаскиваем из случайной корзины. это наше A\n",
    "\n",
    "likelihood = 3 / 4 # вероятность ванильной печеньки в первой корзине. это наше P(B|A)\n",
    "\n",
    "evidence = (30 + 20) / (20 + 20 + 30 + 10) # вероятность вытащить ванильную печеньку вообще из всех корзин. P(B)\n",
    "\n",
    "posterior = prior * likelihood / evidence\n",
    "\n",
    "assert posterior == 3 / 5 # выбросим ошибку, если равенство не выполняется\n",
    "posterior"
   ]
  },
  {
   "cell_type": "markdown",
   "metadata": {},
   "source": [
    "Это конечно замечательно, что мы можем сказать *вероятность*, конечно, но какая польза от всего этого? А польза в рамках анализа данных и машинного обучения, следующая. Задачу машинного обучения часто ставят как поиск параметров, таких что:\n",
    "\n",
    "`максимум вероятности получить (параметры | датасета)`, и поскольку такую вероятность мы саму по себе не знаём, то \"проворачивают ручку Байеса\":\n",
    "\n",
    "`вероятность (параметров | данные) = вероятность данных при параметрах * вероятность параметров / вероятность данных`. \n",
    "\n",
    "При максимизации вероятности слева, знаменатель справа не меняется (он не зависит от параметров модели), поэтому его даже не всегда считают. Если говорить простыми словами - при машинном обучении часто ищутся те параметры модели, которые имеют максимальную вероятность для имеющегося датасета."
   ]
  },
  {
   "cell_type": "markdown",
   "metadata": {},
   "source": [
    "### Заключение\n",
    "\n",
    "Мы не будем напрямую пользоваться указанными теоремами. Нам важно следующее следствие: \n",
    "\n",
    "> Чем больше в выборке наблюдений, тем лучше можно оценивать характеристики процесса генерации \"всех данных в мире\" (*data generation process*). Но поскольку у нас есть только выборка, то инструменты математической статистики очень пригождаются в анализе данных и машинном обучении."
   ]
  },
  {
   "cell_type": "markdown",
   "metadata": {},
   "source": [
    "## 1.3 А теперь... почему всё это работает"
   ]
  },
  {
   "cell_type": "markdown",
   "metadata": {},
   "source": [
    "> Если вы до этого чего-то не поняли, или вообще ничего не поняли, не расстраивайтесь. \n",
    ">\n",
    "> Сейчас будет еще сложнее. \n",
    "> \n",
    "> Обрадую - после этого будет всё только практика, и сравнительно легко по сравнению с тем, о чем будет сейчас."
   ]
  },
  {
   "cell_type": "markdown",
   "metadata": {},
   "source": [
    "### Probability-almost-correct (PAC-) обучаемость\n",
    "\n",
    "Всё это конечно замечательно, запустить алгоритм на данных, который нам выдаст модель, которая уловила в данных какие-то закономерности с некоторой ошибкой... А что если данных много, они большие, и их вообще человеку не понять? Не будем же мы проверять каждый ответ руками, смысл?\n",
    "\n",
    "**Вопрос**: можем ли мы верить моделям даже в пределах их ошибки?\n",
    "\n",
    "**Ответ**: да, но не всегда."
   ]
  },
  {
   "cell_type": "markdown",
   "metadata": {},
   "source": [
    "Что вообще означает, что алгоритм может выдать обучившуюся модель? Пусть у нас есть некоторый алгоритм, который выдал на данных нам модель, которая работает с некоторой ошибкой.\n",
    "\n",
    "Рассмотрим следующие понятия:\n",
    "- Ошибка генерализации - среднее значение ошибки на всех данных в мире. Мы её не знаем на самом деле.\n",
    "- Ошибка модели на тренировочном/тестовом множестве - среднее значение ошибки на выбранном известном множестве.\n",
    "- Желательно бы построить такую модель, которая будучи обученной на известном множестве, имела бы **минимальную ошибку генерализации**. \n",
    "\n",
    "Алгоритм называется PAC-обучаемым, если \n",
    "1. Выбрав порог ошибки `E`, например не более 1% в среднем от любых входных данных,\n",
    "2. Фиксируя нашу уверенность `P` (это некоторая вероятность),\n",
    "3. Будет иметь место факт: существует количество данных `n`, выше которого вероятность ошибки выше `E` ниже `1 - P`.\n",
    "\n",
    "> То есть, алгоритм выдаёт такую модель, которая даёт ошибку в `1 - P` случаев выше чем `E`, начиная с некоторого числа примеров `n`. \n",
    "\n",
    "Существует даже формула на такой размер данных. Но она нам не нужна, все равно мы тут данные не генерируем :)"
   ]
  },
  {
   "cell_type": "code",
   "execution_count": 13,
   "metadata": {},
   "outputs": [
    {
     "data": {
      "text/plain": [
       "'Для миллиарда моделей и трехста примеров, с вероятностью 99% - оценка ошибки классификатора будет менее: 0.0844 (доля неправильных ответов)'"
      ]
     },
     "execution_count": 13,
     "metadata": {},
     "output_type": "execute_result"
    }
   ],
   "source": [
    "# один из примеров такой формулы - для задачи классификации\n",
    "# конкретно эта работает только в случае, если алгоритм выдает конечное число моделей\n",
    "\n",
    "def estimate_error(models_number, data_size, error_probability):\n",
    "    return np.log(models_number / error_probability) / data_size\n",
    "\n",
    "\"Для миллиарда моделей и трехста примеров, с вероятностью 99%% - оценка ошибки классификатора будет менее: %.4f (доля неправильных ответов)\" % estimate_error(10 ** 9, 300, 0.01)"
   ]
  },
  {
   "cell_type": "markdown",
   "metadata": {},
   "source": [
    "Миллиард моделей - это не так уж и много. Тем не менее, компьютерные алгоритмы выдают конечное число моделей - так как точность компьютерных чисел не бесконечная (но очень большая).\n",
    "**Вывод**: формулы сами по себе не очень полезны: количество моделей подсчитать трудно. Да и не нужно. "
   ]
  },
  {
   "cell_type": "markdown",
   "metadata": {},
   "source": [
    "Мы попробуем на синтетических данных убедиться, что с ростом количества данных алгоритмы работают лучше.\n",
    "\n",
    "Рассмотрим пример с ростом человека. Есть все люди мира, какие только могут быть, у нас же только ограниченная выборка, по которой мы можем делать выводы. Так вот, представим что мы хотим предсказывать вес человека по росту, тогда для PAC-обучаемого алгоритма с ростом обучающей выборки должно расти качество. "
   ]
  },
  {
   "cell_type": "code",
   "execution_count": 14,
   "metadata": {},
   "outputs": [
    {
     "data": {
      "image/png": "[encoded data removed]",
      "text/plain": [
       "<Figure size 360x360 with 6 Axes>"
      ]
     },
     "metadata": {
      "needs_background": "light"
     },
     "output_type": "display_data"
    }
   ],
   "source": [
    "weight = [\n",
    "    sample - 110 - np.random.normal(0, 1) for sample in height\n",
    "]\n",
    "\n",
    "sns.pairplot(data=pd.DataFrame({'weight': weight, 'height': height}));"
   ]
  },
  {
   "cell_type": "markdown",
   "metadata": {},
   "source": [
    "Мы рассмотрим три алгоритма. Линейный ($y = kx + b$, где `k` и `b` такие, чтобы ошибка была наименьшей), алгоритм, строящий решающее дерево (набор правил вида `если x > 5, то y = 2`) и алгоритм ближайших соседей. Второй мы рассмотрим в двух вариантах - с обрезкой по глубине (по количеству вопросов) и без, и метод ближайших соседей, который запоминает данные и выдает усредненные значения по нескольким соседям."
   ]
  },
  {
   "cell_type": "code",
   "execution_count": 15,
   "metadata": {},
   "outputs": [
    {
     "name": "stdout",
     "output_type": "stream",
     "text": [
      "\n",
      "Учимся на увеличивающемся количестве точек по сотне раз,\n",
      "качество проверяем на \"всех данных в мире\" - усредняем.\n",
      "Ошибкой считаем разницу более одного килограмма.\n",
      "\n",
      "Шаг 5 процент \"плохих\" моделей: линейный алгоритм: 28, глубокое дерево: 100, неглубокое дерево 100, соседи 100\n",
      "Шаг 6 процент \"плохих\" моделей: линейный алгоритм: 29, глубокое дерево: 100, неглубокое дерево 100, соседи 100\n",
      "Шаг 7 процент \"плохих\" моделей: линейный алгоритм: 24, глубокое дерево: 100, неглубокое дерево 100, соседи 100\n",
      "Шаг 8 процент \"плохих\" моделей: линейный алгоритм: 16, глубокое дерево: 100, неглубокое дерево 100, соседи 100\n",
      "Шаг 9 процент \"плохих\" моделей: линейный алгоритм: 19, глубокое дерево: 100, неглубокое дерево 100, соседи 100\n",
      "Шаг 10 процент \"плохих\" моделей: линейный алгоритм: 8, глубокое дерево: 100, неглубокое дерево 100, соседи 100\n",
      "Шаг 11 процент \"плохих\" моделей: линейный алгоритм: 12, глубокое дерево: 100, неглубокое дерево 100, соседи 100\n",
      "Шаг 12 процент \"плохих\" моделей: линейный алгоритм: 8, глубокое дерево: 100, неглубокое дерево 100, соседи 96\n",
      "Шаг 13 процент \"плохих\" моделей: линейный алгоритм: 5, глубокое дерево: 100, неглубокое дерево 100, соседи 100\n",
      "Шаг 14 процент \"плохих\" моделей: линейный алгоритм: 7, глубокое дерево: 100, неглубокое дерево 100, соседи 100\n",
      "Шаг 15 процент \"плохих\" моделей: линейный алгоритм: 4, глубокое дерево: 100, неглубокое дерево 100, соседи 98\n",
      "Шаг 16 процент \"плохих\" моделей: линейный алгоритм: 3, глубокое дерево: 100, неглубокое дерево 100, соседи 98\n",
      "Шаг 17 процент \"плохих\" моделей: линейный алгоритм: 3, глубокое дерево: 100, неглубокое дерево 100, соседи 98\n",
      "Шаг 18 процент \"плохих\" моделей: линейный алгоритм: 3, глубокое дерево: 100, неглубокое дерево 100, соседи 94\n",
      "Шаг 19 процент \"плохих\" моделей: линейный алгоритм: 0, глубокое дерево: 99, неглубокое дерево 100, соседи 93\n",
      "Шаг 20 процент \"плохих\" моделей: линейный алгоритм: 2, глубокое дерево: 100, неглубокое дерево 100, соседи 97\n",
      "Шаг 21 процент \"плохих\" моделей: линейный алгоритм: 2, глубокое дерево: 100, неглубокое дерево 100, соседи 93\n",
      "Шаг 22 процент \"плохих\" моделей: линейный алгоритм: 2, глубокое дерево: 99, неглубокое дерево 100, соседи 88\n",
      "Шаг 23 процент \"плохих\" моделей: линейный алгоритм: 0, глубокое дерево: 100, неглубокое дерево 100, соседи 86\n",
      "Шаг 24 процент \"плохих\" моделей: линейный алгоритм: 1, глубокое дерево: 98, неглубокое дерево 100, соседи 88\n",
      "Шаг 25 процент \"плохих\" моделей: линейный алгоритм: 0, глубокое дерево: 98, неглубокое дерево 100, соседи 92\n",
      "Шаг 26 процент \"плохих\" моделей: линейный алгоритм: 0, глубокое дерево: 98, неглубокое дерево 100, соседи 80\n",
      "Шаг 27 процент \"плохих\" моделей: линейный алгоритм: 0, глубокое дерево: 97, неглубокое дерево 100, соседи 81\n",
      "Шаг 28 процент \"плохих\" моделей: линейный алгоритм: 0, глубокое дерево: 98, неглубокое дерево 100, соседи 81\n",
      "Шаг 29 процент \"плохих\" моделей: линейный алгоритм: 0, глубокое дерево: 97, неглубокое дерево 100, соседи 76\n",
      "Шаг 30 процент \"плохих\" моделей: линейный алгоритм: 1, глубокое дерево: 96, неглубокое дерево 100, соседи 68\n",
      "Wall time: 11.1 s\n"
     ]
    }
   ],
   "source": [
    "%%time\n",
    "# эта магическая команда замеряет время работы ячейки Jupyter\n",
    "\n",
    "# импортируем алгоритм, строящий линейные модели\n",
    "from sklearn.linear_model import LinearRegression\n",
    "\n",
    "# импортируем алгоритм решающего дерева\n",
    "from sklearn.tree import DecisionTreeRegressor\n",
    "\n",
    "# импортируем алгоритм ближайших соседей\n",
    "from sklearn.neighbors import KNeighborsRegressor\n",
    "\n",
    "# импортируем подсчет средней абсолютной ошибки\n",
    "from sklearn.metrics import mean_absolute_error\n",
    "\n",
    "print(\"\"\"\n",
    "Учимся на увеличивающемся количестве точек по сотне раз,\n",
    "качество проверяем на \"всех данных в мире\" - усредняем.\n",
    "Ошибкой считаем разницу более одного килограмма.\n",
    "\"\"\")\n",
    "results = []\n",
    "estimator_names = [\n",
    "    'linear', 'deep tree', 'shallow tree', 'neighbors'\n",
    "]\n",
    "for number_points in range(5, 31):\n",
    "    errors = {\n",
    "        name: [] for name in estimator_names\n",
    "    }\n",
    "    for index in range(100):\n",
    "        random_indices = np.random.randint(\n",
    "            0, len(weight),\n",
    "            size=number_points\n",
    "        )\n",
    "        for iterator, estimator in enumerate([\n",
    "            LinearRegression(),\n",
    "            DecisionTreeRegressor(random_state=1),\n",
    "            DecisionTreeRegressor(max_depth=3, random_state=1),\n",
    "            KNeighborsRegressor(weights='distance')\n",
    "        ]):\n",
    "            yhat = estimator.fit(\n",
    "                np.array(height).reshape(-1, 1)[random_indices],\n",
    "                np.array(weight)[random_indices]\n",
    "            ).predict(\n",
    "                np.array(height).reshape(-1, 1)\n",
    "            )\n",
    "            errors[estimator_names[iterator]].append(\n",
    "                mean_absolute_error(weight, yhat)\n",
    "            )\n",
    "    percents = {}\n",
    "    for name in estimator_names:\n",
    "        percents[name] = sum([\n",
    "            1 if error > 1. else 0 for error in errors[name]\n",
    "        ])\n",
    "        results.append([\n",
    "            number_points,\n",
    "            percents[name],\n",
    "            np.mean(errors[name]),\n",
    "            name\n",
    "        ])\n",
    "    print(\"\"\"Шаг %d процент \"плохих\" моделей: линейный алгоритм: %.f, глубокое дерево: %.f, неглубокое дерево %.f, соседи %.f\"\"\" % (\n",
    "        number_points,\n",
    "        percents['linear'],\n",
    "        percents['deep tree'],\n",
    "        percents['shallow tree'],\n",
    "        percents['neighbors']\n",
    "    ))"
   ]
  },
  {
   "cell_type": "code",
   "execution_count": 16,
   "metadata": {},
   "outputs": [
    {
     "data": {
      "image/png": "[encoded data removed]",
      "text/plain": [
       "<Figure size 432x288 with 1 Axes>"
      ]
     },
     "metadata": {
      "needs_background": "light"
     },
     "output_type": "display_data"
    }
   ],
   "source": [
    "sns.scatterplot(x=\"points\", y=\"error\", size=\"percent\", hue=\"type\", data=pd.DataFrame(results, columns=[\n",
    "    'points', 'percent', 'error', 'type'\n",
    "]));"
   ]
  },
  {
   "cell_type": "markdown",
   "metadata": {},
   "source": [
    "Из этого изображения вовсе не следует, что линейный алгоритм вот лучше всех (но на этих данных, да, лучше). Это иллюстрация связи \"всех данных в мире\" и уменьшения ошибки с ростом количества данных (как видим с разной скоростью). Почему здесь линейный случай лучше всего работает - да потому что изначально в наши синтетических данных линейная связь с небольшим шумом.\n",
    "\n",
    "**И тут возникает вопрос... когда алгоритм является PAC-обучаемым?** - то есть будет ли с ростом данных падать ошибка?\n",
    "\n",
    "PAC-обучаемость для алгоритмов устанавливается путем проверки его `VC-размерности` (*размерности Вапника-Червоненкинса*) на конечность.\n",
    "\n",
    "**VC-размерность** — это число - максимальное количество примеров, которые алгоритм сможет разделить всеми возможными способами на две части (в случае классификации). Основной результат теории статистического обучения: если `VC-размерность` алгоритма конечна, то он является `PAC-обучаемым`. Интуитивно, можно построить хороший классификатор, если алгоритм может разделять данные на два класса всеми способами.\n",
    "\n",
    "Деревья без обрезки не являются `PAC-обучаемыми`, потому что количество способов растёт неограниченно вместе с размером датасета. Классификатор ближайших соседей - является `PAC-обучаемым` когда точки \"кучкуются\" - так или иначе кластеризуются на группы классов (вероятность попасть в один класс падает вместе с ростом расстояния между точками).\n",
    "\n",
    "Пример установления *VC-размерности* для линейного алгоритма (на плоскости): он может разделить датасет из трёх точек на две части. Чтобы разделить датасет из четырех точек на две части (всеми возможными способами), одной линии нашего алгоритма уже недостаточно. Следовательно, размерность такого алгоритма для плоскости равна 3 (конечна)."
   ]
  },
  {
   "cell_type": "code",
   "execution_count": 17,
   "metadata": {},
   "outputs": [
    {
     "data": {
      "image/png": "[encoded data removed]",
      "text/plain": [
       "<Figure size 432x288 with 2 Axes>"
      ]
     },
     "metadata": {
      "needs_background": "light"
     },
     "output_type": "display_data"
    }
   ],
   "source": [
    "plt.subplot(1, 2, 1);\n",
    "plt.title('Достаточно одной линии');\n",
    "plt.scatter([1, 2, 3], [1, 3, 2]);\n",
    "plt.plot([1, 3], [2, 1], c='red', ls='--');\n",
    "plt.plot([1, 3], [2, 3], c='red', ls='--');\n",
    "plt.plot([3, 2], [3, 1], c='red', ls='--');\n",
    "plt.subplot(1, 2, 2);\n",
    "plt.title('Нужно две линии');\n",
    "plt.scatter([1, 2, 3, 4], [1, 3, 2, 4]);\n",
    "plt.plot([2, 1], [1, 2], c='red', ls='--');\n",
    "plt.plot([4, 3], [1, 4], c='red', ls='--');\n",
    "plt.annotate(\"Две неразделимые\\nодной линией части\", (1, 2.5));"
   ]
  },
  {
   "cell_type": "markdown",
   "metadata": {},
   "source": [
    "Как ни странно, все эти знания нам в ближайшей пятидневной практике не понадобятся. Однако из всей этой теории (статистического обучения) вытекает следующее.\n",
    "\n",
    "1. Алгоритмы - работают! Правда, с некоторого количества примеров.\n",
    "2. Работают не все алгоритмы. Существует теорема \"Нет бесплатных обедов\" (`no free lunch`-теорема), которая говорит, что универсальный алгоритм всегда потерпит неудачу (найдутся для него примеры). То есть мы должны \"подтолкнуть\" алгоритм некоторым знанием о задаче к решению. Именно поэтому линейный алгоритм на данных с ростом и весом проявил себя лучше.\n",
    "3. Ошибку следует рассматривать из трех компонент: **неустранимая ошибка** (ошибка идеального классификатора, или `Bayes error rate`), **ошибку аппроксимации** (*смещение*) и **ошибку оценивания** (*разброс*). На этом остановимся подробнее в виде примера."
   ]
  },
  {
   "cell_type": "markdown",
   "metadata": {},
   "source": [
    "> Вспомним, что мы можем выбирать алгоритмы. Пока неважно какие. Они могут давать разные множества моделей (как по количеству, так и по их сложности).\n",
    "\n",
    "**Неустранимая ошибка** - это ошибка идеального классификатора на всех данных. Она даже ниже ошибки разметки человеком, и заложена самой природой данных - представьте что у нас есть описание \"всех данных в мире\" - и тогда *если существует хотя бы какая-нибудь вероятность* принадлежности примера более чем одному классу - неустранимая ошибка имеет место. Для детерминированных данных (не вероятностных) такая ошибка равна нулю.\n",
    "\n",
    "**Ошибка смещения** - это ошибка выбора класса алгоритма, возникает когда модели не способны приблизить данные достаточно. \n",
    "\n",
    "**Ошибка разброса** - это ошибка, возникающая вследствие того, что созданная алгоритмом модель - является только приближением к некоторой \"идеальной\" модели, но не является ей. Она появляется, когда предсказания отличаются от среднего не так же, как предсказываемая величина."
   ]
  },
  {
   "cell_type": "code",
   "execution_count": 18,
   "metadata": {},
   "outputs": [
    {
     "data": {
      "image/png": "[encoded data removed]",
      "text/plain": [
       "<Figure size 432x288 with 1 Axes>"
      ]
     },
     "metadata": {
      "needs_background": "light"
     },
     "output_type": "display_data"
    }
   ],
   "source": [
    "X = np.linspace(-100, 100, 100)\n",
    "\n",
    "np.random.seed(1)\n",
    "Y = np.array([\n",
    "    x ** 5 / 100 ** 5 + np.random.normal() / 10  for x in X \n",
    "])\n",
    "\n",
    "train_indices = np.random.randint(0, len(X), size=20)\n",
    "\n",
    "plt.title(\"Красным - наши данные. Вот уж какие есть\");\n",
    "plt.plot(X, Y);\n",
    "plt.scatter(X[train_indices], Y[train_indices], s=30, c='red');\n",
    "plt.xlabel(\"Ось значений X\");\n",
    "plt.ylabel(\"Ось значений Y\");"
   ]
  },
  {
   "cell_type": "code",
   "execution_count": 19,
   "metadata": {},
   "outputs": [
    {
     "data": {
      "image/png": "[encoded data removed]",
      "text/plain": [
       "<Figure size 432x288 with 1 Axes>"
      ]
     },
     "metadata": {
      "needs_background": "light"
     },
     "output_type": "display_data"
    }
   ],
   "source": [
    "yhat = LinearRegression().fit(\n",
    "    np.array(X[train_indices]).reshape(-1, 1), # здесь мы подстраиваем данные под формат\n",
    "    np.array(Y[train_indices]).reshape(-1, 1) # библиотеки scikit-learn, о которой конечно же поговорим\n",
    ").predict(np.array(X).reshape(len(X), 1))\n",
    "\n",
    "plt.title('Пусть наш алгоритм отдаёт нам линию');\n",
    "plt.plot(X, Y);\n",
    "plt.plot(X, yhat);\n",
    "plt.scatter(X[train_indices], Y[train_indices], s=30, c='red');\n",
    "plt.annotate(\"Здесь очевидна ошибка смещения\", (-70, 0.75));"
   ]
  },
  {
   "cell_type": "markdown",
   "metadata": {},
   "source": [
    "\"Подтолкнём\" наш алгоритм ближе к задаче, дав возможность использовать различные степени X."
   ]
  },
  {
   "cell_type": "code",
   "execution_count": 20,
   "metadata": {},
   "outputs": [
    {
     "data": {
      "image/png": "[encoded data removed]",
      "text/plain": [
       "<Figure size 432x288 with 1 Axes>"
      ]
     },
     "metadata": {
      "needs_background": "light"
     },
     "output_type": "display_data"
    }
   ],
   "source": [
    "max_power = 5\n",
    "\n",
    "X_powered = np.array([\n",
    "    [(x ** power) for power in range(1, max_power + 1)] for x in X\n",
    "])\n",
    "\n",
    "yhat = LinearRegression().fit(\n",
    "    X_powered[train_indices].reshape(-1, max_power),\n",
    "    Y[train_indices].reshape(-1, 1)\n",
    ").predict(np.array(X_powered).reshape(len(X_powered), max_power))\n",
    "\n",
    "plt.plot(X, Y);\n",
    "plt.plot(X, yhat);\n",
    "plt.scatter(X[train_indices], Y[train_indices], s=30, c='red');\n",
    "plt.annotate(\"Уже лучше, но мы знаем, что\\nэто всего лишь приближение\", (-70, 0.75));"
   ]
  },
  {
   "cell_type": "markdown",
   "metadata": {},
   "source": [
    "Обогатим наш алгоритм и дадим возможность использовать (очень) большие степени."
   ]
  },
  {
   "cell_type": "code",
   "execution_count": 21,
   "metadata": {},
   "outputs": [
    {
     "data": {
      "image/png": "[encoded data removed]",
      "text/plain": [
       "<Figure size 432x288 with 1 Axes>"
      ]
     },
     "metadata": {
      "needs_background": "light"
     },
     "output_type": "display_data"
    }
   ],
   "source": [
    "min_power = 10\n",
    "max_power = 20\n",
    "\n",
    "X_new = np.array([\n",
    "    [(x ** power) for power in range(min_power, max_power + 1)] for x in X\n",
    "]).reshape(len(X), -1)\n",
    "\n",
    "yhat = LinearRegression().fit(\n",
    "    X_new[train_indices], np.array(Y[train_indices]).reshape(-1, 1)\n",
    ").predict(X_new)\n",
    "\n",
    "plt.title('Мы выбрали слишком \"богатый\" на варианты способ!');\n",
    "plt.plot(X, Y);\n",
    "plt.plot(X, yhat);\n",
    "plt.scatter(X[train_indices], Y[train_indices], s=30, c='red');\n",
    "plt.annotate(\"Совсем не то\", (-70, 0.75));\n",
    "plt.ylim(-1, 1);"
   ]
  },
  {
   "cell_type": "markdown",
   "metadata": {},
   "source": [
    "Получается несколько случаев, как модель может подходить под данные:\n",
    "1. Недообучение: низкие метрики на тренировочном и тестовом множестве (которые частный случай \"всех данных в мире\") - первый случай,\n",
    "2. Переобучение: высокие метрики на тренировочном и низкие на тестовом - последний случай,\n",
    "3. Генерализация: хорошие метрики на обоих множествах - будем считать второй случай,\n",
    "4. Хорошие метрики на тестовом и слабые на тренировочном - редкий случай, иногда встречается когда тестовые данные слишком малы или сильно отличаются от тренировочных.\n",
    "\n",
    "### Заключение\n",
    "\n",
    "Резюмируя этот наш раздел, важно знать вот что.\n",
    "1. Алгоритмы, которые мы будем в дальнейшем использовать, разные.\n",
    "2. Соответственно, ошибаются они тоже по-разному.\n",
    "\n",
    "Иногда им они слишком простые, чтобы подойти под данные, иногда перебор сложные. Когда мы будем рассматривать конкретные практические алгоритмы, мы узнаем, что можно с этим делать. \n",
    "\n",
    "> На этом поздравляю! Самое сложное в курсе уже пройдено. Дальше будет только практика, практика, и еще раз практика (которая критерий истины)."
   ]
  },
  {
   "cell_type": "markdown",
   "metadata": {},
   "source": [
    "---"
   ]
  },
  {
   "cell_type": "markdown",
   "metadata": {},
   "source": [
    "## 1.4 Инструментарий аналитика данных: python и jupyter lab\n",
    "\n",
    "Для анализа данных можно использовать различные языки и инструменты, например языки `R`, `Julia`, визуальные инструменты `Dataiku` или `Orange3`. В сфере программного обеспечения часто можно найти множество альтернативных решений под каждую задачу.\n",
    "\n",
    "Мы выбираем `python` и среду разработки `Jupyter Lab` не просто потому что они популярные. Популярность - это следствие наличия серьезной *экосистемы*, то есть набора инструментов и пакетов. `python` для анализа данных стал особо популярен в результате усилий Google и Facebook, которые выпустили большие полезные библиотеки для работы с данными. `Jupyter Lab` - это один самых частых инструментов ввиду своей простоты и при этом - удобства работы.\n",
    "\n",
    "Все вот эти тетрадки были созданы с помощью `Jupyter Lab`, и его использует в практике очень много аналитиков. Так же как и `python`: порог вхождения у него не запредельный, а возможности, как у универсального языка с \"кучей батареек\" - практически неограничены (по-крайней мере для типичных задач)."
   ]
  },
  {
   "cell_type": "markdown",
   "metadata": {},
   "source": [
    "### python crash course"
   ]
  },
  {
   "cell_type": "code",
   "execution_count": 22,
   "metadata": {},
   "outputs": [
    {
     "data": {
      "text/plain": [
       "('Это строка', 42, 3.14)"
      ]
     },
     "execution_count": 22,
     "metadata": {},
     "output_type": "execute_result"
    }
   ],
   "source": [
    "# переменные - ссылки на значения\n",
    "\n",
    "string_variable = \"Это строка\"\n",
    "integer_variable = 42 # целое число\n",
    "float_variable = 3.14 # вещественное число\n",
    "\n",
    "string_variable, integer_variable, float_variable"
   ]
  },
  {
   "cell_type": "code",
   "execution_count": 23,
   "metadata": {},
   "outputs": [
    {
     "data": {
      "text/plain": [
       "(1, 23, 'Хопа')"
      ]
     },
     "execution_count": 23,
     "metadata": {},
     "output_type": "execute_result"
    }
   ],
   "source": [
    "# Кортеж - упорядоченный неизменяемый список значений\n",
    "\n",
    "tuple_example = (1, 23, \"Хопа\")\n",
    "tuple_example"
   ]
  },
  {
   "cell_type": "code",
   "execution_count": 24,
   "metadata": {},
   "outputs": [
    {
     "data": {
      "text/plain": [
       "(3, [1, 2], [4, 5], [1, 3, 5])"
      ]
     },
     "execution_count": 24,
     "metadata": {},
     "output_type": "execute_result"
    }
   ],
   "source": [
    "# Список - изменяемый набор значений\n",
    "\n",
    "list_example = [1, 2, 3, 4, 5]\n",
    "\n",
    "# список можно \"срезать\" по индексам\n",
    "# индексы всегда начинаются с нуля!\n",
    "\n",
    "list_example[2], list_example[:2], list_example[-2:], list_example[::2]"
   ]
  },
  {
   "cell_type": "code",
   "execution_count": 25,
   "metadata": {},
   "outputs": [
    {
     "data": {
      "text/plain": [
       "(100.1, 'значение по умолчанию')"
      ]
     },
     "execution_count": 25,
     "metadata": {},
     "output_type": "execute_result"
    }
   ],
   "source": [
    "# словарь - множество пар \"ключ -> значение\"\n",
    "\n",
    "dict_example = {\n",
    "    'серебряный': 100.100,\n",
    "    'золотой': 200.200\n",
    "}\n",
    "\n",
    "dict_example['серебряный'], dict_example.get('платиновый', 'значение по умолчанию')"
   ]
  },
  {
   "cell_type": "code",
   "execution_count": 26,
   "metadata": {},
   "outputs": [
    {
     "data": {
      "text/plain": [
       "([1, 2, 159, 4, 5], {'серебряный': 100.1, 'золотой': 200.2, 'платиновый': 159})"
      ]
     },
     "execution_count": 26,
     "metadata": {},
     "output_type": "execute_result"
    }
   ],
   "source": [
    "# элементам списков и словарей можно присваивать значения\n",
    "\n",
    "dict_example['платиновый'] = list_example[2] = 159\n",
    "\n",
    "list_example, dict_example"
   ]
  },
  {
   "cell_type": "code",
   "execution_count": 27,
   "metadata": {},
   "outputs": [
    {
     "name": "stdout",
     "output_type": "stream",
     "text": [
      "A 2 12 B \n",
      "42\n"
     ]
    }
   ],
   "source": [
    "# циклы - по последовательности и по условию\n",
    "\n",
    "result = \"\"\n",
    "for value in [\"A\", 2, 24 // 2, \"B\"]:\n",
    "    result += str(value) + \" \"\n",
    "print(result)\n",
    "    \n",
    "value = 0\n",
    "while value < 42:\n",
    "    value += 1 # не забудьте, а то цикл будет бесконечным без выхода\n",
    "print(value)"
   ]
  },
  {
   "cell_type": "code",
   "execution_count": 28,
   "metadata": {},
   "outputs": [
    {
     "data": {
      "text/plain": [
       "([2, 6, 10, 14, 18], {1: 3, 3: 5, 5: 7, 7: 9, 9: 11})"
      ]
     },
     "execution_count": 28,
     "metadata": {},
     "output_type": "execute_result"
    }
   ],
   "source": [
    "# списки и словари можно инициализировать циклами\n",
    "\n",
    "range_list = [x * 2 for x in range(1, 11, 2)]\n",
    "range_dict = {x: x + 2 for x in range(1, 11, 2)}\n",
    "\n",
    "range_list, range_dict"
   ]
  },
  {
   "cell_type": "code",
   "execution_count": 29,
   "metadata": {},
   "outputs": [
    {
     "data": {
      "text/plain": [
       "40"
      ]
     },
     "execution_count": 29,
     "metadata": {},
     "output_type": "execute_result"
    }
   ],
   "source": [
    "# функции... это почти то же, что и в математике - выход для входа\n",
    "# а точнее - обособленный блок кода с параметрами\n",
    "\n",
    "def function(x, a, b):\n",
    "    y = x * a + b\n",
    "    return y\n",
    "\n",
    "function(2, 10, 20)"
   ]
  },
  {
   "cell_type": "code",
   "execution_count": 30,
   "metadata": {},
   "outputs": [
    {
     "data": {
      "text/plain": [
       "70"
      ]
     },
     "execution_count": 30,
     "metadata": {},
     "output_type": "execute_result"
    }
   ],
   "source": [
    "# класс - это описание объекта\n",
    "# любой объект может иметь свойства и методы\n",
    "\n",
    "# тут проще на примере\n",
    "\n",
    "class ExampleClass:\n",
    "    def __init__(self, a, b):\n",
    "        \"\"\"\n",
    "        Такой метод называется конструктор\n",
    "        \"\"\"\n",
    "        \n",
    "        # self - внутрення ссылка на текущий объект\n",
    "        self.a, self.b = a, b\n",
    "\n",
    "    def function(self, x):\n",
    "        return self.a * x + self.b\n",
    "    \n",
    "# создадим объект - экземпляр класса\n",
    "example_object = ExampleClass(20, 30)\n",
    "\n",
    "# и вызовем его метод\n",
    "example_object.function(2)"
   ]
  },
  {
   "cell_type": "code",
   "execution_count": 31,
   "metadata": {},
   "outputs": [
    {
     "data": {
      "text/plain": [
       "110"
      ]
     },
     "execution_count": 31,
     "metadata": {},
     "output_type": "execute_result"
    }
   ],
   "source": [
    "# классы могут наследоваться, и обычно ожидается что объекты\n",
    "# унаследованного класса \"ведут\" себя подобно объектам базового,\n",
    "# но в деталях могут делать что-то другое\n",
    "\n",
    "class Inherited(ExampleClass):\n",
    "    def function(self, x):\n",
    "        return self.a * x * x + self.b\n",
    "\n",
    "example_object = Inherited(20, 30)\n",
    "example_object.function(2)"
   ]
  },
  {
   "cell_type": "markdown",
   "metadata": {},
   "source": [
    "Как ни странно - это практически всё, что нам понадобится. Помимо этого, нам еще понадобится импорт библиотек, а вот в них уже \"кладези всяких полезностей\". Выше мы видели, в какие чудеса они умеют, всё делают за нас, надо их только попросить :)"
   ]
  },
  {
   "cell_type": "code",
   "execution_count": 32,
   "metadata": {},
   "outputs": [],
   "source": [
    "# вариант импорта из недр библиотеки\n",
    "import sklearn.datasets as datasets\n",
    "\n",
    "# другой вариант импорта \n",
    "from sklearn.cluster import KMeans"
   ]
  },
  {
   "cell_type": "code",
   "execution_count": 33,
   "metadata": {},
   "outputs": [
    {
     "data": {
      "image/png": "[encoded data removed]",
      "text/plain": [
       "<Figure size 432x288 with 1 Axes>"
      ]
     },
     "metadata": {
      "needs_background": "light"
     },
     "output_type": "display_data"
    }
   ],
   "source": [
    "# ну и продолжим, раз начали :)\n",
    "\n",
    "# загрузим датасет из библиотеки\n",
    "X, y = datasets.load_iris(return_X_y=True)\n",
    "\n",
    "# KMeans - это класс с методами\n",
    "clusterer = KMeans(n_clusters=3).fit(X)\n",
    "\n",
    "# запись X[:, 1] - означает взять ВТОРУЮ колонку массива\n",
    "sns.scatterplot(x=X[:,1], y=X[:,2], hue=clusterer.labels_);"
   ]
  },
  {
   "cell_type": "markdown",
   "metadata": {},
   "source": [
    "### Заключение\n",
    "\n",
    "`python` активно развивается. Из основных новшеств - это добавление спецификаций типов в объявления переменных (везде, где они объявляются). Мы пока это не используем, чтобы не усложнять код. Но выглядит это вот так (хотите - пользуйтесь, но потом не жалуйтесь:)). Учтите, эти подсказки по типам, в `python 3.6` на самом деле ни на что не влияют."
   ]
  },
  {
   "cell_type": "code",
   "execution_count": 34,
   "metadata": {},
   "outputs": [
    {
     "data": {
      "text/plain": [
       "(None, 0, 1)"
      ]
     },
     "execution_count": 34,
     "metadata": {},
     "output_type": "execute_result"
    }
   ],
   "source": [
    "def example(a: float = None, b: float = 0) -> float:\n",
    "    if a is not None:\n",
    "        return a + b\n",
    "    return None\n",
    "\n",
    "example(), example(0), example(0, 1)"
   ]
  },
  {
   "cell_type": "code",
   "execution_count": 35,
   "metadata": {},
   "outputs": [
    {
     "data": {
      "text/plain": [
       "'Hello, world'"
      ]
     },
     "execution_count": 35,
     "metadata": {},
     "output_type": "execute_result"
    }
   ],
   "source": [
    "example(\"Hello, \", \"world\")"
   ]
  },
  {
   "cell_type": "markdown",
   "metadata": {},
   "source": [
    "## 1.5 Цикл моделирования и кросс-валидация"
   ]
  },
  {
   "cell_type": "markdown",
   "metadata": {},
   "source": [
    "Теперь переходим к самой что ни на есть практике анализа данных. **Цикл моделирования** - это процесс из нескольких шагов, позволяющих из данных получить применяемую в практике модель. **CRISP-DM** - это сокращение слов *CRoss-Indrustry Standard Process for Data Mining* - кросс-индустриальный процесс анализа данных.\n",
    "\n",
    "Процесс состоит из следующих шагов:\n",
    "1. **Понимание бизнес-цели.** Зачем нам вообще анализ данных в текущей бизнес- или исследовательской задачи. На этом этапе должно быть ясно, зачем нужна модель, и какие у неё должны быть метрики качества.\n",
    "2. **Разведочный анализ**. Это ознакомление с данными, визуальный поиск зависимостей, формулировка гипотез о взаимосвязи. \n",
    "3. **Подготовка данных**. Это важный этап, на котором данные чистятся от битых значений и выбросов (они могут испортить модель), подготавливаются к удобному для моделирования виду.\n",
    "4. **Моделирование**. Построение моделей. Это всего-лишь приблизительно 20% времени от всего процесса, но как раз на этом этапе запускаются алгоритмы, которые выдают модели.\n",
    "5. **Оценка**. Оценка качества модели или ряда моделей. Оценка - это не только метрики, которые минимизировала модель, но еще и бизнес-метрики. Например, средняя ошибка в килограммах это одно, а в рублях - совсем другое. Только на этом этапе можно понять, пригодна ли модель к применению (эксплуатации).\n",
    "6. **Внедрение**. Это развертывание модели для применения. Например, чтобы или сайт, или пользователи, или организации - как-то смогли пользоваться предсказанием модели.\n",
    "7. **Мониторинг**. Это слежение за качеством уже применяемой модели. Обычно, по косвенным и производным признакам качества (растёт прибыль - хорошо!).\n",
    "\n",
    "В нашем курсе мы модели внедрять не будем (хотя и поговорим как можно). Важно заметить следующее:\n",
    "> В этом процессе можно возвращаться с любого шага на любой шаг назад, но проскакивать вперед шаги нельзя! Иначе просто бессмысленно потратите время."
   ]
  },
  {
   "cell_type": "markdown",
   "metadata": {},
   "source": [
    "### Пример"
   ]
  },
  {
   "cell_type": "markdown",
   "metadata": {},
   "source": [
    "#### 1.5.1 Понимание задачи и целей\n",
    "\n",
    "Давайте представим, что у нас есть цветочный магазин, который специализируется на цветках ириса, и предлагает их в трёх сортах: `Virginica`, `Versicolor` и `Setosa`. Мы хотели бы автоматически определять что за сорт, без участия каких-либо ботаников. К счастью, ботаники уже создали датасет из 150 цветков, в котором разметили их сорта.\n",
    "\n",
    "Наша цель - создать модель, которая по признакам цветка определяла бы их сорт. **Отбор моделей необходимо производить с учетом того, что сорта стоят по-разному!**"
   ]
  },
  {
   "cell_type": "markdown",
   "metadata": {},
   "source": [
    "#### 1.5.2 Разведочный анализ\n",
    "\n",
    "Ознакомление с данными. Первые попытки понять то, с чем мы имеем дело. "
   ]
  },
  {
   "cell_type": "code",
   "execution_count": 36,
   "metadata": {},
   "outputs": [
    {
     "data": {
      "text/plain": [
       "['sepal length (cm)',\n",
       " 'sepal width (cm)',\n",
       " 'petal length (cm)',\n",
       " 'petal width (cm)']"
      ]
     },
     "execution_count": 36,
     "metadata": {},
     "output_type": "execute_result"
    }
   ],
   "source": [
    "from sklearn.datasets import load_iris\n",
    "\n",
    "# распечатаем какие есть признаки у данных\n",
    "iris = load_iris()\n",
    "iris.feature_names"
   ]
  },
  {
   "cell_type": "markdown",
   "metadata": {},
   "source": [
    "> Где-то в интернетах нашлась хорошая картинка\n",
    "![Iris](media/iris.png)"
   ]
  },
  {
   "cell_type": "code",
   "execution_count": 37,
   "metadata": {},
   "outputs": [
    {
     "data": {
      "text/html": [
       "<div>\n",
       "<style scoped>\n",
       "    .dataframe tbody tr th:only-of-type {\n",
       "        vertical-align: middle;\n",
       "    }\n",
       "\n",
       "    .dataframe tbody tr th {\n",
       "        vertical-align: top;\n",
       "    }\n",
       "\n",
       "    .dataframe thead th {\n",
       "        text-align: right;\n",
       "    }\n",
       "</style>\n",
       "<table border=\"1\" class=\"dataframe\">\n",
       "  <thead>\n",
       "    <tr style=\"text-align: right;\">\n",
       "      <th></th>\n",
       "      <th>sepal length (cm)</th>\n",
       "      <th>sepal width (cm)</th>\n",
       "      <th>petal length (cm)</th>\n",
       "      <th>petal width (cm)</th>\n",
       "      <th>sort</th>\n",
       "      <th>name</th>\n",
       "    </tr>\n",
       "  </thead>\n",
       "  <tbody>\n",
       "    <tr>\n",
       "      <th>50</th>\n",
       "      <td>7.0</td>\n",
       "      <td>3.2</td>\n",
       "      <td>4.7</td>\n",
       "      <td>1.4</td>\n",
       "      <td>1</td>\n",
       "      <td>versicolor</td>\n",
       "    </tr>\n",
       "    <tr>\n",
       "      <th>51</th>\n",
       "      <td>6.4</td>\n",
       "      <td>3.2</td>\n",
       "      <td>4.5</td>\n",
       "      <td>1.5</td>\n",
       "      <td>1</td>\n",
       "      <td>versicolor</td>\n",
       "    </tr>\n",
       "    <tr>\n",
       "      <th>19</th>\n",
       "      <td>5.1</td>\n",
       "      <td>3.8</td>\n",
       "      <td>1.5</td>\n",
       "      <td>0.3</td>\n",
       "      <td>0</td>\n",
       "      <td>setosa</td>\n",
       "    </tr>\n",
       "    <tr>\n",
       "      <th>31</th>\n",
       "      <td>5.4</td>\n",
       "      <td>3.4</td>\n",
       "      <td>1.5</td>\n",
       "      <td>0.4</td>\n",
       "      <td>0</td>\n",
       "      <td>setosa</td>\n",
       "    </tr>\n",
       "    <tr>\n",
       "      <th>24</th>\n",
       "      <td>4.8</td>\n",
       "      <td>3.4</td>\n",
       "      <td>1.9</td>\n",
       "      <td>0.2</td>\n",
       "      <td>0</td>\n",
       "      <td>setosa</td>\n",
       "    </tr>\n",
       "    <tr>\n",
       "      <th>34</th>\n",
       "      <td>4.9</td>\n",
       "      <td>3.1</td>\n",
       "      <td>1.5</td>\n",
       "      <td>0.2</td>\n",
       "      <td>0</td>\n",
       "      <td>setosa</td>\n",
       "    </tr>\n",
       "    <tr>\n",
       "      <th>86</th>\n",
       "      <td>6.7</td>\n",
       "      <td>3.1</td>\n",
       "      <td>4.7</td>\n",
       "      <td>1.5</td>\n",
       "      <td>1</td>\n",
       "      <td>versicolor</td>\n",
       "    </tr>\n",
       "    <tr>\n",
       "      <th>115</th>\n",
       "      <td>6.4</td>\n",
       "      <td>3.2</td>\n",
       "      <td>5.3</td>\n",
       "      <td>2.3</td>\n",
       "      <td>2</td>\n",
       "      <td>virginica</td>\n",
       "    </tr>\n",
       "    <tr>\n",
       "      <th>141</th>\n",
       "      <td>6.9</td>\n",
       "      <td>3.1</td>\n",
       "      <td>5.1</td>\n",
       "      <td>2.3</td>\n",
       "      <td>2</td>\n",
       "      <td>virginica</td>\n",
       "    </tr>\n",
       "    <tr>\n",
       "      <th>4</th>\n",
       "      <td>5.0</td>\n",
       "      <td>3.6</td>\n",
       "      <td>1.4</td>\n",
       "      <td>0.2</td>\n",
       "      <td>0</td>\n",
       "      <td>setosa</td>\n",
       "    </tr>\n",
       "  </tbody>\n",
       "</table>\n",
       "</div>"
      ],
      "text/plain": [
       "     sepal length (cm)  sepal width (cm)  petal length (cm)  petal width (cm)  \\\n",
       "50                 7.0               3.2                4.7               1.4   \n",
       "51                 6.4               3.2                4.5               1.5   \n",
       "19                 5.1               3.8                1.5               0.3   \n",
       "31                 5.4               3.4                1.5               0.4   \n",
       "24                 4.8               3.4                1.9               0.2   \n",
       "34                 4.9               3.1                1.5               0.2   \n",
       "86                 6.7               3.1                4.7               1.5   \n",
       "115                6.4               3.2                5.3               2.3   \n",
       "141                6.9               3.1                5.1               2.3   \n",
       "4                  5.0               3.6                1.4               0.2   \n",
       "\n",
       "     sort        name  \n",
       "50      1  versicolor  \n",
       "51      1  versicolor  \n",
       "19      0      setosa  \n",
       "31      0      setosa  \n",
       "24      0      setosa  \n",
       "34      0      setosa  \n",
       "86      1  versicolor  \n",
       "115     2   virginica  \n",
       "141     2   virginica  \n",
       "4       0      setosa  "
      ]
     },
     "execution_count": 37,
     "metadata": {},
     "output_type": "execute_result"
    }
   ],
   "source": [
    "# загрузим данные в pandas-таблицу\n",
    "\n",
    "features_data = {\n",
    "    iris.feature_names[index]: iris.data[:, index] \\\n",
    "    for index in range(len(iris.feature_names))\n",
    "}\n",
    "\n",
    "features_data['sort'] = iris.target\n",
    "features_data['name'] = [\n",
    "    iris.target_names[sort] for sort in iris.target\n",
    "]\n",
    "\n",
    "frame = pd.DataFrame(\n",
    "    features_data,\n",
    "    columns=iris.feature_names + ['sort', 'name']\n",
    ")\n",
    "\n",
    "# и посмотрим на случайную выборку из 10 цветов\n",
    "frame.sample(10)"
   ]
  },
  {
   "cell_type": "code",
   "execution_count": 38,
   "metadata": {},
   "outputs": [
    {
     "data": {
      "text/html": [
       "<div>\n",
       "<style scoped>\n",
       "    .dataframe tbody tr th:only-of-type {\n",
       "        vertical-align: middle;\n",
       "    }\n",
       "\n",
       "    .dataframe tbody tr th {\n",
       "        vertical-align: top;\n",
       "    }\n",
       "\n",
       "    .dataframe thead th {\n",
       "        text-align: right;\n",
       "    }\n",
       "</style>\n",
       "<table border=\"1\" class=\"dataframe\">\n",
       "  <thead>\n",
       "    <tr style=\"text-align: right;\">\n",
       "      <th></th>\n",
       "      <th>sepal length (cm)</th>\n",
       "      <th>sepal width (cm)</th>\n",
       "      <th>petal length (cm)</th>\n",
       "      <th>petal width (cm)</th>\n",
       "      <th>sort</th>\n",
       "      <th>name</th>\n",
       "    </tr>\n",
       "  </thead>\n",
       "  <tbody>\n",
       "    <tr>\n",
       "      <th>count</th>\n",
       "      <td>150.000000</td>\n",
       "      <td>150.000000</td>\n",
       "      <td>150.000000</td>\n",
       "      <td>150.000000</td>\n",
       "      <td>150.000000</td>\n",
       "      <td>150</td>\n",
       "    </tr>\n",
       "    <tr>\n",
       "      <th>unique</th>\n",
       "      <td>NaN</td>\n",
       "      <td>NaN</td>\n",
       "      <td>NaN</td>\n",
       "      <td>NaN</td>\n",
       "      <td>NaN</td>\n",
       "      <td>3</td>\n",
       "    </tr>\n",
       "    <tr>\n",
       "      <th>top</th>\n",
       "      <td>NaN</td>\n",
       "      <td>NaN</td>\n",
       "      <td>NaN</td>\n",
       "      <td>NaN</td>\n",
       "      <td>NaN</td>\n",
       "      <td>versicolor</td>\n",
       "    </tr>\n",
       "    <tr>\n",
       "      <th>freq</th>\n",
       "      <td>NaN</td>\n",
       "      <td>NaN</td>\n",
       "      <td>NaN</td>\n",
       "      <td>NaN</td>\n",
       "      <td>NaN</td>\n",
       "      <td>50</td>\n",
       "    </tr>\n",
       "    <tr>\n",
       "      <th>mean</th>\n",
       "      <td>5.843333</td>\n",
       "      <td>3.057333</td>\n",
       "      <td>3.758000</td>\n",
       "      <td>1.199333</td>\n",
       "      <td>1.000000</td>\n",
       "      <td>NaN</td>\n",
       "    </tr>\n",
       "    <tr>\n",
       "      <th>std</th>\n",
       "      <td>0.828066</td>\n",
       "      <td>0.435866</td>\n",
       "      <td>1.765298</td>\n",
       "      <td>0.762238</td>\n",
       "      <td>0.819232</td>\n",
       "      <td>NaN</td>\n",
       "    </tr>\n",
       "    <tr>\n",
       "      <th>min</th>\n",
       "      <td>4.300000</td>\n",
       "      <td>2.000000</td>\n",
       "      <td>1.000000</td>\n",
       "      <td>0.100000</td>\n",
       "      <td>0.000000</td>\n",
       "      <td>NaN</td>\n",
       "    </tr>\n",
       "    <tr>\n",
       "      <th>25%</th>\n",
       "      <td>5.100000</td>\n",
       "      <td>2.800000</td>\n",
       "      <td>1.600000</td>\n",
       "      <td>0.300000</td>\n",
       "      <td>0.000000</td>\n",
       "      <td>NaN</td>\n",
       "    </tr>\n",
       "    <tr>\n",
       "      <th>50%</th>\n",
       "      <td>5.800000</td>\n",
       "      <td>3.000000</td>\n",
       "      <td>4.350000</td>\n",
       "      <td>1.300000</td>\n",
       "      <td>1.000000</td>\n",
       "      <td>NaN</td>\n",
       "    </tr>\n",
       "    <tr>\n",
       "      <th>75%</th>\n",
       "      <td>6.400000</td>\n",
       "      <td>3.300000</td>\n",
       "      <td>5.100000</td>\n",
       "      <td>1.800000</td>\n",
       "      <td>2.000000</td>\n",
       "      <td>NaN</td>\n",
       "    </tr>\n",
       "    <tr>\n",
       "      <th>max</th>\n",
       "      <td>7.900000</td>\n",
       "      <td>4.400000</td>\n",
       "      <td>6.900000</td>\n",
       "      <td>2.500000</td>\n",
       "      <td>2.000000</td>\n",
       "      <td>NaN</td>\n",
       "    </tr>\n",
       "  </tbody>\n",
       "</table>\n",
       "</div>"
      ],
      "text/plain": [
       "        sepal length (cm)  sepal width (cm)  petal length (cm)  \\\n",
       "count          150.000000        150.000000         150.000000   \n",
       "unique                NaN               NaN                NaN   \n",
       "top                   NaN               NaN                NaN   \n",
       "freq                  NaN               NaN                NaN   \n",
       "mean             5.843333          3.057333           3.758000   \n",
       "std              0.828066          0.435866           1.765298   \n",
       "min              4.300000          2.000000           1.000000   \n",
       "25%              5.100000          2.800000           1.600000   \n",
       "50%              5.800000          3.000000           4.350000   \n",
       "75%              6.400000          3.300000           5.100000   \n",
       "max              7.900000          4.400000           6.900000   \n",
       "\n",
       "        petal width (cm)        sort        name  \n",
       "count         150.000000  150.000000         150  \n",
       "unique               NaN         NaN           3  \n",
       "top                  NaN         NaN  versicolor  \n",
       "freq                 NaN         NaN          50  \n",
       "mean            1.199333    1.000000         NaN  \n",
       "std             0.762238    0.819232         NaN  \n",
       "min             0.100000    0.000000         NaN  \n",
       "25%             0.300000    0.000000         NaN  \n",
       "50%             1.300000    1.000000         NaN  \n",
       "75%             1.800000    2.000000         NaN  \n",
       "max             2.500000    2.000000         NaN  "
      ]
     },
     "execution_count": 38,
     "metadata": {},
     "output_type": "execute_result"
    }
   ],
   "source": [
    "frame.describe(include='all')"
   ]
  },
  {
   "cell_type": "code",
   "execution_count": 39,
   "metadata": {},
   "outputs": [
    {
     "data": {
      "text/plain": [
       "versicolor    50\n",
       "setosa        50\n",
       "virginica     50\n",
       "Name: name, dtype: int64"
      ]
     },
     "execution_count": 39,
     "metadata": {},
     "output_type": "execute_result"
    }
   ],
   "source": [
    "frame['name'].value_counts()"
   ]
  },
  {
   "cell_type": "markdown",
   "metadata": {},
   "source": [
    "Посмотрим на данные визуально, причем попарно"
   ]
  },
  {
   "cell_type": "code",
   "execution_count": 40,
   "metadata": {},
   "outputs": [
    {
     "data": {
      "image/png": "[encoded data removed]",
      "text/plain": [
       "<Figure size 804.75x720 with 20 Axes>"
      ]
     },
     "metadata": {
      "needs_background": "light"
     },
     "output_type": "display_data"
    }
   ],
   "source": [
    "features = iris.feature_names\n",
    "sns.pairplot(data=frame[features + ['name']], hue=\"name\");"
   ]
  },
  {
   "cell_type": "markdown",
   "metadata": {},
   "source": [
    "Хорошо видно, что по некоторым признакам сорта образуют хорошие группы! А по некоторым - не очень."
   ]
  },
  {
   "cell_type": "markdown",
   "metadata": {},
   "source": [
    "#### 1.5.3 Подготовка данных\n",
    "\n",
    "Вычищать из примеров мы ничего не будем. А вот признак `sepal width (cm)` - мы уберем, так как по этому признаку цветы очень схожи. Это на самом деле интуиция, которую мы проверим метриками качества в дальнейшем."
   ]
  },
  {
   "cell_type": "code",
   "execution_count": 41,
   "metadata": {},
   "outputs": [],
   "source": [
    "reduced_features = list(features) # скопируем\n",
    "reduced_features.remove('sepal width (cm)')"
   ]
  },
  {
   "cell_type": "markdown",
   "metadata": {},
   "source": [
    "Разобъем наш датасет на тренировочную и тестовую части. Пусть тестовая часть будет 25% от всего датасета."
   ]
  },
  {
   "cell_type": "code",
   "execution_count": 42,
   "metadata": {},
   "outputs": [
    {
     "data": {
      "text/plain": [
       "(112, 'Столько у нас тренировочных цветов')"
      ]
     },
     "execution_count": 42,
     "metadata": {},
     "output_type": "execute_result"
    }
   ],
   "source": [
    "from sklearn.utils import shuffle\n",
    "\n",
    "indices = shuffle(frame.index, random_state=1)\n",
    "\n",
    "split = int(len(frame) * (1 - 0.25))\n",
    "train = frame.iloc[indices][:split]\n",
    "test = frame.iloc[indices][split:]\n",
    "\n",
    "split, \"Столько у нас тренировочных цветов\""
   ]
  },
  {
   "cell_type": "markdown",
   "metadata": {},
   "source": [
    "#### 1.5.4 Моделирование\n",
    "\n",
    "Возьмем простую модель классификации на основе ближайших соседей. Алгоритм предсказывает класс исходя из классов своих ближайших соседей для нового примера. Ближайшие соседи голосуют своим количеством за класс (какого класса рядом больше, тот и выиграл).\n",
    "\n",
    "Этот алгоритм - на самом деле запоминает всю тренировочную выборку. Вспомним, что он является PAC-обучаемым, если данные по разным классам \"кучкуются\", образуют некоторые кластеры. Судя по результатам визуального анализа - наш случай."
   ]
  },
  {
   "cell_type": "code",
   "execution_count": 43,
   "metadata": {},
   "outputs": [],
   "source": [
    "from sklearn.neighbors import KNeighborsClassifier\n",
    "\n",
    "# создадим объект-классификатор и будем определять класс по 5 ближайшим соседям\n",
    "classifier_5 = KNeighborsClassifier(n_neighbors=5)\n",
    "\n",
    "# создадим второй, и будем определять уже по 10\n",
    "classifier_10 = KNeighborsClassifier(n_neighbors=10)\n",
    "\n",
    "# применим алгоритм к тренировочным данным\n",
    "classifier_5.fit(train[reduced_features], train.sort)\n",
    "classifier_10.fit(train[reduced_features], train.sort)\n",
    "\n",
    "# получим предсказания на тренировочном и тестовом множествах\n",
    "yhat_train_5 = classifier_5.predict(train[reduced_features])\n",
    "yhat_test_5 = classifier_5.predict(test[reduced_features])\n",
    "\n",
    "yhat_train_10 = classifier_10.predict(train[reduced_features])\n",
    "yhat_test_10 = classifier_10.predict(test[reduced_features])"
   ]
  },
  {
   "cell_type": "markdown",
   "metadata": {},
   "source": [
    "#### 1.5.5 Проверка качества"
   ]
  },
  {
   "cell_type": "markdown",
   "metadata": {},
   "source": [
    "Выберем в качестве метрики - процент правильно отмеченных цветов. Чем это число выше - тем классификатор лучше. Потом учтем так же, что разные цветы стоят по-разному!"
   ]
  },
  {
   "cell_type": "code",
   "execution_count": 44,
   "metadata": {},
   "outputs": [
    {
     "name": "stdout",
     "output_type": "stream",
     "text": [
      "classifier_5 train 0.99\n",
      "classifier_5 test 0.92\n",
      "classifier_10 train 0.99\n",
      "classifier_10 test 0.95\n"
     ]
    }
   ],
   "source": [
    "from sklearn.metrics import accuracy_score\n",
    "\n",
    "print('classifier_5', 'train', \"%.2f\" % accuracy_score(train.sort, yhat_train_5))\n",
    "print('classifier_5', 'test', \"%.2f\" % accuracy_score(test.sort, yhat_test_5))\n",
    "\n",
    "print('classifier_10', 'train', \"%.2f\" % accuracy_score(train.sort, yhat_train_10))\n",
    "print('classifier_10', 'test', \"%.2f\" % accuracy_score(test.sort, yhat_test_10))"
   ]
  },
  {
   "cell_type": "markdown",
   "metadata": {},
   "source": [
    "Здесь мы видим, что оба классификатор **переобучились**. То есть они про тренировочное множество знают куда больше, чем в принципе о данных (судя по метрике на тестовом множестве). Это случай высокой ошибки оценивания (разброса), когда модель может \"освоить данные\", но делает это перебор как усердно. \n",
    "\n",
    "*Однако это то, что и должен делать алгоритм ближайших соседей* - он же запоминает. Однако следует заметить, что в случае с 10-ю соседями, переобучение меньше, и предсказательная сила модели - выше."
   ]
  },
  {
   "cell_type": "code",
   "execution_count": 45,
   "metadata": {},
   "outputs": [
    {
     "name": "stdout",
     "output_type": "stream",
     "text": [
      "Должно стоить 5080, а предсказано 5160\n",
      "Должно стоить 5080, а предсказано 5080\n"
     ]
    }
   ],
   "source": [
    "# измерим теперь ошибку в деньгах\n",
    "# следующая функция подсчитывает таблицу ошибок по классам\n",
    "\n",
    "prices = {\n",
    "    'setosa': 100,\n",
    "    'versicolor': 120,\n",
    "    'virginica': 200\n",
    "}\n",
    "\n",
    "def money_error(true_set, predictions):\n",
    "    cost_true = sum([\n",
    "        prices[true_set['name'][index]] \\\n",
    "        for index in true_set.index\n",
    "    ])\n",
    "    cost_predicted = sum([\n",
    "        prices[iris.target_names[int(prediction)]] \\\n",
    "        for prediction in predictions\n",
    "    ])\n",
    "    print(\"Должно стоить %d, а предсказано %d\" % (\n",
    "        cost_true, cost_predicted\n",
    "    ))\n",
    "\n",
    "money_error(test, yhat_test_5)\n",
    "money_error(test, yhat_test_10)"
   ]
  },
  {
   "cell_type": "code",
   "execution_count": 46,
   "metadata": {},
   "outputs": [
    {
     "name": "stdout",
     "output_type": "stream",
     "text": [
      "5 neighbors\n",
      "[[14  0  0]\n",
      " [ 0 12  2]\n",
      " [ 0  1  9]]\n",
      "\n",
      "10 neighbors\n",
      "[[14  0  0]\n",
      " [ 0 13  1]\n",
      " [ 0  1  9]]\n"
     ]
    }
   ],
   "source": [
    "# а посмотрим-ка, как алгоритмы ошибаются\n",
    "from sklearn.metrics import confusion_matrix\n",
    "\n",
    "print('5 neighbors')\n",
    "print(confusion_matrix(test.sort, yhat_test_5))\n",
    "print()\n",
    "print('10 neighbors')\n",
    "print(confusion_matrix(test.sort, yhat_test_10))"
   ]
  },
  {
   "cell_type": "markdown",
   "metadata": {},
   "source": [
    "На главной диагонали это матрицы стоит число *правильно* классифицированных примеров, а в остальных ячейках - перепутанные при предсказании метки (по горизонтали - актуальные значения, а по вертикали - предсказанные). То есть в ячейке (2 по вертикали, 3 по горизонтали) стоит число примеров, отнесенных моделью к классу 2 вместо 3. А теперь, как и было обещано, проверим со качество всеми признаками (на 10 соседях)."
   ]
  },
  {
   "cell_type": "code",
   "execution_count": 47,
   "metadata": {},
   "outputs": [
    {
     "name": "stdout",
     "output_type": "stream",
     "text": [
      "Должно стоить 5080, а предсказано 5000\n"
     ]
    }
   ],
   "source": [
    "classifier = KNeighborsClassifier(n_neighbors=10)\n",
    "classifier.fit(train[features], train.sort)\n",
    "yhat_test = classifier.predict(test[features])\n",
    "\n",
    "money_error(test, yhat_test)"
   ]
  },
  {
   "cell_type": "markdown",
   "metadata": {},
   "source": [
    "Ну что ж, так и есть, тот признак слегка портил модель. На основании исследования метрик, можно принимать решение, какую модель внедрять.\n",
    "\n",
    "> На этом курсе каждая команда должна пройти эти пять шагов как минимум. Мы приложим все усилия, чтобы у вас это получилось.\n",
    "\n",
    "Рассмотрим что такое **кросс-валидация**."
   ]
  },
  {
   "cell_type": "markdown",
   "metadata": {},
   "source": [
    "**Кросс-валидация** - это метод подсчета метрик модели, используя все доступные данные. Делается это для того, чтобы снизить влияние разбиения данных на принятие конечного решения.\n",
    "\n",
    "Кросс-валидация делается так:\n",
    "1. Всё множество разбивается на `K` частей,\n",
    "2. На всех частях кроме одной обучается модель,\n",
    "3. Качество проверяется на одной отложенной части,\n",
    "4. Процесс повторяется `K` раз, пока все части не побудут тестовыми.\n",
    "\n",
    "Здесь важно пояснить. Если с кросс-валидацией для регрессии всё просто - бьем на части, учимся на одних, проверяем качество на отложенной, то с классификацией всё почти так же... за исключением того момента, что разбиение на части производится ***стратифицированно***: датасет бьется на части так, чтобы соотношение классов в каждой части сохранялось по отношению ко всему датасету. То есть если у нас 1/1/1 для всех цветков ириса, то при разбиении на части этот баланс будет сохранен.\n",
    "\n",
    "> ВНИМАНИЕ! Метод `train_test_split` из *scikit-learn* делает по умолчанию стратифицированное разбиение при классификации. Это нужно и важно. В курсе иногда \"наивно\" используется `shuffle` (простое перемешивание), что не до конца корректно (при, опять же, классификации). Обращайте на это внимание. Как перемешаны данные - важно.\n",
    "\n",
    "\"В природе\" так же встречаются и сильно несбалансированные датасеты - для работы с этим используются отдельные техники: либо классы балансируют, либо работают с регуляризацией (штрафами модели на коэффициенты), либо используют веса для примеров (вес редкого примера выше, такие веса можно передавать третьим параметром `fit` у некоторых алгоритмов)."
   ]
  },
  {
   "cell_type": "code",
   "execution_count": 48,
   "metadata": {},
   "outputs": [
    {
     "data": {
      "text/plain": [
       "array([0.96666667, 0.96666667, 0.96666667, 0.96666667, 1.        ])"
      ]
     },
     "execution_count": 48,
     "metadata": {},
     "output_type": "execute_result"
    }
   ],
   "source": [
    "from sklearn.model_selection import cross_val_score\n",
    "\n",
    "metrics = cross_val_score(\n",
    "    KNeighborsClassifier(n_neighbors=3),\n",
    "    X=frame[reduced_features],\n",
    "    y=frame.sort,\n",
    "    cv=5 # пять частей\n",
    ")\n",
    "\n",
    "metrics"
   ]
  },
  {
   "cell_type": "code",
   "execution_count": 49,
   "metadata": {},
   "outputs": [
    {
     "name": "stdout",
     "output_type": "stream",
     "text": [
      "Ожидаемое среднее качество 0.97\n",
      "Разброс среднего качества 0.01\n"
     ]
    }
   ],
   "source": [
    "print(\"Ожидаемое среднее качество %.2f\" % metrics.mean())\n",
    "print(\"Разброс среднего качества %.2f\" % metrics.std())"
   ]
  },
  {
   "cell_type": "markdown",
   "metadata": {},
   "source": [
    "### Заключение\n",
    "\n",
    "В заключение следует отметить пару вещей:\n",
    "1. Процесс CRISP-DM не гарантирует качественной модели, но без него вы точно её не получите,\n",
    "2. Модели имеет смысл кросс-валидировать, чтобы использовать все доступные данные. Часто это используют при отборе гиперпараметров - в нашем случае это число ближайших соседей. Но об этом будет еще в нашем курсе позже."
   ]
  },
  {
   "cell_type": "markdown",
   "metadata": {},
   "source": [
    "## 1.6 Обзор всего курса на примерах предсказаний"
   ]
  },
  {
   "cell_type": "markdown",
   "metadata": {},
   "source": [
    "Этот обзорный блок о том, с чем курс нас познакомит. \n",
    "\n",
    "### Второй день - обучение с учителем\n",
    "В основном, на моделях из библиотеки `scikit-learn`. Начнем все же со специализированных библиотек работы с массивами, табличными данными и их визуализацией, и уделим внимание *Exploratory Data Analysis* (EDA, разведочный анализ данных). Он в первую очередь нужен для того, чтобы понять что делать с имеющимися признаками и с какого алгоритма имеет смысл начинать.\n",
    "\n",
    "Далее на примере задач регрессии и классификации, мы рассмотрим такие алгоритмы, как:\n",
    "- линейный. В случае классификации он \"пытается\" линейно разделить классы.\n",
    "\n",
    "![linear_iris](media/review/linear_iris.png)\n",
    "\n",
    "- деревья решений и ансамбли деревьев решений, которые делают разделение на основе \"правил\".\n",
    "\n",
    "![tree_iris](media/review/tree_iris.png)\n",
    "\n",
    "- ближайших соседей, когда решение принимается исходя из схожих примеров.\n",
    "\n",
    "![knn_iris](media/review/knn_iris.png)\n",
    "\n",
    "Также на примере ближайших соседей мы посмотрим на базовые способы обработки текстов. С помощью размеченных категорий датасета переписок - мы научимся относить их к определенным классам.\n",
    "\n",
    "- неглубоких нейросетей, которые сами ищут такое признаковое представление, чтобы классы были разделимы. \n",
    "\n",
    "![ann_iris](media/review/ann_iris.png)\n"
   ]
  },
  {
   "cell_type": "markdown",
   "metadata": {},
   "source": [
    "### Третий день - задачи без учителя и временные ряды\n",
    "\n",
    "День будет посвящен работе с неразмеченными данными, без меток правильных ответов - да, с такими данными тоже можно что-то проделывать полезное. Но все же начнется со способов автоматического отбора моделей, а затем будут рассмотрены задачи:\n",
    "- понижения размерности и мы узнаем как можно извлекать из неразмеченных текстов наиболее характеризующие их слова.\n",
    "- кластеризации, то есть сумеем отнести примеры к той или иной группе, посмотрим один из способов как найти наилучшее число групп,\n",
    "\n",
    "![kmeans_iris](media/review/kmeans_iris.png)\n",
    "\n",
    "- поиска аномалий в данных, то есть поиска с помощью модели сильно отличающихся от остальных примеров.\n",
    "\n",
    "Еще мы узнаем как можно продолжать одномерные временные ряды:\n",
    "\n",
    "![prophet_airpassengers](media/review/prophet_airpassengers.png)\n",
    "\n",
    "и как можно использовать предсказаний одних моделей как вход для других моделей (на примере погоды)."
   ]
  },
  {
   "cell_type": "markdown",
   "metadata": {},
   "source": [
    "### Четвертый день - нейросети\n",
    "\n",
    "Этот день будет полностью нейросетям и некоторым задачам, которые можно решать с помощью них библиотекой `keras`. Классические регрессию и классификацию можно решать не только на табличных данных, но и на изображениях, текстах и многомерных временных рядах, например мы рассмотрим:\n",
    "\n",
    "- задачу сжатия представления входных данных до вектора и обратного преобразования с помощью сетей-автокодировщиков.\n",
    "\n",
    "![ae_fashion](media/review/ae_fashion.png)\n",
    "\n",
    "- задачу сегментации объектов (например наручных часов на изображении) с помощью сети `Unet`.\n",
    "\n",
    "![unet_watches](media/review/unet_watches.png)\n",
    "\n",
    "- готовые сети работы с изображениями и текстами. Например, построим простого вопросно-ответного-бота. Ему будут известны и вопросы, и ответы, но вопросы могут быть произвольными. Узнаем как возможно извлекать именованные сущности из текста (имена, события и др.), или суммаризировать тексты (извлекать основное из них).\n",
    "\n",
    "- посмотрим, как отдавать сети последовательные многомерные данные (не один ряд, а несколько) - на примере всё той же погоды.\n",
    "\n",
    "![gru_weather](media/review/gru_weather.png)"
   ]
  },
  {
   "cell_type": "markdown",
   "metadata": {},
   "source": [
    "### Пятый день - интерпретация, презентация и внедрение моделей\n",
    "\n",
    "А пятый день посвящен тому, что модель - это еще не окончание всех дел, а только начало. В частности узнаем, что:\n",
    "- предсказания моделей можно и нужно интепретировать.\n",
    "- модели можно и нужно разворачивать как сервис, и делать для них интерактивные презентации.\n",
    "- так как модели работают с ошибкой, необходимо убеждаться что они действительно улучшают процесс. Делается это через особый дизайн экспериментов."
   ]
  }
 ],
 "metadata": {
  "kernelspec": {
   "display_name": "py35",
   "language": "python",
   "name": "py35"
  },
  "language_info": {
   "codemirror_mode": {
    "name": "ipython",
    "version": 3
   },
   "file_extension": ".py",
   "mimetype": "text/x-python",
   "name": "python",
   "nbconvert_exporter": "python",
   "pygments_lexer": "ipython3",
   "version": "3.6.6"
  }
 },
 "nbformat": 4,
 "nbformat_minor": 2
}
